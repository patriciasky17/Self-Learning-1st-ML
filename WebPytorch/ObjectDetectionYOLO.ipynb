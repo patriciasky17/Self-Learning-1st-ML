{
  "cells": [
    {
      "cell_type": "code",
      "execution_count": null,
      "metadata": {
        "id": "8sTaRlhqfsr2"
      },
      "outputs": [],
      "source": [
        "%pip install opencv-python"
      ]
    },
    {
      "cell_type": "code",
      "execution_count": null,
      "metadata": {
        "colab": {
          "base_uri": "https://localhost:8080/"
        },
        "id": "Mk7RxCqacZ2C",
        "outputId": "45ddfde1-c8be-4903-be40-eb369fc9f049"
      },
      "outputs": [
        {
          "name": "stdout",
          "output_type": "stream",
          "text": [
            "Ultralytics YOLOv8.2.77 🚀 Python-3.10.12 torch-2.3.1+cu121 CUDA:0 (Tesla T4, 15102MiB)\n",
            "Setup complete ✅ (2 CPUs, 12.7 GB RAM, 33.7/78.2 GB disk)\n"
          ]
        }
      ],
      "source": [
        "%pip install ultralytics\n",
        "import ultralytics\n",
        "ultralytics.checks()"
      ]
    },
    {
      "cell_type": "code",
      "execution_count": null,
      "metadata": {
        "colab": {
          "base_uri": "https://localhost:8080/"
        },
        "id": "hMVAvyMfdBaY",
        "outputId": "7a2910b8-cb8e-44cc-dc59-ad68544051f6"
      },
      "outputs": [
        {
          "name": "stderr",
          "output_type": "stream",
          "text": [
            "100%|██████████| 780M/780M [00:09<00:00, 84.2MB/s]\n"
          ]
        }
      ],
      "source": [
        "# Download COCO val\n",
        "import torch\n",
        "torch.hub.download_url_to_file('https://ultralytics.com/assets/coco2017val.zip', 'tmp.zip')  # download (780M - 5000 images)\n",
        "!unzip -q tmp.zip -d datasets && rm tmp.zip  # unzip"
      ]
    },
    {
      "cell_type": "code",
      "execution_count": null,
      "metadata": {
        "colab": {
          "base_uri": "https://localhost:8080/"
        },
        "id": "Lmqz-lFydB7d",
        "outputId": "cb4dc066-288b-4b56-f7a3-20b510ce993b"
      },
      "outputs": [
        {
          "name": "stdout",
          "output_type": "stream",
          "text": [
            "Downloading https://github.com/ultralytics/assets/releases/download/v8.2.0/yolov8n.pt to 'yolov8n.pt'...\n",
            "100% 6.25M/6.25M [00:00<00:00, 113MB/s]\n",
            "Ultralytics YOLOv8.2.76 🚀 Python-3.10.12 torch-2.3.1+cu121 CUDA:0 (Tesla T4, 15102MiB)\n",
            "YOLOv8n summary (fused): 168 layers, 3,151,904 parameters, 0 gradients, 8.7 GFLOPs\n",
            "\n",
            "Dataset 'coco8.yaml' images not found ⚠️, missing path '/content/datasets/coco8/images/val'\n",
            "Downloading https://ultralytics.com/assets/coco8.zip to '/content/datasets/coco8.zip'...\n",
            "100% 433k/433k [00:00<00:00, 13.8MB/s]\n",
            "Unzipping /content/datasets/coco8.zip to /content/datasets/coco8...: 100% 25/25 [00:00<00:00, 3150.49file/s]\n",
            "Dataset download success ✅ (0.9s), saved to \u001b[1m/content/datasets\u001b[0m\n",
            "\n",
            "Downloading https://ultralytics.com/assets/Arial.ttf to '/root/.config/Ultralytics/Arial.ttf'...\n",
            "100% 755k/755k [00:00<00:00, 17.6MB/s]\n",
            "\u001b[34m\u001b[1mval: \u001b[0mScanning /content/datasets/coco8/labels/val... 4 images, 0 backgrounds, 0 corrupt: 100% 4/4 [00:00<00:00, 91.28it/s]\n",
            "\u001b[34m\u001b[1mval: \u001b[0mNew cache created: /content/datasets/coco8/labels/val.cache\n",
            "                 Class     Images  Instances      Box(P          R      mAP50  mAP50-95): 100% 1/1 [00:02<00:00,  2.48s/it]\n",
            "                   all          4         17      0.621      0.833      0.888       0.63\n",
            "                person          3         10      0.721        0.5      0.519      0.269\n",
            "                   dog          1          1       0.37          1      0.995      0.597\n",
            "                 horse          1          2      0.751          1      0.995      0.631\n",
            "              elephant          1          2      0.505        0.5      0.828      0.394\n",
            "              umbrella          1          1      0.564          1      0.995      0.995\n",
            "          potted plant          1          1      0.814          1      0.995      0.895\n",
            "Speed: 0.3ms preprocess, 24.1ms inference, 0.0ms loss, 229.5ms postprocess per image\n",
            "Results saved to \u001b[1mruns/detect/val\u001b[0m\n",
            "💡 Learn more at https://docs.ultralytics.com/modes/val\n"
          ]
        }
      ],
      "source": [
        "# Validate YOLOv8n on COCO8 val\n",
        "!yolo val model=yolov8n.pt data=coco8.yaml"
      ]
    },
    {
      "cell_type": "code",
      "execution_count": null,
      "metadata": {
        "colab": {
          "base_uri": "https://localhost:8080/"
        },
        "id": "064T7NaJda1b",
        "outputId": "3263d01b-e3c0-4d59-cd3e-366722060582"
      },
      "outputs": [
        {
          "name": "stdout",
          "output_type": "stream",
          "text": [
            "Mounted at /content/drive\n"
          ]
        }
      ],
      "source": [
        "from google.colab import drive\n",
        "drive.mount(\"/content/drive\")"
      ]
    },
    {
      "cell_type": "code",
      "execution_count": null,
      "metadata": {
        "id": "4n3pKWuudtoK"
      },
      "outputs": [],
      "source": [
        "import os\n",
        "import cv2\n",
        "import sys\n",
        "\n",
        "base_dir = \"/content/drive/My Drive/Rock_Paper_Scissors\"\n",
        "\n",
        "train_data_dir = os.path.join(base_dir, \"train\")\n",
        "val_data_dir = os.path.join(base_dir, \"valid\")\n",
        "test_data_dir = os.path.join(base_dir, \"test\")"
      ]
    },
    {
      "cell_type": "code",
      "execution_count": null,
      "metadata": {
        "id": "_Ovar8rYfN4_"
      },
      "outputs": [],
      "source": [
        "image_size = (640, 640)\n",
        "class_names = [\"paper\", \"rock\", \"scissors\"]"
      ]
    },
    {
      "cell_type": "markdown",
      "metadata": {
        "id": "Xe-y0kfki4Cc"
      },
      "source": [
        "## Train Model"
      ]
    },
    {
      "cell_type": "code",
      "execution_count": null,
      "metadata": {
        "colab": {
          "base_uri": "https://localhost:8080/"
        },
        "id": "8G329XbpTZK-",
        "outputId": "eedaad5b-0a58-45a8-b2a9-f96984e31a16"
      },
      "outputs": [
        {
          "name": "stdout",
          "output_type": "stream",
          "text": [
            "Ultralytics YOLOv8.2.76 🚀 Python-3.10.12 torch-2.3.1+cu121 CUDA:0 (Tesla T4, 15102MiB)\n",
            "\u001b[34m\u001b[1mengine/trainer: \u001b[0mtask=detect, mode=train, model=yolov8n.pt, data=/content/drive/My Drive/Rock_Paper_Scissors/data.yaml, epochs=50, time=None, patience=100, batch=16, imgsz=640, save=True, save_period=-1, cache=False, device=None, workers=8, project=None, name=train, exist_ok=False, pretrained=True, optimizer=auto, verbose=True, seed=0, deterministic=True, single_cls=False, rect=False, cos_lr=False, close_mosaic=10, resume=False, amp=True, fraction=1.0, profile=False, freeze=None, multi_scale=False, overlap_mask=True, mask_ratio=4, dropout=0.0, val=True, split=val, save_json=False, save_hybrid=False, conf=None, iou=0.7, max_det=300, half=False, dnn=False, plots=True, source=None, vid_stride=1, stream_buffer=False, visualize=False, augment=False, agnostic_nms=False, classes=None, retina_masks=False, embed=None, show=False, save_frames=False, save_txt=False, save_conf=False, save_crop=False, show_labels=True, show_conf=True, show_boxes=True, line_width=None, format=torchscript, keras=False, optimize=False, int8=False, dynamic=False, simplify=False, opset=None, workspace=4, nms=False, lr0=0.01, lrf=0.01, momentum=0.937, weight_decay=0.0005, warmup_epochs=3.0, warmup_momentum=0.8, warmup_bias_lr=0.1, box=7.5, cls=0.5, dfl=1.5, pose=12.0, kobj=1.0, label_smoothing=0.0, nbs=64, hsv_h=0.015, hsv_s=0.7, hsv_v=0.4, degrees=0.0, translate=0.1, scale=0.5, shear=0.0, perspective=0.0, flipud=0.0, fliplr=0.5, bgr=0.0, mosaic=1.0, mixup=0.0, copy_paste=0.0, auto_augment=randaugment, erasing=0.4, crop_fraction=1.0, cfg=None, tracker=botsort.yaml, save_dir=runs/detect/train\n",
            "Overriding model.yaml nc=80 with nc=3\n",
            "\n",
            "                   from  n    params  module                                       arguments                     \n",
            "  0                  -1  1       464  ultralytics.nn.modules.conv.Conv             [3, 16, 3, 2]                 \n",
            "  1                  -1  1      4672  ultralytics.nn.modules.conv.Conv             [16, 32, 3, 2]                \n",
            "  2                  -1  1      7360  ultralytics.nn.modules.block.C2f             [32, 32, 1, True]             \n",
            "  3                  -1  1     18560  ultralytics.nn.modules.conv.Conv             [32, 64, 3, 2]                \n",
            "  4                  -1  2     49664  ultralytics.nn.modules.block.C2f             [64, 64, 2, True]             \n",
            "  5                  -1  1     73984  ultralytics.nn.modules.conv.Conv             [64, 128, 3, 2]               \n",
            "  6                  -1  2    197632  ultralytics.nn.modules.block.C2f             [128, 128, 2, True]           \n",
            "  7                  -1  1    295424  ultralytics.nn.modules.conv.Conv             [128, 256, 3, 2]              \n",
            "  8                  -1  1    460288  ultralytics.nn.modules.block.C2f             [256, 256, 1, True]           \n",
            "  9                  -1  1    164608  ultralytics.nn.modules.block.SPPF            [256, 256, 5]                 \n",
            " 10                  -1  1         0  torch.nn.modules.upsampling.Upsample         [None, 2, 'nearest']          \n",
            " 11             [-1, 6]  1         0  ultralytics.nn.modules.conv.Concat           [1]                           \n",
            " 12                  -1  1    148224  ultralytics.nn.modules.block.C2f             [384, 128, 1]                 \n",
            " 13                  -1  1         0  torch.nn.modules.upsampling.Upsample         [None, 2, 'nearest']          \n",
            " 14             [-1, 4]  1         0  ultralytics.nn.modules.conv.Concat           [1]                           \n",
            " 15                  -1  1     37248  ultralytics.nn.modules.block.C2f             [192, 64, 1]                  \n",
            " 16                  -1  1     36992  ultralytics.nn.modules.conv.Conv             [64, 64, 3, 2]                \n",
            " 17            [-1, 12]  1         0  ultralytics.nn.modules.conv.Concat           [1]                           \n",
            " 18                  -1  1    123648  ultralytics.nn.modules.block.C2f             [192, 128, 1]                 \n",
            " 19                  -1  1    147712  ultralytics.nn.modules.conv.Conv             [128, 128, 3, 2]              \n",
            " 20             [-1, 9]  1         0  ultralytics.nn.modules.conv.Concat           [1]                           \n",
            " 21                  -1  1    493056  ultralytics.nn.modules.block.C2f             [384, 256, 1]                 \n",
            " 22        [15, 18, 21]  1    751897  ultralytics.nn.modules.head.Detect           [3, [64, 128, 256]]           \n",
            "Model summary: 225 layers, 3,011,433 parameters, 3,011,417 gradients, 8.2 GFLOPs\n",
            "\n",
            "Transferred 319/355 items from pretrained weights\n",
            "\u001b[34m\u001b[1mTensorBoard: \u001b[0mStart with 'tensorboard --logdir runs/detect/train', view at http://localhost:6006/\n",
            "Freezing layer 'model.22.dfl.conv.weight'\n",
            "\u001b[34m\u001b[1mAMP: \u001b[0mrunning Automatic Mixed Precision (AMP) checks with YOLOv8n...\n",
            "\u001b[34m\u001b[1mAMP: \u001b[0mchecks passed ✅\n"
          ]
        },
        {
          "name": "stderr",
          "output_type": "stream",
          "text": [
            "\u001b[34m\u001b[1mtrain: \u001b[0mScanning /content/drive/My Drive/Rock_Paper_Scissors/train/labels... 6455 images, 2516 backgrounds, 0 corrupt: 100%|██████████| 6455/6455 [27:17<00:00,  3.94it/s]\n"
          ]
        },
        {
          "name": "stdout",
          "output_type": "stream",
          "text": [
            "\u001b[34m\u001b[1mtrain: \u001b[0mNew cache created: /content/drive/My Drive/Rock_Paper_Scissors/train/labels.cache\n",
            "\u001b[34m\u001b[1malbumentations: \u001b[0mBlur(p=0.01, blur_limit=(3, 7)), MedianBlur(p=0.01, blur_limit=(3, 7)), ToGray(p=0.01), CLAHE(p=0.01, clip_limit=(1, 4.0), tile_grid_size=(8, 8))\n"
          ]
        },
        {
          "name": "stderr",
          "output_type": "stream",
          "text": [
            "/usr/lib/python3.10/multiprocessing/popen_fork.py:66: RuntimeWarning: os.fork() was called. os.fork() is incompatible with multithreaded code, and JAX is multithreaded, so this will likely lead to a deadlock.\n",
            "  self.pid = os.fork()\n",
            "\u001b[34m\u001b[1mval: \u001b[0mScanning /content/drive/My Drive/Rock_Paper_Scissors/valid/labels... 576 images, 238 backgrounds, 0 corrupt: 100%|██████████| 576/576 [01:56<00:00,  4.93it/s]\n"
          ]
        },
        {
          "name": "stdout",
          "output_type": "stream",
          "text": [
            "\u001b[34m\u001b[1mval: \u001b[0mNew cache created: /content/drive/My Drive/Rock_Paper_Scissors/valid/labels.cache\n",
            "Plotting labels to runs/detect/train/labels.jpg... \n",
            "\u001b[34m\u001b[1moptimizer:\u001b[0m 'optimizer=auto' found, ignoring 'lr0=0.01' and 'momentum=0.937' and determining best 'optimizer', 'lr0' and 'momentum' automatically... \n",
            "\u001b[34m\u001b[1moptimizer:\u001b[0m AdamW(lr=0.001429, momentum=0.9) with parameter groups 57 weight(decay=0.0), 64 weight(decay=0.0005), 63 bias(decay=0.0)\n",
            "\u001b[34m\u001b[1mTensorBoard: \u001b[0mmodel graph visualization added ✅\n",
            "Image sizes 640 train, 640 val\n",
            "Using 2 dataloader workers\n",
            "Logging results to \u001b[1mruns/detect/train\u001b[0m\n",
            "Starting training for 50 epochs...\n",
            "\n",
            "      Epoch    GPU_mem   box_loss   cls_loss   dfl_loss  Instances       Size\n"
          ]
        },
        {
          "name": "stderr",
          "output_type": "stream",
          "text": [
            "       1/50      2.45G      1.269      2.963      1.449         10        640: 100%|██████████| 404/404 [02:49<00:00,  2.38it/s]\n",
            "                 Class     Images  Instances      Box(P          R      mAP50  mAP50-95): 100%|██████████| 18/18 [00:09<00:00,  1.94it/s]\n"
          ]
        },
        {
          "name": "stdout",
          "output_type": "stream",
          "text": [
            "                   all        576        400      0.565      0.481      0.489      0.302\n",
            "\n",
            "      Epoch    GPU_mem   box_loss   cls_loss   dfl_loss  Instances       Size\n"
          ]
        },
        {
          "name": "stderr",
          "output_type": "stream",
          "text": [
            "       2/50      2.25G      1.349       2.12      1.488          7        640: 100%|██████████| 404/404 [02:43<00:00,  2.48it/s]\n",
            "                 Class     Images  Instances      Box(P          R      mAP50  mAP50-95): 100%|██████████| 18/18 [00:06<00:00,  2.89it/s]"
          ]
        },
        {
          "name": "stdout",
          "output_type": "stream",
          "text": [
            "                   all        576        400      0.485      0.528      0.479      0.273\n"
          ]
        },
        {
          "name": "stderr",
          "output_type": "stream",
          "text": [
            "\n"
          ]
        },
        {
          "name": "stdout",
          "output_type": "stream",
          "text": [
            "\n",
            "      Epoch    GPU_mem   box_loss   cls_loss   dfl_loss  Instances       Size\n"
          ]
        },
        {
          "name": "stderr",
          "output_type": "stream",
          "text": [
            "       3/50      2.27G      1.371      1.881       1.49          6        640: 100%|██████████| 404/404 [02:41<00:00,  2.50it/s]\n",
            "                 Class     Images  Instances      Box(P          R      mAP50  mAP50-95): 100%|██████████| 18/18 [00:07<00:00,  2.27it/s]"
          ]
        },
        {
          "name": "stdout",
          "output_type": "stream",
          "text": [
            "                   all        576        400      0.664      0.669      0.695      0.436\n"
          ]
        },
        {
          "name": "stderr",
          "output_type": "stream",
          "text": [
            "\n"
          ]
        },
        {
          "name": "stdout",
          "output_type": "stream",
          "text": [
            "\n",
            "      Epoch    GPU_mem   box_loss   cls_loss   dfl_loss  Instances       Size\n"
          ]
        },
        {
          "name": "stderr",
          "output_type": "stream",
          "text": [
            "       4/50      2.25G      1.335      1.729      1.451         13        640: 100%|██████████| 404/404 [02:39<00:00,  2.53it/s]\n",
            "                 Class     Images  Instances      Box(P          R      mAP50  mAP50-95): 100%|██████████| 18/18 [00:08<00:00,  2.10it/s]"
          ]
        },
        {
          "name": "stdout",
          "output_type": "stream",
          "text": [
            "                   all        576        400       0.71      0.554      0.656      0.383\n"
          ]
        },
        {
          "name": "stderr",
          "output_type": "stream",
          "text": [
            "\n"
          ]
        },
        {
          "name": "stdout",
          "output_type": "stream",
          "text": [
            "\n",
            "      Epoch    GPU_mem   box_loss   cls_loss   dfl_loss  Instances       Size\n"
          ]
        },
        {
          "name": "stderr",
          "output_type": "stream",
          "text": [
            "       5/50      2.25G       1.29      1.603      1.422          6        640: 100%|██████████| 404/404 [02:36<00:00,  2.58it/s]\n",
            "                 Class     Images  Instances      Box(P          R      mAP50  mAP50-95): 100%|██████████| 18/18 [00:06<00:00,  2.92it/s]"
          ]
        },
        {
          "name": "stdout",
          "output_type": "stream",
          "text": [
            "                   all        576        400      0.698      0.719      0.764      0.517\n"
          ]
        },
        {
          "name": "stderr",
          "output_type": "stream",
          "text": [
            "\n"
          ]
        },
        {
          "name": "stdout",
          "output_type": "stream",
          "text": [
            "\n",
            "      Epoch    GPU_mem   box_loss   cls_loss   dfl_loss  Instances       Size\n"
          ]
        },
        {
          "name": "stderr",
          "output_type": "stream",
          "text": [
            "       6/50      2.25G      1.224      1.429      1.375          9        640: 100%|██████████| 404/404 [02:36<00:00,  2.58it/s]\n",
            "                 Class     Images  Instances      Box(P          R      mAP50  mAP50-95): 100%|██████████| 18/18 [00:06<00:00,  2.83it/s]"
          ]
        },
        {
          "name": "stdout",
          "output_type": "stream",
          "text": [
            "                   all        576        400      0.807      0.641      0.746       0.52\n"
          ]
        },
        {
          "name": "stderr",
          "output_type": "stream",
          "text": [
            "\n"
          ]
        },
        {
          "name": "stdout",
          "output_type": "stream",
          "text": [
            "\n",
            "      Epoch    GPU_mem   box_loss   cls_loss   dfl_loss  Instances       Size\n"
          ]
        },
        {
          "name": "stderr",
          "output_type": "stream",
          "text": [
            "       7/50      2.25G      1.177      1.336      1.347          6        640: 100%|██████████| 404/404 [02:34<00:00,  2.61it/s]\n",
            "                 Class     Images  Instances      Box(P          R      mAP50  mAP50-95): 100%|██████████| 18/18 [00:08<00:00,  2.08it/s]"
          ]
        },
        {
          "name": "stdout",
          "output_type": "stream",
          "text": [
            "                   all        576        400      0.837      0.825       0.89      0.623\n"
          ]
        },
        {
          "name": "stderr",
          "output_type": "stream",
          "text": [
            "\n"
          ]
        },
        {
          "name": "stdout",
          "output_type": "stream",
          "text": [
            "\n",
            "      Epoch    GPU_mem   box_loss   cls_loss   dfl_loss  Instances       Size\n"
          ]
        },
        {
          "name": "stderr",
          "output_type": "stream",
          "text": [
            "       8/50      2.25G      1.175      1.294      1.343         13        640: 100%|██████████| 404/404 [02:33<00:00,  2.62it/s]\n",
            "                 Class     Images  Instances      Box(P          R      mAP50  mAP50-95): 100%|██████████| 18/18 [00:09<00:00,  2.00it/s]"
          ]
        },
        {
          "name": "stdout",
          "output_type": "stream",
          "text": [
            "                   all        576        400      0.837      0.786      0.868       0.61\n"
          ]
        },
        {
          "name": "stderr",
          "output_type": "stream",
          "text": [
            "\n"
          ]
        },
        {
          "name": "stdout",
          "output_type": "stream",
          "text": [
            "\n",
            "      Epoch    GPU_mem   box_loss   cls_loss   dfl_loss  Instances       Size\n"
          ]
        },
        {
          "name": "stderr",
          "output_type": "stream",
          "text": [
            "       9/50      2.25G      1.139       1.22      1.317         13        640: 100%|██████████| 404/404 [02:38<00:00,  2.54it/s]\n",
            "                 Class     Images  Instances      Box(P          R      mAP50  mAP50-95): 100%|██████████| 18/18 [00:06<00:00,  2.92it/s]"
          ]
        },
        {
          "name": "stdout",
          "output_type": "stream",
          "text": [
            "                   all        576        400      0.772      0.781      0.816      0.571\n"
          ]
        },
        {
          "name": "stderr",
          "output_type": "stream",
          "text": [
            "\n"
          ]
        },
        {
          "name": "stdout",
          "output_type": "stream",
          "text": [
            "\n",
            "      Epoch    GPU_mem   box_loss   cls_loss   dfl_loss  Instances       Size\n"
          ]
        },
        {
          "name": "stderr",
          "output_type": "stream",
          "text": [
            "      10/50      2.25G      1.099      1.155      1.283          5        640: 100%|██████████| 404/404 [02:37<00:00,  2.56it/s]\n",
            "                 Class     Images  Instances      Box(P          R      mAP50  mAP50-95): 100%|██████████| 18/18 [00:06<00:00,  2.72it/s]"
          ]
        },
        {
          "name": "stdout",
          "output_type": "stream",
          "text": [
            "                   all        576        400      0.888      0.804      0.881      0.635\n"
          ]
        },
        {
          "name": "stderr",
          "output_type": "stream",
          "text": [
            "\n"
          ]
        },
        {
          "name": "stdout",
          "output_type": "stream",
          "text": [
            "\n",
            "      Epoch    GPU_mem   box_loss   cls_loss   dfl_loss  Instances       Size\n"
          ]
        },
        {
          "name": "stderr",
          "output_type": "stream",
          "text": [
            "      11/50      2.25G      1.099      1.124      1.289          9        640: 100%|██████████| 404/404 [02:37<00:00,  2.56it/s]\n",
            "                 Class     Images  Instances      Box(P          R      mAP50  mAP50-95): 100%|██████████| 18/18 [00:09<00:00,  1.90it/s]"
          ]
        },
        {
          "name": "stdout",
          "output_type": "stream",
          "text": [
            "                   all        576        400      0.882      0.852      0.905      0.659\n"
          ]
        },
        {
          "name": "stderr",
          "output_type": "stream",
          "text": [
            "\n"
          ]
        },
        {
          "name": "stdout",
          "output_type": "stream",
          "text": [
            "\n",
            "      Epoch    GPU_mem   box_loss   cls_loss   dfl_loss  Instances       Size\n"
          ]
        },
        {
          "name": "stderr",
          "output_type": "stream",
          "text": [
            "      12/50      2.25G      1.074       1.08      1.272          7        640: 100%|██████████| 404/404 [02:37<00:00,  2.57it/s]\n",
            "                 Class     Images  Instances      Box(P          R      mAP50  mAP50-95): 100%|██████████| 18/18 [00:06<00:00,  2.58it/s]"
          ]
        },
        {
          "name": "stdout",
          "output_type": "stream",
          "text": [
            "                   all        576        400      0.879      0.895      0.923      0.689\n"
          ]
        },
        {
          "name": "stderr",
          "output_type": "stream",
          "text": [
            "\n"
          ]
        },
        {
          "name": "stdout",
          "output_type": "stream",
          "text": [
            "\n",
            "      Epoch    GPU_mem   box_loss   cls_loss   dfl_loss  Instances       Size\n"
          ]
        },
        {
          "name": "stderr",
          "output_type": "stream",
          "text": [
            "      13/50      2.25G       1.04      1.034      1.252          7        640: 100%|██████████| 404/404 [02:36<00:00,  2.57it/s]\n",
            "                 Class     Images  Instances      Box(P          R      mAP50  mAP50-95): 100%|██████████| 18/18 [00:06<00:00,  2.97it/s]"
          ]
        },
        {
          "name": "stdout",
          "output_type": "stream",
          "text": [
            "                   all        576        400      0.868      0.852      0.903      0.677\n"
          ]
        },
        {
          "name": "stderr",
          "output_type": "stream",
          "text": [
            "\n"
          ]
        },
        {
          "name": "stdout",
          "output_type": "stream",
          "text": [
            "\n",
            "      Epoch    GPU_mem   box_loss   cls_loss   dfl_loss  Instances       Size\n"
          ]
        },
        {
          "name": "stderr",
          "output_type": "stream",
          "text": [
            "      14/50      2.25G      1.036     0.9979      1.251          9        640: 100%|██████████| 404/404 [02:36<00:00,  2.57it/s]\n",
            "                 Class     Images  Instances      Box(P          R      mAP50  mAP50-95): 100%|██████████| 18/18 [00:06<00:00,  2.82it/s]"
          ]
        },
        {
          "name": "stdout",
          "output_type": "stream",
          "text": [
            "                   all        576        400      0.899      0.884       0.92      0.684\n"
          ]
        },
        {
          "name": "stderr",
          "output_type": "stream",
          "text": [
            "\n"
          ]
        },
        {
          "name": "stdout",
          "output_type": "stream",
          "text": [
            "\n",
            "      Epoch    GPU_mem   box_loss   cls_loss   dfl_loss  Instances       Size\n"
          ]
        },
        {
          "name": "stderr",
          "output_type": "stream",
          "text": [
            "      15/50      2.25G       1.01     0.9767      1.234         15        640: 100%|██████████| 404/404 [02:35<00:00,  2.60it/s]\n",
            "                 Class     Images  Instances      Box(P          R      mAP50  mAP50-95): 100%|██████████| 18/18 [00:09<00:00,  1.95it/s]"
          ]
        },
        {
          "name": "stdout",
          "output_type": "stream",
          "text": [
            "                   all        576        400      0.904      0.908      0.927      0.714\n"
          ]
        },
        {
          "name": "stderr",
          "output_type": "stream",
          "text": [
            "\n"
          ]
        },
        {
          "name": "stdout",
          "output_type": "stream",
          "text": [
            "\n",
            "      Epoch    GPU_mem   box_loss   cls_loss   dfl_loss  Instances       Size\n"
          ]
        },
        {
          "name": "stderr",
          "output_type": "stream",
          "text": [
            "      16/50      2.25G     0.9921     0.9515      1.218          6        640: 100%|██████████| 404/404 [02:37<00:00,  2.56it/s]\n",
            "                 Class     Images  Instances      Box(P          R      mAP50  mAP50-95): 100%|██████████| 18/18 [00:07<00:00,  2.53it/s]"
          ]
        },
        {
          "name": "stdout",
          "output_type": "stream",
          "text": [
            "                   all        576        400      0.892      0.887      0.921      0.692\n"
          ]
        },
        {
          "name": "stderr",
          "output_type": "stream",
          "text": [
            "\n"
          ]
        },
        {
          "name": "stdout",
          "output_type": "stream",
          "text": [
            "\n",
            "      Epoch    GPU_mem   box_loss   cls_loss   dfl_loss  Instances       Size\n"
          ]
        },
        {
          "name": "stderr",
          "output_type": "stream",
          "text": [
            "      17/50      2.25G     0.9902     0.9203      1.217          5        640: 100%|██████████| 404/404 [02:39<00:00,  2.53it/s]\n",
            "                 Class     Images  Instances      Box(P          R      mAP50  mAP50-95): 100%|██████████| 18/18 [00:06<00:00,  2.72it/s]"
          ]
        },
        {
          "name": "stdout",
          "output_type": "stream",
          "text": [
            "                   all        576        400      0.899      0.893       0.93      0.699\n"
          ]
        },
        {
          "name": "stderr",
          "output_type": "stream",
          "text": [
            "\n"
          ]
        },
        {
          "name": "stdout",
          "output_type": "stream",
          "text": [
            "\n",
            "      Epoch    GPU_mem   box_loss   cls_loss   dfl_loss  Instances       Size\n"
          ]
        },
        {
          "name": "stderr",
          "output_type": "stream",
          "text": [
            "      18/50      2.25G     0.9649     0.8839      1.203          9        640: 100%|██████████| 404/404 [02:41<00:00,  2.50it/s]\n",
            "                 Class     Images  Instances      Box(P          R      mAP50  mAP50-95): 100%|██████████| 18/18 [00:09<00:00,  1.82it/s]"
          ]
        },
        {
          "name": "stdout",
          "output_type": "stream",
          "text": [
            "                   all        576        400      0.903      0.883      0.935      0.709\n"
          ]
        },
        {
          "name": "stderr",
          "output_type": "stream",
          "text": [
            "\n"
          ]
        },
        {
          "name": "stdout",
          "output_type": "stream",
          "text": [
            "\n",
            "      Epoch    GPU_mem   box_loss   cls_loss   dfl_loss  Instances       Size\n"
          ]
        },
        {
          "name": "stderr",
          "output_type": "stream",
          "text": [
            "      19/50      2.25G     0.9526     0.8733      1.203          5        640: 100%|██████████| 404/404 [02:40<00:00,  2.52it/s]\n",
            "                 Class     Images  Instances      Box(P          R      mAP50  mAP50-95): 100%|██████████| 18/18 [00:06<00:00,  2.68it/s]"
          ]
        },
        {
          "name": "stdout",
          "output_type": "stream",
          "text": [
            "                   all        576        400      0.883       0.89      0.932        0.7\n"
          ]
        },
        {
          "name": "stderr",
          "output_type": "stream",
          "text": [
            "\n"
          ]
        },
        {
          "name": "stdout",
          "output_type": "stream",
          "text": [
            "\n",
            "      Epoch    GPU_mem   box_loss   cls_loss   dfl_loss  Instances       Size\n"
          ]
        },
        {
          "name": "stderr",
          "output_type": "stream",
          "text": [
            "      20/50      2.25G     0.9359     0.8484      1.182          7        640: 100%|██████████| 404/404 [02:44<00:00,  2.46it/s]\n",
            "                 Class     Images  Instances      Box(P          R      mAP50  mAP50-95): 100%|██████████| 18/18 [00:07<00:00,  2.45it/s]\n"
          ]
        },
        {
          "name": "stdout",
          "output_type": "stream",
          "text": [
            "                   all        576        400      0.937      0.877      0.935      0.717\n",
            "\n",
            "      Epoch    GPU_mem   box_loss   cls_loss   dfl_loss  Instances       Size\n"
          ]
        },
        {
          "name": "stderr",
          "output_type": "stream",
          "text": [
            "      21/50      2.25G     0.9206     0.8361       1.18         10        640: 100%|██████████| 404/404 [02:42<00:00,  2.48it/s]\n",
            "                 Class     Images  Instances      Box(P          R      mAP50  mAP50-95): 100%|██████████| 18/18 [00:07<00:00,  2.54it/s]"
          ]
        },
        {
          "name": "stdout",
          "output_type": "stream",
          "text": [
            "                   all        576        400      0.947        0.9      0.945      0.735\n"
          ]
        },
        {
          "name": "stderr",
          "output_type": "stream",
          "text": [
            "\n"
          ]
        },
        {
          "name": "stdout",
          "output_type": "stream",
          "text": [
            "\n",
            "      Epoch    GPU_mem   box_loss   cls_loss   dfl_loss  Instances       Size\n"
          ]
        },
        {
          "name": "stderr",
          "output_type": "stream",
          "text": [
            "      22/50      2.25G     0.9098     0.8157       1.17         15        640: 100%|██████████| 404/404 [02:44<00:00,  2.46it/s]\n",
            "                 Class     Images  Instances      Box(P          R      mAP50  mAP50-95): 100%|██████████| 18/18 [00:08<00:00,  2.15it/s]"
          ]
        },
        {
          "name": "stdout",
          "output_type": "stream",
          "text": [
            "                   all        576        400      0.925      0.902      0.945      0.726\n"
          ]
        },
        {
          "name": "stderr",
          "output_type": "stream",
          "text": [
            "\n"
          ]
        },
        {
          "name": "stdout",
          "output_type": "stream",
          "text": [
            "\n",
            "      Epoch    GPU_mem   box_loss   cls_loss   dfl_loss  Instances       Size\n"
          ]
        },
        {
          "name": "stderr",
          "output_type": "stream",
          "text": [
            "      23/50      2.25G     0.9105     0.8051      1.168          8        640: 100%|██████████| 404/404 [02:40<00:00,  2.51it/s]\n",
            "                 Class     Images  Instances      Box(P          R      mAP50  mAP50-95): 100%|██████████| 18/18 [00:06<00:00,  2.63it/s]"
          ]
        },
        {
          "name": "stdout",
          "output_type": "stream",
          "text": [
            "                   all        576        400      0.906      0.908      0.939      0.729\n"
          ]
        },
        {
          "name": "stderr",
          "output_type": "stream",
          "text": [
            "\n"
          ]
        },
        {
          "name": "stdout",
          "output_type": "stream",
          "text": [
            "\n",
            "      Epoch    GPU_mem   box_loss   cls_loss   dfl_loss  Instances       Size\n"
          ]
        },
        {
          "name": "stderr",
          "output_type": "stream",
          "text": [
            "      24/50      2.25G     0.9082     0.7863      1.166         14        640: 100%|██████████| 404/404 [02:41<00:00,  2.50it/s]\n",
            "                 Class     Images  Instances      Box(P          R      mAP50  mAP50-95): 100%|██████████| 18/18 [00:06<00:00,  2.65it/s]"
          ]
        },
        {
          "name": "stdout",
          "output_type": "stream",
          "text": [
            "                   all        576        400      0.947      0.905      0.947      0.753\n"
          ]
        },
        {
          "name": "stderr",
          "output_type": "stream",
          "text": [
            "\n"
          ]
        },
        {
          "name": "stdout",
          "output_type": "stream",
          "text": [
            "\n",
            "      Epoch    GPU_mem   box_loss   cls_loss   dfl_loss  Instances       Size\n"
          ]
        },
        {
          "name": "stderr",
          "output_type": "stream",
          "text": [
            "      25/50      2.25G     0.8865     0.7741      1.158         14        640: 100%|██████████| 404/404 [02:39<00:00,  2.53it/s]\n",
            "                 Class     Images  Instances      Box(P          R      mAP50  mAP50-95): 100%|██████████| 18/18 [00:09<00:00,  1.92it/s]"
          ]
        },
        {
          "name": "stdout",
          "output_type": "stream",
          "text": [
            "                   all        576        400      0.934      0.894      0.939      0.733\n"
          ]
        },
        {
          "name": "stderr",
          "output_type": "stream",
          "text": [
            "\n"
          ]
        },
        {
          "name": "stdout",
          "output_type": "stream",
          "text": [
            "\n",
            "      Epoch    GPU_mem   box_loss   cls_loss   dfl_loss  Instances       Size\n"
          ]
        },
        {
          "name": "stderr",
          "output_type": "stream",
          "text": [
            "      26/50      2.25G     0.8651     0.7326      1.139         11        640: 100%|██████████| 404/404 [02:42<00:00,  2.49it/s]\n",
            "                 Class     Images  Instances      Box(P          R      mAP50  mAP50-95): 100%|██████████| 18/18 [00:06<00:00,  2.97it/s]"
          ]
        },
        {
          "name": "stdout",
          "output_type": "stream",
          "text": [
            "                   all        576        400      0.908      0.907      0.935      0.729\n"
          ]
        },
        {
          "name": "stderr",
          "output_type": "stream",
          "text": [
            "\n"
          ]
        },
        {
          "name": "stdout",
          "output_type": "stream",
          "text": [
            "\n",
            "      Epoch    GPU_mem   box_loss   cls_loss   dfl_loss  Instances       Size\n"
          ]
        },
        {
          "name": "stderr",
          "output_type": "stream",
          "text": [
            "      27/50      2.25G     0.8669     0.7331      1.143          7        640: 100%|██████████| 404/404 [02:42<00:00,  2.48it/s]\n",
            "                 Class     Images  Instances      Box(P          R      mAP50  mAP50-95): 100%|██████████| 18/18 [00:07<00:00,  2.25it/s]"
          ]
        },
        {
          "name": "stdout",
          "output_type": "stream",
          "text": [
            "                   all        576        400      0.926      0.891      0.938      0.725\n"
          ]
        },
        {
          "name": "stderr",
          "output_type": "stream",
          "text": [
            "\n"
          ]
        },
        {
          "name": "stdout",
          "output_type": "stream",
          "text": [
            "\n",
            "      Epoch    GPU_mem   box_loss   cls_loss   dfl_loss  Instances       Size\n"
          ]
        },
        {
          "name": "stderr",
          "output_type": "stream",
          "text": [
            "      28/50      2.25G     0.8623     0.7168      1.135         19        640: 100%|██████████| 404/404 [02:37<00:00,  2.57it/s]\n",
            "                 Class     Images  Instances      Box(P          R      mAP50  mAP50-95): 100%|██████████| 18/18 [00:09<00:00,  1.91it/s]"
          ]
        },
        {
          "name": "stdout",
          "output_type": "stream",
          "text": [
            "                   all        576        400      0.929      0.919      0.949      0.747\n"
          ]
        },
        {
          "name": "stderr",
          "output_type": "stream",
          "text": [
            "\n"
          ]
        },
        {
          "name": "stdout",
          "output_type": "stream",
          "text": [
            "\n",
            "      Epoch    GPU_mem   box_loss   cls_loss   dfl_loss  Instances       Size\n"
          ]
        },
        {
          "name": "stderr",
          "output_type": "stream",
          "text": [
            "      29/50      2.25G      0.846     0.7078      1.129         11        640: 100%|██████████| 404/404 [02:37<00:00,  2.56it/s]\n",
            "                 Class     Images  Instances      Box(P          R      mAP50  mAP50-95): 100%|██████████| 18/18 [00:05<00:00,  3.06it/s]"
          ]
        },
        {
          "name": "stdout",
          "output_type": "stream",
          "text": [
            "                   all        576        400       0.94       0.93      0.951       0.76\n"
          ]
        },
        {
          "name": "stderr",
          "output_type": "stream",
          "text": [
            "\n"
          ]
        },
        {
          "name": "stdout",
          "output_type": "stream",
          "text": [
            "\n",
            "      Epoch    GPU_mem   box_loss   cls_loss   dfl_loss  Instances       Size\n"
          ]
        },
        {
          "name": "stderr",
          "output_type": "stream",
          "text": [
            "      30/50      2.25G     0.8337     0.6903      1.125          4        640: 100%|██████████| 404/404 [02:37<00:00,  2.56it/s]\n",
            "                 Class     Images  Instances      Box(P          R      mAP50  mAP50-95): 100%|██████████| 18/18 [00:06<00:00,  2.94it/s]"
          ]
        },
        {
          "name": "stdout",
          "output_type": "stream",
          "text": [
            "                   all        576        400      0.944      0.915      0.952      0.757\n"
          ]
        },
        {
          "name": "stderr",
          "output_type": "stream",
          "text": [
            "\n"
          ]
        },
        {
          "name": "stdout",
          "output_type": "stream",
          "text": [
            "\n",
            "      Epoch    GPU_mem   box_loss   cls_loss   dfl_loss  Instances       Size\n"
          ]
        },
        {
          "name": "stderr",
          "output_type": "stream",
          "text": [
            "      31/50      2.25G     0.8233     0.6874      1.118          3        640: 100%|██████████| 404/404 [02:36<00:00,  2.58it/s]\n",
            "                 Class     Images  Instances      Box(P          R      mAP50  mAP50-95): 100%|██████████| 18/18 [00:09<00:00,  1.94it/s]"
          ]
        },
        {
          "name": "stdout",
          "output_type": "stream",
          "text": [
            "                   all        576        400      0.956      0.914      0.947      0.752\n"
          ]
        },
        {
          "name": "stderr",
          "output_type": "stream",
          "text": [
            "\n"
          ]
        },
        {
          "name": "stdout",
          "output_type": "stream",
          "text": [
            "\n",
            "      Epoch    GPU_mem   box_loss   cls_loss   dfl_loss  Instances       Size\n"
          ]
        },
        {
          "name": "stderr",
          "output_type": "stream",
          "text": [
            "      32/50      2.25G     0.8089     0.6598      1.111          8        640: 100%|██████████| 404/404 [02:36<00:00,  2.57it/s]\n",
            "                 Class     Images  Instances      Box(P          R      mAP50  mAP50-95): 100%|██████████| 18/18 [00:07<00:00,  2.40it/s]"
          ]
        },
        {
          "name": "stdout",
          "output_type": "stream",
          "text": [
            "                   all        576        400      0.947      0.926      0.957      0.762\n"
          ]
        },
        {
          "name": "stderr",
          "output_type": "stream",
          "text": [
            "\n"
          ]
        },
        {
          "name": "stdout",
          "output_type": "stream",
          "text": [
            "\n",
            "      Epoch    GPU_mem   box_loss   cls_loss   dfl_loss  Instances       Size\n"
          ]
        },
        {
          "name": "stderr",
          "output_type": "stream",
          "text": [
            "      33/50      2.25G     0.7962     0.6592      1.098          9        640: 100%|██████████| 404/404 [02:39<00:00,  2.53it/s]\n",
            "                 Class     Images  Instances      Box(P          R      mAP50  mAP50-95): 100%|██████████| 18/18 [00:06<00:00,  2.87it/s]"
          ]
        },
        {
          "name": "stdout",
          "output_type": "stream",
          "text": [
            "                   all        576        400      0.957      0.919      0.961      0.753\n"
          ]
        },
        {
          "name": "stderr",
          "output_type": "stream",
          "text": [
            "\n"
          ]
        },
        {
          "name": "stdout",
          "output_type": "stream",
          "text": [
            "\n",
            "      Epoch    GPU_mem   box_loss   cls_loss   dfl_loss  Instances       Size\n"
          ]
        },
        {
          "name": "stderr",
          "output_type": "stream",
          "text": [
            "      34/50      2.25G     0.7848     0.6435      1.094         11        640: 100%|██████████| 404/404 [02:37<00:00,  2.57it/s]\n",
            "                 Class     Images  Instances      Box(P          R      mAP50  mAP50-95): 100%|██████████| 18/18 [00:09<00:00,  1.94it/s]"
          ]
        },
        {
          "name": "stdout",
          "output_type": "stream",
          "text": [
            "                   all        576        400      0.956       0.93      0.954      0.765\n"
          ]
        },
        {
          "name": "stderr",
          "output_type": "stream",
          "text": [
            "\n"
          ]
        },
        {
          "name": "stdout",
          "output_type": "stream",
          "text": [
            "\n",
            "      Epoch    GPU_mem   box_loss   cls_loss   dfl_loss  Instances       Size\n"
          ]
        },
        {
          "name": "stderr",
          "output_type": "stream",
          "text": [
            "      35/50      2.25G     0.7899     0.6403      1.097         12        640: 100%|██████████| 404/404 [02:38<00:00,  2.55it/s]\n",
            "                 Class     Images  Instances      Box(P          R      mAP50  mAP50-95): 100%|██████████| 18/18 [00:07<00:00,  2.50it/s]"
          ]
        },
        {
          "name": "stdout",
          "output_type": "stream",
          "text": [
            "                   all        576        400      0.949      0.914       0.96      0.769\n"
          ]
        },
        {
          "name": "stderr",
          "output_type": "stream",
          "text": [
            "\n"
          ]
        },
        {
          "name": "stdout",
          "output_type": "stream",
          "text": [
            "\n",
            "      Epoch    GPU_mem   box_loss   cls_loss   dfl_loss  Instances       Size\n"
          ]
        },
        {
          "name": "stderr",
          "output_type": "stream",
          "text": [
            "      36/50      2.25G     0.7659     0.6203      1.082         13        640: 100%|██████████| 404/404 [02:40<00:00,  2.52it/s]\n",
            "                 Class     Images  Instances      Box(P          R      mAP50  mAP50-95): 100%|██████████| 18/18 [00:05<00:00,  3.03it/s]"
          ]
        },
        {
          "name": "stdout",
          "output_type": "stream",
          "text": [
            "                   all        576        400      0.956      0.913      0.953      0.764\n"
          ]
        },
        {
          "name": "stderr",
          "output_type": "stream",
          "text": [
            "\n"
          ]
        },
        {
          "name": "stdout",
          "output_type": "stream",
          "text": [
            "\n",
            "      Epoch    GPU_mem   box_loss   cls_loss   dfl_loss  Instances       Size\n"
          ]
        },
        {
          "name": "stderr",
          "output_type": "stream",
          "text": [
            "      37/50      2.25G      0.767     0.6159      1.081         12        640: 100%|██████████| 404/404 [02:41<00:00,  2.51it/s]\n",
            "                 Class     Images  Instances      Box(P          R      mAP50  mAP50-95): 100%|██████████| 18/18 [00:08<00:00,  2.08it/s]"
          ]
        },
        {
          "name": "stdout",
          "output_type": "stream",
          "text": [
            "                   all        576        400      0.928      0.945      0.957      0.774\n"
          ]
        },
        {
          "name": "stderr",
          "output_type": "stream",
          "text": [
            "\n"
          ]
        },
        {
          "name": "stdout",
          "output_type": "stream",
          "text": [
            "\n",
            "      Epoch    GPU_mem   box_loss   cls_loss   dfl_loss  Instances       Size\n"
          ]
        },
        {
          "name": "stderr",
          "output_type": "stream",
          "text": [
            "      38/50      2.25G     0.7576     0.6046      1.078         10        640: 100%|██████████| 404/404 [02:39<00:00,  2.54it/s]\n",
            "                 Class     Images  Instances      Box(P          R      mAP50  mAP50-95): 100%|██████████| 18/18 [00:07<00:00,  2.33it/s]"
          ]
        },
        {
          "name": "stdout",
          "output_type": "stream",
          "text": [
            "                   all        576        400      0.954      0.928      0.959      0.762\n"
          ]
        },
        {
          "name": "stderr",
          "output_type": "stream",
          "text": [
            "\n"
          ]
        },
        {
          "name": "stdout",
          "output_type": "stream",
          "text": [
            "\n",
            "      Epoch    GPU_mem   box_loss   cls_loss   dfl_loss  Instances       Size\n"
          ]
        },
        {
          "name": "stderr",
          "output_type": "stream",
          "text": [
            "      39/50      2.25G     0.7451     0.6015      1.075         10        640: 100%|██████████| 404/404 [02:44<00:00,  2.46it/s]\n",
            "                 Class     Images  Instances      Box(P          R      mAP50  mAP50-95): 100%|██████████| 18/18 [00:06<00:00,  2.93it/s]\n"
          ]
        },
        {
          "name": "stdout",
          "output_type": "stream",
          "text": [
            "                   all        576        400      0.968      0.898       0.96       0.77\n",
            "\n",
            "      Epoch    GPU_mem   box_loss   cls_loss   dfl_loss  Instances       Size\n"
          ]
        },
        {
          "name": "stderr",
          "output_type": "stream",
          "text": [
            "      40/50      2.25G     0.7509     0.5876      1.079          9        640: 100%|██████████| 404/404 [02:39<00:00,  2.53it/s]\n",
            "                 Class     Images  Instances      Box(P          R      mAP50  mAP50-95): 100%|██████████| 18/18 [00:08<00:00,  2.11it/s]"
          ]
        },
        {
          "name": "stdout",
          "output_type": "stream",
          "text": [
            "                   all        576        400      0.964      0.915      0.958      0.766\n"
          ]
        },
        {
          "name": "stderr",
          "output_type": "stream",
          "text": [
            "\n"
          ]
        },
        {
          "name": "stdout",
          "output_type": "stream",
          "text": [
            "Closing dataloader mosaic\n",
            "\u001b[34m\u001b[1malbumentations: \u001b[0mBlur(p=0.01, blur_limit=(3, 7)), MedianBlur(p=0.01, blur_limit=(3, 7)), ToGray(p=0.01), CLAHE(p=0.01, clip_limit=(1, 4.0), tile_grid_size=(8, 8))\n"
          ]
        },
        {
          "name": "stderr",
          "output_type": "stream",
          "text": [
            "/usr/lib/python3.10/multiprocessing/popen_fork.py:66: RuntimeWarning: os.fork() was called. os.fork() is incompatible with multithreaded code, and JAX is multithreaded, so this will likely lead to a deadlock.\n",
            "  self.pid = os.fork()\n"
          ]
        },
        {
          "name": "stdout",
          "output_type": "stream",
          "text": [
            "\n",
            "      Epoch    GPU_mem   box_loss   cls_loss   dfl_loss  Instances       Size\n"
          ]
        },
        {
          "name": "stderr",
          "output_type": "stream",
          "text": [
            "      41/50      2.25G     0.6173     0.3723          1          5        640: 100%|██████████| 404/404 [02:34<00:00,  2.61it/s]\n",
            "                 Class     Images  Instances      Box(P          R      mAP50  mAP50-95): 100%|██████████| 18/18 [00:07<00:00,  2.49it/s]"
          ]
        },
        {
          "name": "stdout",
          "output_type": "stream",
          "text": [
            "                   all        576        400      0.949      0.914      0.954      0.768\n"
          ]
        },
        {
          "name": "stderr",
          "output_type": "stream",
          "text": [
            "\n"
          ]
        },
        {
          "name": "stdout",
          "output_type": "stream",
          "text": [
            "\n",
            "      Epoch    GPU_mem   box_loss   cls_loss   dfl_loss  Instances       Size\n"
          ]
        },
        {
          "name": "stderr",
          "output_type": "stream",
          "text": [
            "      42/50      2.25G     0.5957     0.3587     0.9931          5        640: 100%|██████████| 404/404 [02:32<00:00,  2.66it/s]\n",
            "                 Class     Images  Instances      Box(P          R      mAP50  mAP50-95): 100%|██████████| 18/18 [00:06<00:00,  2.94it/s]"
          ]
        },
        {
          "name": "stdout",
          "output_type": "stream",
          "text": [
            "                   all        576        400      0.962      0.934      0.959      0.773\n"
          ]
        },
        {
          "name": "stderr",
          "output_type": "stream",
          "text": [
            "\n"
          ]
        },
        {
          "name": "stdout",
          "output_type": "stream",
          "text": [
            "\n",
            "      Epoch    GPU_mem   box_loss   cls_loss   dfl_loss  Instances       Size\n"
          ]
        },
        {
          "name": "stderr",
          "output_type": "stream",
          "text": [
            "      43/50      2.25G     0.5767     0.3408     0.9729          6        640: 100%|██████████| 404/404 [02:33<00:00,  2.63it/s]\n",
            "                 Class     Images  Instances      Box(P          R      mAP50  mAP50-95): 100%|██████████| 18/18 [00:05<00:00,  3.13it/s]"
          ]
        },
        {
          "name": "stdout",
          "output_type": "stream",
          "text": [
            "                   all        576        400       0.96      0.926      0.957      0.773\n"
          ]
        },
        {
          "name": "stderr",
          "output_type": "stream",
          "text": [
            "\n"
          ]
        },
        {
          "name": "stdout",
          "output_type": "stream",
          "text": [
            "\n",
            "      Epoch    GPU_mem   box_loss   cls_loss   dfl_loss  Instances       Size\n"
          ]
        },
        {
          "name": "stderr",
          "output_type": "stream",
          "text": [
            "      44/50      2.25G     0.5656     0.3296     0.9705          5        640: 100%|██████████| 404/404 [02:31<00:00,  2.67it/s]\n",
            "                 Class     Images  Instances      Box(P          R      mAP50  mAP50-95): 100%|██████████| 18/18 [00:08<00:00,  2.03it/s]"
          ]
        },
        {
          "name": "stdout",
          "output_type": "stream",
          "text": [
            "                   all        576        400      0.955      0.932      0.956      0.771\n"
          ]
        },
        {
          "name": "stderr",
          "output_type": "stream",
          "text": [
            "\n"
          ]
        },
        {
          "name": "stdout",
          "output_type": "stream",
          "text": [
            "\n",
            "      Epoch    GPU_mem   box_loss   cls_loss   dfl_loss  Instances       Size\n"
          ]
        },
        {
          "name": "stderr",
          "output_type": "stream",
          "text": [
            "      45/50      2.25G     0.5592     0.3213     0.9641          5        640: 100%|██████████| 404/404 [02:31<00:00,  2.68it/s]\n",
            "                 Class     Images  Instances      Box(P          R      mAP50  mAP50-95): 100%|██████████| 18/18 [00:08<00:00,  2.14it/s]"
          ]
        },
        {
          "name": "stdout",
          "output_type": "stream",
          "text": [
            "                   all        576        400      0.952      0.929      0.958      0.783\n"
          ]
        },
        {
          "name": "stderr",
          "output_type": "stream",
          "text": [
            "\n"
          ]
        },
        {
          "name": "stdout",
          "output_type": "stream",
          "text": [
            "\n",
            "      Epoch    GPU_mem   box_loss   cls_loss   dfl_loss  Instances       Size\n"
          ]
        },
        {
          "name": "stderr",
          "output_type": "stream",
          "text": [
            "      46/50      2.25G     0.5428      0.311     0.9546          3        640: 100%|██████████| 404/404 [02:30<00:00,  2.69it/s]\n",
            "                 Class     Images  Instances      Box(P          R      mAP50  mAP50-95): 100%|██████████| 18/18 [00:06<00:00,  2.96it/s]"
          ]
        },
        {
          "name": "stdout",
          "output_type": "stream",
          "text": [
            "                   all        576        400      0.967      0.918      0.958      0.782\n"
          ]
        },
        {
          "name": "stderr",
          "output_type": "stream",
          "text": [
            "\n"
          ]
        },
        {
          "name": "stdout",
          "output_type": "stream",
          "text": [
            "\n",
            "      Epoch    GPU_mem   box_loss   cls_loss   dfl_loss  Instances       Size\n"
          ]
        },
        {
          "name": "stderr",
          "output_type": "stream",
          "text": [
            "      47/50      2.25G     0.5276     0.2988     0.9495          4        640: 100%|██████████| 404/404 [02:31<00:00,  2.66it/s]\n",
            "                 Class     Images  Instances      Box(P          R      mAP50  mAP50-95): 100%|██████████| 18/18 [00:06<00:00,  2.72it/s]"
          ]
        },
        {
          "name": "stdout",
          "output_type": "stream",
          "text": [
            "                   all        576        400      0.962      0.918      0.959      0.783\n"
          ]
        },
        {
          "name": "stderr",
          "output_type": "stream",
          "text": [
            "\n"
          ]
        },
        {
          "name": "stdout",
          "output_type": "stream",
          "text": [
            "\n",
            "      Epoch    GPU_mem   box_loss   cls_loss   dfl_loss  Instances       Size\n"
          ]
        },
        {
          "name": "stderr",
          "output_type": "stream",
          "text": [
            "      48/50      2.25G     0.5182     0.2985     0.9438          5        640: 100%|██████████| 404/404 [02:28<00:00,  2.72it/s]\n",
            "                 Class     Images  Instances      Box(P          R      mAP50  mAP50-95): 100%|██████████| 18/18 [00:09<00:00,  1.91it/s]"
          ]
        },
        {
          "name": "stdout",
          "output_type": "stream",
          "text": [
            "                   all        576        400      0.955      0.937       0.96      0.784\n"
          ]
        },
        {
          "name": "stderr",
          "output_type": "stream",
          "text": [
            "\n"
          ]
        },
        {
          "name": "stdout",
          "output_type": "stream",
          "text": [
            "\n",
            "      Epoch    GPU_mem   box_loss   cls_loss   dfl_loss  Instances       Size\n"
          ]
        },
        {
          "name": "stderr",
          "output_type": "stream",
          "text": [
            "      49/50      2.25G     0.5116     0.2889       0.94          6        640: 100%|██████████| 404/404 [02:31<00:00,  2.67it/s]\n",
            "                 Class     Images  Instances      Box(P          R      mAP50  mAP50-95): 100%|██████████| 18/18 [00:07<00:00,  2.42it/s]"
          ]
        },
        {
          "name": "stdout",
          "output_type": "stream",
          "text": [
            "                   all        576        400      0.958      0.935       0.96      0.782\n"
          ]
        },
        {
          "name": "stderr",
          "output_type": "stream",
          "text": [
            "\n"
          ]
        },
        {
          "name": "stdout",
          "output_type": "stream",
          "text": [
            "\n",
            "      Epoch    GPU_mem   box_loss   cls_loss   dfl_loss  Instances       Size\n"
          ]
        },
        {
          "name": "stderr",
          "output_type": "stream",
          "text": [
            "      50/50      2.25G     0.5045     0.2862     0.9379         10        640: 100%|██████████| 404/404 [02:36<00:00,  2.58it/s]\n",
            "                 Class     Images  Instances      Box(P          R      mAP50  mAP50-95): 100%|██████████| 18/18 [00:05<00:00,  3.13it/s]"
          ]
        },
        {
          "name": "stdout",
          "output_type": "stream",
          "text": [
            "                   all        576        400      0.968      0.924      0.959      0.783\n"
          ]
        },
        {
          "name": "stderr",
          "output_type": "stream",
          "text": [
            "\n"
          ]
        },
        {
          "name": "stdout",
          "output_type": "stream",
          "text": [
            "\n",
            "50 epochs completed in 2.321 hours.\n",
            "Optimizer stripped from runs/detect/train/weights/last.pt, 6.3MB\n",
            "Optimizer stripped from runs/detect/train/weights/best.pt, 6.3MB\n",
            "\n",
            "Validating runs/detect/train/weights/best.pt...\n",
            "Ultralytics YOLOv8.2.76 🚀 Python-3.10.12 torch-2.3.1+cu121 CUDA:0 (Tesla T4, 15102MiB)\n",
            "Model summary (fused): 168 layers, 3,006,233 parameters, 0 gradients, 8.1 GFLOPs\n"
          ]
        },
        {
          "name": "stderr",
          "output_type": "stream",
          "text": [
            "                 Class     Images  Instances      Box(P          R      mAP50  mAP50-95): 100%|██████████| 18/18 [00:11<00:00,  1.60it/s]\n"
          ]
        },
        {
          "name": "stdout",
          "output_type": "stream",
          "text": [
            "                   all        576        400      0.955      0.937       0.96      0.783\n",
            "                 Paper        132        139      0.969      0.921      0.965      0.787\n",
            "                  Rock        121        141      0.943      0.965      0.953      0.768\n",
            "              Scissors        116        120      0.954      0.925      0.961      0.796\n",
            "Speed: 0.5ms preprocess, 2.8ms inference, 0.0ms loss, 4.4ms postprocess per image\n",
            "Results saved to \u001b[1mruns/detect/train\u001b[0m\n"
          ]
        },
        {
          "data": {
            "text/plain": [
              "ultralytics.utils.metrics.DetMetrics object with attributes:\n",
              "\n",
              "ap_class_index: array([0, 1, 2])\n",
              "box: ultralytics.utils.metrics.Metric object\n",
              "confusion_matrix: <ultralytics.utils.metrics.ConfusionMatrix object at 0x7fa2d19bd9f0>\n",
              "curves: ['Precision-Recall(B)', 'F1-Confidence(B)', 'Precision-Confidence(B)', 'Recall-Confidence(B)']\n",
              "curves_results: [[array([          0,    0.001001,    0.002002,    0.003003,    0.004004,    0.005005,    0.006006,    0.007007,    0.008008,    0.009009,     0.01001,    0.011011,    0.012012,    0.013013,    0.014014,    0.015015,    0.016016,    0.017017,    0.018018,    0.019019,     0.02002,    0.021021,    0.022022,    0.023023,\n",
              "          0.024024,    0.025025,    0.026026,    0.027027,    0.028028,    0.029029,     0.03003,    0.031031,    0.032032,    0.033033,    0.034034,    0.035035,    0.036036,    0.037037,    0.038038,    0.039039,     0.04004,    0.041041,    0.042042,    0.043043,    0.044044,    0.045045,    0.046046,    0.047047,\n",
              "          0.048048,    0.049049,     0.05005,    0.051051,    0.052052,    0.053053,    0.054054,    0.055055,    0.056056,    0.057057,    0.058058,    0.059059,     0.06006,    0.061061,    0.062062,    0.063063,    0.064064,    0.065065,    0.066066,    0.067067,    0.068068,    0.069069,     0.07007,    0.071071,\n",
              "          0.072072,    0.073073,    0.074074,    0.075075,    0.076076,    0.077077,    0.078078,    0.079079,     0.08008,    0.081081,    0.082082,    0.083083,    0.084084,    0.085085,    0.086086,    0.087087,    0.088088,    0.089089,     0.09009,    0.091091,    0.092092,    0.093093,    0.094094,    0.095095,\n",
              "          0.096096,    0.097097,    0.098098,    0.099099,      0.1001,      0.1011,      0.1021,      0.1031,      0.1041,     0.10511,     0.10611,     0.10711,     0.10811,     0.10911,     0.11011,     0.11111,     0.11211,     0.11311,     0.11411,     0.11512,     0.11612,     0.11712,     0.11812,     0.11912,\n",
              "           0.12012,     0.12112,     0.12212,     0.12312,     0.12412,     0.12513,     0.12613,     0.12713,     0.12813,     0.12913,     0.13013,     0.13113,     0.13213,     0.13313,     0.13413,     0.13514,     0.13614,     0.13714,     0.13814,     0.13914,     0.14014,     0.14114,     0.14214,     0.14314,\n",
              "           0.14414,     0.14515,     0.14615,     0.14715,     0.14815,     0.14915,     0.15015,     0.15115,     0.15215,     0.15315,     0.15415,     0.15516,     0.15616,     0.15716,     0.15816,     0.15916,     0.16016,     0.16116,     0.16216,     0.16316,     0.16416,     0.16517,     0.16617,     0.16717,\n",
              "           0.16817,     0.16917,     0.17017,     0.17117,     0.17217,     0.17317,     0.17417,     0.17518,     0.17618,     0.17718,     0.17818,     0.17918,     0.18018,     0.18118,     0.18218,     0.18318,     0.18418,     0.18519,     0.18619,     0.18719,     0.18819,     0.18919,     0.19019,     0.19119,\n",
              "           0.19219,     0.19319,     0.19419,      0.1952,      0.1962,      0.1972,      0.1982,      0.1992,      0.2002,      0.2012,      0.2022,      0.2032,      0.2042,     0.20521,     0.20621,     0.20721,     0.20821,     0.20921,     0.21021,     0.21121,     0.21221,     0.21321,     0.21421,     0.21522,\n",
              "           0.21622,     0.21722,     0.21822,     0.21922,     0.22022,     0.22122,     0.22222,     0.22322,     0.22422,     0.22523,     0.22623,     0.22723,     0.22823,     0.22923,     0.23023,     0.23123,     0.23223,     0.23323,     0.23423,     0.23524,     0.23624,     0.23724,     0.23824,     0.23924,\n",
              "           0.24024,     0.24124,     0.24224,     0.24324,     0.24424,     0.24525,     0.24625,     0.24725,     0.24825,     0.24925,     0.25025,     0.25125,     0.25225,     0.25325,     0.25425,     0.25526,     0.25626,     0.25726,     0.25826,     0.25926,     0.26026,     0.26126,     0.26226,     0.26326,\n",
              "           0.26426,     0.26527,     0.26627,     0.26727,     0.26827,     0.26927,     0.27027,     0.27127,     0.27227,     0.27327,     0.27427,     0.27528,     0.27628,     0.27728,     0.27828,     0.27928,     0.28028,     0.28128,     0.28228,     0.28328,     0.28428,     0.28529,     0.28629,     0.28729,\n",
              "           0.28829,     0.28929,     0.29029,     0.29129,     0.29229,     0.29329,     0.29429,      0.2953,      0.2963,      0.2973,      0.2983,      0.2993,      0.3003,      0.3013,      0.3023,      0.3033,      0.3043,     0.30531,     0.30631,     0.30731,     0.30831,     0.30931,     0.31031,     0.31131,\n",
              "           0.31231,     0.31331,     0.31431,     0.31532,     0.31632,     0.31732,     0.31832,     0.31932,     0.32032,     0.32132,     0.32232,     0.32332,     0.32432,     0.32533,     0.32633,     0.32733,     0.32833,     0.32933,     0.33033,     0.33133,     0.33233,     0.33333,     0.33433,     0.33534,\n",
              "           0.33634,     0.33734,     0.33834,     0.33934,     0.34034,     0.34134,     0.34234,     0.34334,     0.34434,     0.34535,     0.34635,     0.34735,     0.34835,     0.34935,     0.35035,     0.35135,     0.35235,     0.35335,     0.35435,     0.35536,     0.35636,     0.35736,     0.35836,     0.35936,\n",
              "           0.36036,     0.36136,     0.36236,     0.36336,     0.36436,     0.36537,     0.36637,     0.36737,     0.36837,     0.36937,     0.37037,     0.37137,     0.37237,     0.37337,     0.37437,     0.37538,     0.37638,     0.37738,     0.37838,     0.37938,     0.38038,     0.38138,     0.38238,     0.38338,\n",
              "           0.38438,     0.38539,     0.38639,     0.38739,     0.38839,     0.38939,     0.39039,     0.39139,     0.39239,     0.39339,     0.39439,      0.3954,      0.3964,      0.3974,      0.3984,      0.3994,      0.4004,      0.4014,      0.4024,      0.4034,      0.4044,     0.40541,     0.40641,     0.40741,\n",
              "           0.40841,     0.40941,     0.41041,     0.41141,     0.41241,     0.41341,     0.41441,     0.41542,     0.41642,     0.41742,     0.41842,     0.41942,     0.42042,     0.42142,     0.42242,     0.42342,     0.42442,     0.42543,     0.42643,     0.42743,     0.42843,     0.42943,     0.43043,     0.43143,\n",
              "           0.43243,     0.43343,     0.43443,     0.43544,     0.43644,     0.43744,     0.43844,     0.43944,     0.44044,     0.44144,     0.44244,     0.44344,     0.44444,     0.44545,     0.44645,     0.44745,     0.44845,     0.44945,     0.45045,     0.45145,     0.45245,     0.45345,     0.45445,     0.45546,\n",
              "           0.45646,     0.45746,     0.45846,     0.45946,     0.46046,     0.46146,     0.46246,     0.46346,     0.46446,     0.46547,     0.46647,     0.46747,     0.46847,     0.46947,     0.47047,     0.47147,     0.47247,     0.47347,     0.47447,     0.47548,     0.47648,     0.47748,     0.47848,     0.47948,\n",
              "           0.48048,     0.48148,     0.48248,     0.48348,     0.48448,     0.48549,     0.48649,     0.48749,     0.48849,     0.48949,     0.49049,     0.49149,     0.49249,     0.49349,     0.49449,      0.4955,      0.4965,      0.4975,      0.4985,      0.4995,      0.5005,      0.5015,      0.5025,      0.5035,\n",
              "            0.5045,     0.50551,     0.50651,     0.50751,     0.50851,     0.50951,     0.51051,     0.51151,     0.51251,     0.51351,     0.51451,     0.51552,     0.51652,     0.51752,     0.51852,     0.51952,     0.52052,     0.52152,     0.52252,     0.52352,     0.52452,     0.52553,     0.52653,     0.52753,\n",
              "           0.52853,     0.52953,     0.53053,     0.53153,     0.53253,     0.53353,     0.53453,     0.53554,     0.53654,     0.53754,     0.53854,     0.53954,     0.54054,     0.54154,     0.54254,     0.54354,     0.54454,     0.54555,     0.54655,     0.54755,     0.54855,     0.54955,     0.55055,     0.55155,\n",
              "           0.55255,     0.55355,     0.55455,     0.55556,     0.55656,     0.55756,     0.55856,     0.55956,     0.56056,     0.56156,     0.56256,     0.56356,     0.56456,     0.56557,     0.56657,     0.56757,     0.56857,     0.56957,     0.57057,     0.57157,     0.57257,     0.57357,     0.57457,     0.57558,\n",
              "           0.57658,     0.57758,     0.57858,     0.57958,     0.58058,     0.58158,     0.58258,     0.58358,     0.58458,     0.58559,     0.58659,     0.58759,     0.58859,     0.58959,     0.59059,     0.59159,     0.59259,     0.59359,     0.59459,      0.5956,      0.5966,      0.5976,      0.5986,      0.5996,\n",
              "            0.6006,      0.6016,      0.6026,      0.6036,      0.6046,     0.60561,     0.60661,     0.60761,     0.60861,     0.60961,     0.61061,     0.61161,     0.61261,     0.61361,     0.61461,     0.61562,     0.61662,     0.61762,     0.61862,     0.61962,     0.62062,     0.62162,     0.62262,     0.62362,\n",
              "           0.62462,     0.62563,     0.62663,     0.62763,     0.62863,     0.62963,     0.63063,     0.63163,     0.63263,     0.63363,     0.63463,     0.63564,     0.63664,     0.63764,     0.63864,     0.63964,     0.64064,     0.64164,     0.64264,     0.64364,     0.64464,     0.64565,     0.64665,     0.64765,\n",
              "           0.64865,     0.64965,     0.65065,     0.65165,     0.65265,     0.65365,     0.65465,     0.65566,     0.65666,     0.65766,     0.65866,     0.65966,     0.66066,     0.66166,     0.66266,     0.66366,     0.66466,     0.66567,     0.66667,     0.66767,     0.66867,     0.66967,     0.67067,     0.67167,\n",
              "           0.67267,     0.67367,     0.67467,     0.67568,     0.67668,     0.67768,     0.67868,     0.67968,     0.68068,     0.68168,     0.68268,     0.68368,     0.68468,     0.68569,     0.68669,     0.68769,     0.68869,     0.68969,     0.69069,     0.69169,     0.69269,     0.69369,     0.69469,      0.6957,\n",
              "            0.6967,      0.6977,      0.6987,      0.6997,      0.7007,      0.7017,      0.7027,      0.7037,      0.7047,     0.70571,     0.70671,     0.70771,     0.70871,     0.70971,     0.71071,     0.71171,     0.71271,     0.71371,     0.71471,     0.71572,     0.71672,     0.71772,     0.71872,     0.71972,\n",
              "           0.72072,     0.72172,     0.72272,     0.72372,     0.72472,     0.72573,     0.72673,     0.72773,     0.72873,     0.72973,     0.73073,     0.73173,     0.73273,     0.73373,     0.73473,     0.73574,     0.73674,     0.73774,     0.73874,     0.73974,     0.74074,     0.74174,     0.74274,     0.74374,\n",
              "           0.74474,     0.74575,     0.74675,     0.74775,     0.74875,     0.74975,     0.75075,     0.75175,     0.75275,     0.75375,     0.75475,     0.75576,     0.75676,     0.75776,     0.75876,     0.75976,     0.76076,     0.76176,     0.76276,     0.76376,     0.76476,     0.76577,     0.76677,     0.76777,\n",
              "           0.76877,     0.76977,     0.77077,     0.77177,     0.77277,     0.77377,     0.77477,     0.77578,     0.77678,     0.77778,     0.77878,     0.77978,     0.78078,     0.78178,     0.78278,     0.78378,     0.78478,     0.78579,     0.78679,     0.78779,     0.78879,     0.78979,     0.79079,     0.79179,\n",
              "           0.79279,     0.79379,     0.79479,      0.7958,      0.7968,      0.7978,      0.7988,      0.7998,      0.8008,      0.8018,      0.8028,      0.8038,      0.8048,     0.80581,     0.80681,     0.80781,     0.80881,     0.80981,     0.81081,     0.81181,     0.81281,     0.81381,     0.81481,     0.81582,\n",
              "           0.81682,     0.81782,     0.81882,     0.81982,     0.82082,     0.82182,     0.82282,     0.82382,     0.82482,     0.82583,     0.82683,     0.82783,     0.82883,     0.82983,     0.83083,     0.83183,     0.83283,     0.83383,     0.83483,     0.83584,     0.83684,     0.83784,     0.83884,     0.83984,\n",
              "           0.84084,     0.84184,     0.84284,     0.84384,     0.84484,     0.84585,     0.84685,     0.84785,     0.84885,     0.84985,     0.85085,     0.85185,     0.85285,     0.85385,     0.85485,     0.85586,     0.85686,     0.85786,     0.85886,     0.85986,     0.86086,     0.86186,     0.86286,     0.86386,\n",
              "           0.86486,     0.86587,     0.86687,     0.86787,     0.86887,     0.86987,     0.87087,     0.87187,     0.87287,     0.87387,     0.87487,     0.87588,     0.87688,     0.87788,     0.87888,     0.87988,     0.88088,     0.88188,     0.88288,     0.88388,     0.88488,     0.88589,     0.88689,     0.88789,\n",
              "           0.88889,     0.88989,     0.89089,     0.89189,     0.89289,     0.89389,     0.89489,      0.8959,      0.8969,      0.8979,      0.8989,      0.8999,      0.9009,      0.9019,      0.9029,      0.9039,      0.9049,     0.90591,     0.90691,     0.90791,     0.90891,     0.90991,     0.91091,     0.91191,\n",
              "           0.91291,     0.91391,     0.91491,     0.91592,     0.91692,     0.91792,     0.91892,     0.91992,     0.92092,     0.92192,     0.92292,     0.92392,     0.92492,     0.92593,     0.92693,     0.92793,     0.92893,     0.92993,     0.93093,     0.93193,     0.93293,     0.93393,     0.93493,     0.93594,\n",
              "           0.93694,     0.93794,     0.93894,     0.93994,     0.94094,     0.94194,     0.94294,     0.94394,     0.94494,     0.94595,     0.94695,     0.94795,     0.94895,     0.94995,     0.95095,     0.95195,     0.95295,     0.95395,     0.95495,     0.95596,     0.95696,     0.95796,     0.95896,     0.95996,\n",
              "           0.96096,     0.96196,     0.96296,     0.96396,     0.96496,     0.96597,     0.96697,     0.96797,     0.96897,     0.96997,     0.97097,     0.97197,     0.97297,     0.97397,     0.97497,     0.97598,     0.97698,     0.97798,     0.97898,     0.97998,     0.98098,     0.98198,     0.98298,     0.98398,\n",
              "           0.98498,     0.98599,     0.98699,     0.98799,     0.98899,     0.98999,     0.99099,     0.99199,     0.99299,     0.99399,     0.99499,       0.996,       0.997,       0.998,       0.999,           1]), array([[          1,           1,           1, ...,     0.02398,     0.01199,           0],\n",
              "       [          1,           1,           1, ...,     0.03311,    0.016555,           0],\n",
              "       [          1,           1,           1, ...,    0.026094,    0.013047,           0]]), 'Recall', 'Precision'], [array([          0,    0.001001,    0.002002,    0.003003,    0.004004,    0.005005,    0.006006,    0.007007,    0.008008,    0.009009,     0.01001,    0.011011,    0.012012,    0.013013,    0.014014,    0.015015,    0.016016,    0.017017,    0.018018,    0.019019,     0.02002,    0.021021,    0.022022,    0.023023,\n",
              "          0.024024,    0.025025,    0.026026,    0.027027,    0.028028,    0.029029,     0.03003,    0.031031,    0.032032,    0.033033,    0.034034,    0.035035,    0.036036,    0.037037,    0.038038,    0.039039,     0.04004,    0.041041,    0.042042,    0.043043,    0.044044,    0.045045,    0.046046,    0.047047,\n",
              "          0.048048,    0.049049,     0.05005,    0.051051,    0.052052,    0.053053,    0.054054,    0.055055,    0.056056,    0.057057,    0.058058,    0.059059,     0.06006,    0.061061,    0.062062,    0.063063,    0.064064,    0.065065,    0.066066,    0.067067,    0.068068,    0.069069,     0.07007,    0.071071,\n",
              "          0.072072,    0.073073,    0.074074,    0.075075,    0.076076,    0.077077,    0.078078,    0.079079,     0.08008,    0.081081,    0.082082,    0.083083,    0.084084,    0.085085,    0.086086,    0.087087,    0.088088,    0.089089,     0.09009,    0.091091,    0.092092,    0.093093,    0.094094,    0.095095,\n",
              "          0.096096,    0.097097,    0.098098,    0.099099,      0.1001,      0.1011,      0.1021,      0.1031,      0.1041,     0.10511,     0.10611,     0.10711,     0.10811,     0.10911,     0.11011,     0.11111,     0.11211,     0.11311,     0.11411,     0.11512,     0.11612,     0.11712,     0.11812,     0.11912,\n",
              "           0.12012,     0.12112,     0.12212,     0.12312,     0.12412,     0.12513,     0.12613,     0.12713,     0.12813,     0.12913,     0.13013,     0.13113,     0.13213,     0.13313,     0.13413,     0.13514,     0.13614,     0.13714,     0.13814,     0.13914,     0.14014,     0.14114,     0.14214,     0.14314,\n",
              "           0.14414,     0.14515,     0.14615,     0.14715,     0.14815,     0.14915,     0.15015,     0.15115,     0.15215,     0.15315,     0.15415,     0.15516,     0.15616,     0.15716,     0.15816,     0.15916,     0.16016,     0.16116,     0.16216,     0.16316,     0.16416,     0.16517,     0.16617,     0.16717,\n",
              "           0.16817,     0.16917,     0.17017,     0.17117,     0.17217,     0.17317,     0.17417,     0.17518,     0.17618,     0.17718,     0.17818,     0.17918,     0.18018,     0.18118,     0.18218,     0.18318,     0.18418,     0.18519,     0.18619,     0.18719,     0.18819,     0.18919,     0.19019,     0.19119,\n",
              "           0.19219,     0.19319,     0.19419,      0.1952,      0.1962,      0.1972,      0.1982,      0.1992,      0.2002,      0.2012,      0.2022,      0.2032,      0.2042,     0.20521,     0.20621,     0.20721,     0.20821,     0.20921,     0.21021,     0.21121,     0.21221,     0.21321,     0.21421,     0.21522,\n",
              "           0.21622,     0.21722,     0.21822,     0.21922,     0.22022,     0.22122,     0.22222,     0.22322,     0.22422,     0.22523,     0.22623,     0.22723,     0.22823,     0.22923,     0.23023,     0.23123,     0.23223,     0.23323,     0.23423,     0.23524,     0.23624,     0.23724,     0.23824,     0.23924,\n",
              "           0.24024,     0.24124,     0.24224,     0.24324,     0.24424,     0.24525,     0.24625,     0.24725,     0.24825,     0.24925,     0.25025,     0.25125,     0.25225,     0.25325,     0.25425,     0.25526,     0.25626,     0.25726,     0.25826,     0.25926,     0.26026,     0.26126,     0.26226,     0.26326,\n",
              "           0.26426,     0.26527,     0.26627,     0.26727,     0.26827,     0.26927,     0.27027,     0.27127,     0.27227,     0.27327,     0.27427,     0.27528,     0.27628,     0.27728,     0.27828,     0.27928,     0.28028,     0.28128,     0.28228,     0.28328,     0.28428,     0.28529,     0.28629,     0.28729,\n",
              "           0.28829,     0.28929,     0.29029,     0.29129,     0.29229,     0.29329,     0.29429,      0.2953,      0.2963,      0.2973,      0.2983,      0.2993,      0.3003,      0.3013,      0.3023,      0.3033,      0.3043,     0.30531,     0.30631,     0.30731,     0.30831,     0.30931,     0.31031,     0.31131,\n",
              "           0.31231,     0.31331,     0.31431,     0.31532,     0.31632,     0.31732,     0.31832,     0.31932,     0.32032,     0.32132,     0.32232,     0.32332,     0.32432,     0.32533,     0.32633,     0.32733,     0.32833,     0.32933,     0.33033,     0.33133,     0.33233,     0.33333,     0.33433,     0.33534,\n",
              "           0.33634,     0.33734,     0.33834,     0.33934,     0.34034,     0.34134,     0.34234,     0.34334,     0.34434,     0.34535,     0.34635,     0.34735,     0.34835,     0.34935,     0.35035,     0.35135,     0.35235,     0.35335,     0.35435,     0.35536,     0.35636,     0.35736,     0.35836,     0.35936,\n",
              "           0.36036,     0.36136,     0.36236,     0.36336,     0.36436,     0.36537,     0.36637,     0.36737,     0.36837,     0.36937,     0.37037,     0.37137,     0.37237,     0.37337,     0.37437,     0.37538,     0.37638,     0.37738,     0.37838,     0.37938,     0.38038,     0.38138,     0.38238,     0.38338,\n",
              "           0.38438,     0.38539,     0.38639,     0.38739,     0.38839,     0.38939,     0.39039,     0.39139,     0.39239,     0.39339,     0.39439,      0.3954,      0.3964,      0.3974,      0.3984,      0.3994,      0.4004,      0.4014,      0.4024,      0.4034,      0.4044,     0.40541,     0.40641,     0.40741,\n",
              "           0.40841,     0.40941,     0.41041,     0.41141,     0.41241,     0.41341,     0.41441,     0.41542,     0.41642,     0.41742,     0.41842,     0.41942,     0.42042,     0.42142,     0.42242,     0.42342,     0.42442,     0.42543,     0.42643,     0.42743,     0.42843,     0.42943,     0.43043,     0.43143,\n",
              "           0.43243,     0.43343,     0.43443,     0.43544,     0.43644,     0.43744,     0.43844,     0.43944,     0.44044,     0.44144,     0.44244,     0.44344,     0.44444,     0.44545,     0.44645,     0.44745,     0.44845,     0.44945,     0.45045,     0.45145,     0.45245,     0.45345,     0.45445,     0.45546,\n",
              "           0.45646,     0.45746,     0.45846,     0.45946,     0.46046,     0.46146,     0.46246,     0.46346,     0.46446,     0.46547,     0.46647,     0.46747,     0.46847,     0.46947,     0.47047,     0.47147,     0.47247,     0.47347,     0.47447,     0.47548,     0.47648,     0.47748,     0.47848,     0.47948,\n",
              "           0.48048,     0.48148,     0.48248,     0.48348,     0.48448,     0.48549,     0.48649,     0.48749,     0.48849,     0.48949,     0.49049,     0.49149,     0.49249,     0.49349,     0.49449,      0.4955,      0.4965,      0.4975,      0.4985,      0.4995,      0.5005,      0.5015,      0.5025,      0.5035,\n",
              "            0.5045,     0.50551,     0.50651,     0.50751,     0.50851,     0.50951,     0.51051,     0.51151,     0.51251,     0.51351,     0.51451,     0.51552,     0.51652,     0.51752,     0.51852,     0.51952,     0.52052,     0.52152,     0.52252,     0.52352,     0.52452,     0.52553,     0.52653,     0.52753,\n",
              "           0.52853,     0.52953,     0.53053,     0.53153,     0.53253,     0.53353,     0.53453,     0.53554,     0.53654,     0.53754,     0.53854,     0.53954,     0.54054,     0.54154,     0.54254,     0.54354,     0.54454,     0.54555,     0.54655,     0.54755,     0.54855,     0.54955,     0.55055,     0.55155,\n",
              "           0.55255,     0.55355,     0.55455,     0.55556,     0.55656,     0.55756,     0.55856,     0.55956,     0.56056,     0.56156,     0.56256,     0.56356,     0.56456,     0.56557,     0.56657,     0.56757,     0.56857,     0.56957,     0.57057,     0.57157,     0.57257,     0.57357,     0.57457,     0.57558,\n",
              "           0.57658,     0.57758,     0.57858,     0.57958,     0.58058,     0.58158,     0.58258,     0.58358,     0.58458,     0.58559,     0.58659,     0.58759,     0.58859,     0.58959,     0.59059,     0.59159,     0.59259,     0.59359,     0.59459,      0.5956,      0.5966,      0.5976,      0.5986,      0.5996,\n",
              "            0.6006,      0.6016,      0.6026,      0.6036,      0.6046,     0.60561,     0.60661,     0.60761,     0.60861,     0.60961,     0.61061,     0.61161,     0.61261,     0.61361,     0.61461,     0.61562,     0.61662,     0.61762,     0.61862,     0.61962,     0.62062,     0.62162,     0.62262,     0.62362,\n",
              "           0.62462,     0.62563,     0.62663,     0.62763,     0.62863,     0.62963,     0.63063,     0.63163,     0.63263,     0.63363,     0.63463,     0.63564,     0.63664,     0.63764,     0.63864,     0.63964,     0.64064,     0.64164,     0.64264,     0.64364,     0.64464,     0.64565,     0.64665,     0.64765,\n",
              "           0.64865,     0.64965,     0.65065,     0.65165,     0.65265,     0.65365,     0.65465,     0.65566,     0.65666,     0.65766,     0.65866,     0.65966,     0.66066,     0.66166,     0.66266,     0.66366,     0.66466,     0.66567,     0.66667,     0.66767,     0.66867,     0.66967,     0.67067,     0.67167,\n",
              "           0.67267,     0.67367,     0.67467,     0.67568,     0.67668,     0.67768,     0.67868,     0.67968,     0.68068,     0.68168,     0.68268,     0.68368,     0.68468,     0.68569,     0.68669,     0.68769,     0.68869,     0.68969,     0.69069,     0.69169,     0.69269,     0.69369,     0.69469,      0.6957,\n",
              "            0.6967,      0.6977,      0.6987,      0.6997,      0.7007,      0.7017,      0.7027,      0.7037,      0.7047,     0.70571,     0.70671,     0.70771,     0.70871,     0.70971,     0.71071,     0.71171,     0.71271,     0.71371,     0.71471,     0.71572,     0.71672,     0.71772,     0.71872,     0.71972,\n",
              "           0.72072,     0.72172,     0.72272,     0.72372,     0.72472,     0.72573,     0.72673,     0.72773,     0.72873,     0.72973,     0.73073,     0.73173,     0.73273,     0.73373,     0.73473,     0.73574,     0.73674,     0.73774,     0.73874,     0.73974,     0.74074,     0.74174,     0.74274,     0.74374,\n",
              "           0.74474,     0.74575,     0.74675,     0.74775,     0.74875,     0.74975,     0.75075,     0.75175,     0.75275,     0.75375,     0.75475,     0.75576,     0.75676,     0.75776,     0.75876,     0.75976,     0.76076,     0.76176,     0.76276,     0.76376,     0.76476,     0.76577,     0.76677,     0.76777,\n",
              "           0.76877,     0.76977,     0.77077,     0.77177,     0.77277,     0.77377,     0.77477,     0.77578,     0.77678,     0.77778,     0.77878,     0.77978,     0.78078,     0.78178,     0.78278,     0.78378,     0.78478,     0.78579,     0.78679,     0.78779,     0.78879,     0.78979,     0.79079,     0.79179,\n",
              "           0.79279,     0.79379,     0.79479,      0.7958,      0.7968,      0.7978,      0.7988,      0.7998,      0.8008,      0.8018,      0.8028,      0.8038,      0.8048,     0.80581,     0.80681,     0.80781,     0.80881,     0.80981,     0.81081,     0.81181,     0.81281,     0.81381,     0.81481,     0.81582,\n",
              "           0.81682,     0.81782,     0.81882,     0.81982,     0.82082,     0.82182,     0.82282,     0.82382,     0.82482,     0.82583,     0.82683,     0.82783,     0.82883,     0.82983,     0.83083,     0.83183,     0.83283,     0.83383,     0.83483,     0.83584,     0.83684,     0.83784,     0.83884,     0.83984,\n",
              "           0.84084,     0.84184,     0.84284,     0.84384,     0.84484,     0.84585,     0.84685,     0.84785,     0.84885,     0.84985,     0.85085,     0.85185,     0.85285,     0.85385,     0.85485,     0.85586,     0.85686,     0.85786,     0.85886,     0.85986,     0.86086,     0.86186,     0.86286,     0.86386,\n",
              "           0.86486,     0.86587,     0.86687,     0.86787,     0.86887,     0.86987,     0.87087,     0.87187,     0.87287,     0.87387,     0.87487,     0.87588,     0.87688,     0.87788,     0.87888,     0.87988,     0.88088,     0.88188,     0.88288,     0.88388,     0.88488,     0.88589,     0.88689,     0.88789,\n",
              "           0.88889,     0.88989,     0.89089,     0.89189,     0.89289,     0.89389,     0.89489,      0.8959,      0.8969,      0.8979,      0.8989,      0.8999,      0.9009,      0.9019,      0.9029,      0.9039,      0.9049,     0.90591,     0.90691,     0.90791,     0.90891,     0.90991,     0.91091,     0.91191,\n",
              "           0.91291,     0.91391,     0.91491,     0.91592,     0.91692,     0.91792,     0.91892,     0.91992,     0.92092,     0.92192,     0.92292,     0.92392,     0.92492,     0.92593,     0.92693,     0.92793,     0.92893,     0.92993,     0.93093,     0.93193,     0.93293,     0.93393,     0.93493,     0.93594,\n",
              "           0.93694,     0.93794,     0.93894,     0.93994,     0.94094,     0.94194,     0.94294,     0.94394,     0.94494,     0.94595,     0.94695,     0.94795,     0.94895,     0.94995,     0.95095,     0.95195,     0.95295,     0.95395,     0.95495,     0.95596,     0.95696,     0.95796,     0.95896,     0.95996,\n",
              "           0.96096,     0.96196,     0.96296,     0.96396,     0.96496,     0.96597,     0.96697,     0.96797,     0.96897,     0.96997,     0.97097,     0.97197,     0.97297,     0.97397,     0.97497,     0.97598,     0.97698,     0.97798,     0.97898,     0.97998,     0.98098,     0.98198,     0.98298,     0.98398,\n",
              "           0.98498,     0.98599,     0.98699,     0.98799,     0.98899,     0.98999,     0.99099,     0.99199,     0.99299,     0.99399,     0.99499,       0.996,       0.997,       0.998,       0.999,           1]), array([[    0.59556,     0.59556,     0.70333, ...,           0,           0,           0],\n",
              "       [    0.63279,     0.63279,     0.71616, ...,           0,           0,           0],\n",
              "       [    0.59948,     0.59948,     0.68749, ...,           0,           0,           0]]), 'Confidence', 'F1'], [array([          0,    0.001001,    0.002002,    0.003003,    0.004004,    0.005005,    0.006006,    0.007007,    0.008008,    0.009009,     0.01001,    0.011011,    0.012012,    0.013013,    0.014014,    0.015015,    0.016016,    0.017017,    0.018018,    0.019019,     0.02002,    0.021021,    0.022022,    0.023023,\n",
              "          0.024024,    0.025025,    0.026026,    0.027027,    0.028028,    0.029029,     0.03003,    0.031031,    0.032032,    0.033033,    0.034034,    0.035035,    0.036036,    0.037037,    0.038038,    0.039039,     0.04004,    0.041041,    0.042042,    0.043043,    0.044044,    0.045045,    0.046046,    0.047047,\n",
              "          0.048048,    0.049049,     0.05005,    0.051051,    0.052052,    0.053053,    0.054054,    0.055055,    0.056056,    0.057057,    0.058058,    0.059059,     0.06006,    0.061061,    0.062062,    0.063063,    0.064064,    0.065065,    0.066066,    0.067067,    0.068068,    0.069069,     0.07007,    0.071071,\n",
              "          0.072072,    0.073073,    0.074074,    0.075075,    0.076076,    0.077077,    0.078078,    0.079079,     0.08008,    0.081081,    0.082082,    0.083083,    0.084084,    0.085085,    0.086086,    0.087087,    0.088088,    0.089089,     0.09009,    0.091091,    0.092092,    0.093093,    0.094094,    0.095095,\n",
              "          0.096096,    0.097097,    0.098098,    0.099099,      0.1001,      0.1011,      0.1021,      0.1031,      0.1041,     0.10511,     0.10611,     0.10711,     0.10811,     0.10911,     0.11011,     0.11111,     0.11211,     0.11311,     0.11411,     0.11512,     0.11612,     0.11712,     0.11812,     0.11912,\n",
              "           0.12012,     0.12112,     0.12212,     0.12312,     0.12412,     0.12513,     0.12613,     0.12713,     0.12813,     0.12913,     0.13013,     0.13113,     0.13213,     0.13313,     0.13413,     0.13514,     0.13614,     0.13714,     0.13814,     0.13914,     0.14014,     0.14114,     0.14214,     0.14314,\n",
              "           0.14414,     0.14515,     0.14615,     0.14715,     0.14815,     0.14915,     0.15015,     0.15115,     0.15215,     0.15315,     0.15415,     0.15516,     0.15616,     0.15716,     0.15816,     0.15916,     0.16016,     0.16116,     0.16216,     0.16316,     0.16416,     0.16517,     0.16617,     0.16717,\n",
              "           0.16817,     0.16917,     0.17017,     0.17117,     0.17217,     0.17317,     0.17417,     0.17518,     0.17618,     0.17718,     0.17818,     0.17918,     0.18018,     0.18118,     0.18218,     0.18318,     0.18418,     0.18519,     0.18619,     0.18719,     0.18819,     0.18919,     0.19019,     0.19119,\n",
              "           0.19219,     0.19319,     0.19419,      0.1952,      0.1962,      0.1972,      0.1982,      0.1992,      0.2002,      0.2012,      0.2022,      0.2032,      0.2042,     0.20521,     0.20621,     0.20721,     0.20821,     0.20921,     0.21021,     0.21121,     0.21221,     0.21321,     0.21421,     0.21522,\n",
              "           0.21622,     0.21722,     0.21822,     0.21922,     0.22022,     0.22122,     0.22222,     0.22322,     0.22422,     0.22523,     0.22623,     0.22723,     0.22823,     0.22923,     0.23023,     0.23123,     0.23223,     0.23323,     0.23423,     0.23524,     0.23624,     0.23724,     0.23824,     0.23924,\n",
              "           0.24024,     0.24124,     0.24224,     0.24324,     0.24424,     0.24525,     0.24625,     0.24725,     0.24825,     0.24925,     0.25025,     0.25125,     0.25225,     0.25325,     0.25425,     0.25526,     0.25626,     0.25726,     0.25826,     0.25926,     0.26026,     0.26126,     0.26226,     0.26326,\n",
              "           0.26426,     0.26527,     0.26627,     0.26727,     0.26827,     0.26927,     0.27027,     0.27127,     0.27227,     0.27327,     0.27427,     0.27528,     0.27628,     0.27728,     0.27828,     0.27928,     0.28028,     0.28128,     0.28228,     0.28328,     0.28428,     0.28529,     0.28629,     0.28729,\n",
              "           0.28829,     0.28929,     0.29029,     0.29129,     0.29229,     0.29329,     0.29429,      0.2953,      0.2963,      0.2973,      0.2983,      0.2993,      0.3003,      0.3013,      0.3023,      0.3033,      0.3043,     0.30531,     0.30631,     0.30731,     0.30831,     0.30931,     0.31031,     0.31131,\n",
              "           0.31231,     0.31331,     0.31431,     0.31532,     0.31632,     0.31732,     0.31832,     0.31932,     0.32032,     0.32132,     0.32232,     0.32332,     0.32432,     0.32533,     0.32633,     0.32733,     0.32833,     0.32933,     0.33033,     0.33133,     0.33233,     0.33333,     0.33433,     0.33534,\n",
              "           0.33634,     0.33734,     0.33834,     0.33934,     0.34034,     0.34134,     0.34234,     0.34334,     0.34434,     0.34535,     0.34635,     0.34735,     0.34835,     0.34935,     0.35035,     0.35135,     0.35235,     0.35335,     0.35435,     0.35536,     0.35636,     0.35736,     0.35836,     0.35936,\n",
              "           0.36036,     0.36136,     0.36236,     0.36336,     0.36436,     0.36537,     0.36637,     0.36737,     0.36837,     0.36937,     0.37037,     0.37137,     0.37237,     0.37337,     0.37437,     0.37538,     0.37638,     0.37738,     0.37838,     0.37938,     0.38038,     0.38138,     0.38238,     0.38338,\n",
              "           0.38438,     0.38539,     0.38639,     0.38739,     0.38839,     0.38939,     0.39039,     0.39139,     0.39239,     0.39339,     0.39439,      0.3954,      0.3964,      0.3974,      0.3984,      0.3994,      0.4004,      0.4014,      0.4024,      0.4034,      0.4044,     0.40541,     0.40641,     0.40741,\n",
              "           0.40841,     0.40941,     0.41041,     0.41141,     0.41241,     0.41341,     0.41441,     0.41542,     0.41642,     0.41742,     0.41842,     0.41942,     0.42042,     0.42142,     0.42242,     0.42342,     0.42442,     0.42543,     0.42643,     0.42743,     0.42843,     0.42943,     0.43043,     0.43143,\n",
              "           0.43243,     0.43343,     0.43443,     0.43544,     0.43644,     0.43744,     0.43844,     0.43944,     0.44044,     0.44144,     0.44244,     0.44344,     0.44444,     0.44545,     0.44645,     0.44745,     0.44845,     0.44945,     0.45045,     0.45145,     0.45245,     0.45345,     0.45445,     0.45546,\n",
              "           0.45646,     0.45746,     0.45846,     0.45946,     0.46046,     0.46146,     0.46246,     0.46346,     0.46446,     0.46547,     0.46647,     0.46747,     0.46847,     0.46947,     0.47047,     0.47147,     0.47247,     0.47347,     0.47447,     0.47548,     0.47648,     0.47748,     0.47848,     0.47948,\n",
              "           0.48048,     0.48148,     0.48248,     0.48348,     0.48448,     0.48549,     0.48649,     0.48749,     0.48849,     0.48949,     0.49049,     0.49149,     0.49249,     0.49349,     0.49449,      0.4955,      0.4965,      0.4975,      0.4985,      0.4995,      0.5005,      0.5015,      0.5025,      0.5035,\n",
              "            0.5045,     0.50551,     0.50651,     0.50751,     0.50851,     0.50951,     0.51051,     0.51151,     0.51251,     0.51351,     0.51451,     0.51552,     0.51652,     0.51752,     0.51852,     0.51952,     0.52052,     0.52152,     0.52252,     0.52352,     0.52452,     0.52553,     0.52653,     0.52753,\n",
              "           0.52853,     0.52953,     0.53053,     0.53153,     0.53253,     0.53353,     0.53453,     0.53554,     0.53654,     0.53754,     0.53854,     0.53954,     0.54054,     0.54154,     0.54254,     0.54354,     0.54454,     0.54555,     0.54655,     0.54755,     0.54855,     0.54955,     0.55055,     0.55155,\n",
              "           0.55255,     0.55355,     0.55455,     0.55556,     0.55656,     0.55756,     0.55856,     0.55956,     0.56056,     0.56156,     0.56256,     0.56356,     0.56456,     0.56557,     0.56657,     0.56757,     0.56857,     0.56957,     0.57057,     0.57157,     0.57257,     0.57357,     0.57457,     0.57558,\n",
              "           0.57658,     0.57758,     0.57858,     0.57958,     0.58058,     0.58158,     0.58258,     0.58358,     0.58458,     0.58559,     0.58659,     0.58759,     0.58859,     0.58959,     0.59059,     0.59159,     0.59259,     0.59359,     0.59459,      0.5956,      0.5966,      0.5976,      0.5986,      0.5996,\n",
              "            0.6006,      0.6016,      0.6026,      0.6036,      0.6046,     0.60561,     0.60661,     0.60761,     0.60861,     0.60961,     0.61061,     0.61161,     0.61261,     0.61361,     0.61461,     0.61562,     0.61662,     0.61762,     0.61862,     0.61962,     0.62062,     0.62162,     0.62262,     0.62362,\n",
              "           0.62462,     0.62563,     0.62663,     0.62763,     0.62863,     0.62963,     0.63063,     0.63163,     0.63263,     0.63363,     0.63463,     0.63564,     0.63664,     0.63764,     0.63864,     0.63964,     0.64064,     0.64164,     0.64264,     0.64364,     0.64464,     0.64565,     0.64665,     0.64765,\n",
              "           0.64865,     0.64965,     0.65065,     0.65165,     0.65265,     0.65365,     0.65465,     0.65566,     0.65666,     0.65766,     0.65866,     0.65966,     0.66066,     0.66166,     0.66266,     0.66366,     0.66466,     0.66567,     0.66667,     0.66767,     0.66867,     0.66967,     0.67067,     0.67167,\n",
              "           0.67267,     0.67367,     0.67467,     0.67568,     0.67668,     0.67768,     0.67868,     0.67968,     0.68068,     0.68168,     0.68268,     0.68368,     0.68468,     0.68569,     0.68669,     0.68769,     0.68869,     0.68969,     0.69069,     0.69169,     0.69269,     0.69369,     0.69469,      0.6957,\n",
              "            0.6967,      0.6977,      0.6987,      0.6997,      0.7007,      0.7017,      0.7027,      0.7037,      0.7047,     0.70571,     0.70671,     0.70771,     0.70871,     0.70971,     0.71071,     0.71171,     0.71271,     0.71371,     0.71471,     0.71572,     0.71672,     0.71772,     0.71872,     0.71972,\n",
              "           0.72072,     0.72172,     0.72272,     0.72372,     0.72472,     0.72573,     0.72673,     0.72773,     0.72873,     0.72973,     0.73073,     0.73173,     0.73273,     0.73373,     0.73473,     0.73574,     0.73674,     0.73774,     0.73874,     0.73974,     0.74074,     0.74174,     0.74274,     0.74374,\n",
              "           0.74474,     0.74575,     0.74675,     0.74775,     0.74875,     0.74975,     0.75075,     0.75175,     0.75275,     0.75375,     0.75475,     0.75576,     0.75676,     0.75776,     0.75876,     0.75976,     0.76076,     0.76176,     0.76276,     0.76376,     0.76476,     0.76577,     0.76677,     0.76777,\n",
              "           0.76877,     0.76977,     0.77077,     0.77177,     0.77277,     0.77377,     0.77477,     0.77578,     0.77678,     0.77778,     0.77878,     0.77978,     0.78078,     0.78178,     0.78278,     0.78378,     0.78478,     0.78579,     0.78679,     0.78779,     0.78879,     0.78979,     0.79079,     0.79179,\n",
              "           0.79279,     0.79379,     0.79479,      0.7958,      0.7968,      0.7978,      0.7988,      0.7998,      0.8008,      0.8018,      0.8028,      0.8038,      0.8048,     0.80581,     0.80681,     0.80781,     0.80881,     0.80981,     0.81081,     0.81181,     0.81281,     0.81381,     0.81481,     0.81582,\n",
              "           0.81682,     0.81782,     0.81882,     0.81982,     0.82082,     0.82182,     0.82282,     0.82382,     0.82482,     0.82583,     0.82683,     0.82783,     0.82883,     0.82983,     0.83083,     0.83183,     0.83283,     0.83383,     0.83483,     0.83584,     0.83684,     0.83784,     0.83884,     0.83984,\n",
              "           0.84084,     0.84184,     0.84284,     0.84384,     0.84484,     0.84585,     0.84685,     0.84785,     0.84885,     0.84985,     0.85085,     0.85185,     0.85285,     0.85385,     0.85485,     0.85586,     0.85686,     0.85786,     0.85886,     0.85986,     0.86086,     0.86186,     0.86286,     0.86386,\n",
              "           0.86486,     0.86587,     0.86687,     0.86787,     0.86887,     0.86987,     0.87087,     0.87187,     0.87287,     0.87387,     0.87487,     0.87588,     0.87688,     0.87788,     0.87888,     0.87988,     0.88088,     0.88188,     0.88288,     0.88388,     0.88488,     0.88589,     0.88689,     0.88789,\n",
              "           0.88889,     0.88989,     0.89089,     0.89189,     0.89289,     0.89389,     0.89489,      0.8959,      0.8969,      0.8979,      0.8989,      0.8999,      0.9009,      0.9019,      0.9029,      0.9039,      0.9049,     0.90591,     0.90691,     0.90791,     0.90891,     0.90991,     0.91091,     0.91191,\n",
              "           0.91291,     0.91391,     0.91491,     0.91592,     0.91692,     0.91792,     0.91892,     0.91992,     0.92092,     0.92192,     0.92292,     0.92392,     0.92492,     0.92593,     0.92693,     0.92793,     0.92893,     0.92993,     0.93093,     0.93193,     0.93293,     0.93393,     0.93493,     0.93594,\n",
              "           0.93694,     0.93794,     0.93894,     0.93994,     0.94094,     0.94194,     0.94294,     0.94394,     0.94494,     0.94595,     0.94695,     0.94795,     0.94895,     0.94995,     0.95095,     0.95195,     0.95295,     0.95395,     0.95495,     0.95596,     0.95696,     0.95796,     0.95896,     0.95996,\n",
              "           0.96096,     0.96196,     0.96296,     0.96396,     0.96496,     0.96597,     0.96697,     0.96797,     0.96897,     0.96997,     0.97097,     0.97197,     0.97297,     0.97397,     0.97497,     0.97598,     0.97698,     0.97798,     0.97898,     0.97998,     0.98098,     0.98198,     0.98298,     0.98398,\n",
              "           0.98498,     0.98599,     0.98699,     0.98799,     0.98899,     0.98999,     0.99099,     0.99199,     0.99299,     0.99399,     0.99499,       0.996,       0.997,       0.998,       0.999,           1]), array([[    0.43087,     0.43087,     0.55361, ...,           1,           1,           1],\n",
              "       [    0.46918,     0.46918,     0.56706, ...,           1,           1,           1],\n",
              "       [    0.43446,     0.43446,     0.53343, ...,           1,           1,           1]]), 'Confidence', 'Precision'], [array([          0,    0.001001,    0.002002,    0.003003,    0.004004,    0.005005,    0.006006,    0.007007,    0.008008,    0.009009,     0.01001,    0.011011,    0.012012,    0.013013,    0.014014,    0.015015,    0.016016,    0.017017,    0.018018,    0.019019,     0.02002,    0.021021,    0.022022,    0.023023,\n",
              "          0.024024,    0.025025,    0.026026,    0.027027,    0.028028,    0.029029,     0.03003,    0.031031,    0.032032,    0.033033,    0.034034,    0.035035,    0.036036,    0.037037,    0.038038,    0.039039,     0.04004,    0.041041,    0.042042,    0.043043,    0.044044,    0.045045,    0.046046,    0.047047,\n",
              "          0.048048,    0.049049,     0.05005,    0.051051,    0.052052,    0.053053,    0.054054,    0.055055,    0.056056,    0.057057,    0.058058,    0.059059,     0.06006,    0.061061,    0.062062,    0.063063,    0.064064,    0.065065,    0.066066,    0.067067,    0.068068,    0.069069,     0.07007,    0.071071,\n",
              "          0.072072,    0.073073,    0.074074,    0.075075,    0.076076,    0.077077,    0.078078,    0.079079,     0.08008,    0.081081,    0.082082,    0.083083,    0.084084,    0.085085,    0.086086,    0.087087,    0.088088,    0.089089,     0.09009,    0.091091,    0.092092,    0.093093,    0.094094,    0.095095,\n",
              "          0.096096,    0.097097,    0.098098,    0.099099,      0.1001,      0.1011,      0.1021,      0.1031,      0.1041,     0.10511,     0.10611,     0.10711,     0.10811,     0.10911,     0.11011,     0.11111,     0.11211,     0.11311,     0.11411,     0.11512,     0.11612,     0.11712,     0.11812,     0.11912,\n",
              "           0.12012,     0.12112,     0.12212,     0.12312,     0.12412,     0.12513,     0.12613,     0.12713,     0.12813,     0.12913,     0.13013,     0.13113,     0.13213,     0.13313,     0.13413,     0.13514,     0.13614,     0.13714,     0.13814,     0.13914,     0.14014,     0.14114,     0.14214,     0.14314,\n",
              "           0.14414,     0.14515,     0.14615,     0.14715,     0.14815,     0.14915,     0.15015,     0.15115,     0.15215,     0.15315,     0.15415,     0.15516,     0.15616,     0.15716,     0.15816,     0.15916,     0.16016,     0.16116,     0.16216,     0.16316,     0.16416,     0.16517,     0.16617,     0.16717,\n",
              "           0.16817,     0.16917,     0.17017,     0.17117,     0.17217,     0.17317,     0.17417,     0.17518,     0.17618,     0.17718,     0.17818,     0.17918,     0.18018,     0.18118,     0.18218,     0.18318,     0.18418,     0.18519,     0.18619,     0.18719,     0.18819,     0.18919,     0.19019,     0.19119,\n",
              "           0.19219,     0.19319,     0.19419,      0.1952,      0.1962,      0.1972,      0.1982,      0.1992,      0.2002,      0.2012,      0.2022,      0.2032,      0.2042,     0.20521,     0.20621,     0.20721,     0.20821,     0.20921,     0.21021,     0.21121,     0.21221,     0.21321,     0.21421,     0.21522,\n",
              "           0.21622,     0.21722,     0.21822,     0.21922,     0.22022,     0.22122,     0.22222,     0.22322,     0.22422,     0.22523,     0.22623,     0.22723,     0.22823,     0.22923,     0.23023,     0.23123,     0.23223,     0.23323,     0.23423,     0.23524,     0.23624,     0.23724,     0.23824,     0.23924,\n",
              "           0.24024,     0.24124,     0.24224,     0.24324,     0.24424,     0.24525,     0.24625,     0.24725,     0.24825,     0.24925,     0.25025,     0.25125,     0.25225,     0.25325,     0.25425,     0.25526,     0.25626,     0.25726,     0.25826,     0.25926,     0.26026,     0.26126,     0.26226,     0.26326,\n",
              "           0.26426,     0.26527,     0.26627,     0.26727,     0.26827,     0.26927,     0.27027,     0.27127,     0.27227,     0.27327,     0.27427,     0.27528,     0.27628,     0.27728,     0.27828,     0.27928,     0.28028,     0.28128,     0.28228,     0.28328,     0.28428,     0.28529,     0.28629,     0.28729,\n",
              "           0.28829,     0.28929,     0.29029,     0.29129,     0.29229,     0.29329,     0.29429,      0.2953,      0.2963,      0.2973,      0.2983,      0.2993,      0.3003,      0.3013,      0.3023,      0.3033,      0.3043,     0.30531,     0.30631,     0.30731,     0.30831,     0.30931,     0.31031,     0.31131,\n",
              "           0.31231,     0.31331,     0.31431,     0.31532,     0.31632,     0.31732,     0.31832,     0.31932,     0.32032,     0.32132,     0.32232,     0.32332,     0.32432,     0.32533,     0.32633,     0.32733,     0.32833,     0.32933,     0.33033,     0.33133,     0.33233,     0.33333,     0.33433,     0.33534,\n",
              "           0.33634,     0.33734,     0.33834,     0.33934,     0.34034,     0.34134,     0.34234,     0.34334,     0.34434,     0.34535,     0.34635,     0.34735,     0.34835,     0.34935,     0.35035,     0.35135,     0.35235,     0.35335,     0.35435,     0.35536,     0.35636,     0.35736,     0.35836,     0.35936,\n",
              "           0.36036,     0.36136,     0.36236,     0.36336,     0.36436,     0.36537,     0.36637,     0.36737,     0.36837,     0.36937,     0.37037,     0.37137,     0.37237,     0.37337,     0.37437,     0.37538,     0.37638,     0.37738,     0.37838,     0.37938,     0.38038,     0.38138,     0.38238,     0.38338,\n",
              "           0.38438,     0.38539,     0.38639,     0.38739,     0.38839,     0.38939,     0.39039,     0.39139,     0.39239,     0.39339,     0.39439,      0.3954,      0.3964,      0.3974,      0.3984,      0.3994,      0.4004,      0.4014,      0.4024,      0.4034,      0.4044,     0.40541,     0.40641,     0.40741,\n",
              "           0.40841,     0.40941,     0.41041,     0.41141,     0.41241,     0.41341,     0.41441,     0.41542,     0.41642,     0.41742,     0.41842,     0.41942,     0.42042,     0.42142,     0.42242,     0.42342,     0.42442,     0.42543,     0.42643,     0.42743,     0.42843,     0.42943,     0.43043,     0.43143,\n",
              "           0.43243,     0.43343,     0.43443,     0.43544,     0.43644,     0.43744,     0.43844,     0.43944,     0.44044,     0.44144,     0.44244,     0.44344,     0.44444,     0.44545,     0.44645,     0.44745,     0.44845,     0.44945,     0.45045,     0.45145,     0.45245,     0.45345,     0.45445,     0.45546,\n",
              "           0.45646,     0.45746,     0.45846,     0.45946,     0.46046,     0.46146,     0.46246,     0.46346,     0.46446,     0.46547,     0.46647,     0.46747,     0.46847,     0.46947,     0.47047,     0.47147,     0.47247,     0.47347,     0.47447,     0.47548,     0.47648,     0.47748,     0.47848,     0.47948,\n",
              "           0.48048,     0.48148,     0.48248,     0.48348,     0.48448,     0.48549,     0.48649,     0.48749,     0.48849,     0.48949,     0.49049,     0.49149,     0.49249,     0.49349,     0.49449,      0.4955,      0.4965,      0.4975,      0.4985,      0.4995,      0.5005,      0.5015,      0.5025,      0.5035,\n",
              "            0.5045,     0.50551,     0.50651,     0.50751,     0.50851,     0.50951,     0.51051,     0.51151,     0.51251,     0.51351,     0.51451,     0.51552,     0.51652,     0.51752,     0.51852,     0.51952,     0.52052,     0.52152,     0.52252,     0.52352,     0.52452,     0.52553,     0.52653,     0.52753,\n",
              "           0.52853,     0.52953,     0.53053,     0.53153,     0.53253,     0.53353,     0.53453,     0.53554,     0.53654,     0.53754,     0.53854,     0.53954,     0.54054,     0.54154,     0.54254,     0.54354,     0.54454,     0.54555,     0.54655,     0.54755,     0.54855,     0.54955,     0.55055,     0.55155,\n",
              "           0.55255,     0.55355,     0.55455,     0.55556,     0.55656,     0.55756,     0.55856,     0.55956,     0.56056,     0.56156,     0.56256,     0.56356,     0.56456,     0.56557,     0.56657,     0.56757,     0.56857,     0.56957,     0.57057,     0.57157,     0.57257,     0.57357,     0.57457,     0.57558,\n",
              "           0.57658,     0.57758,     0.57858,     0.57958,     0.58058,     0.58158,     0.58258,     0.58358,     0.58458,     0.58559,     0.58659,     0.58759,     0.58859,     0.58959,     0.59059,     0.59159,     0.59259,     0.59359,     0.59459,      0.5956,      0.5966,      0.5976,      0.5986,      0.5996,\n",
              "            0.6006,      0.6016,      0.6026,      0.6036,      0.6046,     0.60561,     0.60661,     0.60761,     0.60861,     0.60961,     0.61061,     0.61161,     0.61261,     0.61361,     0.61461,     0.61562,     0.61662,     0.61762,     0.61862,     0.61962,     0.62062,     0.62162,     0.62262,     0.62362,\n",
              "           0.62462,     0.62563,     0.62663,     0.62763,     0.62863,     0.62963,     0.63063,     0.63163,     0.63263,     0.63363,     0.63463,     0.63564,     0.63664,     0.63764,     0.63864,     0.63964,     0.64064,     0.64164,     0.64264,     0.64364,     0.64464,     0.64565,     0.64665,     0.64765,\n",
              "           0.64865,     0.64965,     0.65065,     0.65165,     0.65265,     0.65365,     0.65465,     0.65566,     0.65666,     0.65766,     0.65866,     0.65966,     0.66066,     0.66166,     0.66266,     0.66366,     0.66466,     0.66567,     0.66667,     0.66767,     0.66867,     0.66967,     0.67067,     0.67167,\n",
              "           0.67267,     0.67367,     0.67467,     0.67568,     0.67668,     0.67768,     0.67868,     0.67968,     0.68068,     0.68168,     0.68268,     0.68368,     0.68468,     0.68569,     0.68669,     0.68769,     0.68869,     0.68969,     0.69069,     0.69169,     0.69269,     0.69369,     0.69469,      0.6957,\n",
              "            0.6967,      0.6977,      0.6987,      0.6997,      0.7007,      0.7017,      0.7027,      0.7037,      0.7047,     0.70571,     0.70671,     0.70771,     0.70871,     0.70971,     0.71071,     0.71171,     0.71271,     0.71371,     0.71471,     0.71572,     0.71672,     0.71772,     0.71872,     0.71972,\n",
              "           0.72072,     0.72172,     0.72272,     0.72372,     0.72472,     0.72573,     0.72673,     0.72773,     0.72873,     0.72973,     0.73073,     0.73173,     0.73273,     0.73373,     0.73473,     0.73574,     0.73674,     0.73774,     0.73874,     0.73974,     0.74074,     0.74174,     0.74274,     0.74374,\n",
              "           0.74474,     0.74575,     0.74675,     0.74775,     0.74875,     0.74975,     0.75075,     0.75175,     0.75275,     0.75375,     0.75475,     0.75576,     0.75676,     0.75776,     0.75876,     0.75976,     0.76076,     0.76176,     0.76276,     0.76376,     0.76476,     0.76577,     0.76677,     0.76777,\n",
              "           0.76877,     0.76977,     0.77077,     0.77177,     0.77277,     0.77377,     0.77477,     0.77578,     0.77678,     0.77778,     0.77878,     0.77978,     0.78078,     0.78178,     0.78278,     0.78378,     0.78478,     0.78579,     0.78679,     0.78779,     0.78879,     0.78979,     0.79079,     0.79179,\n",
              "           0.79279,     0.79379,     0.79479,      0.7958,      0.7968,      0.7978,      0.7988,      0.7998,      0.8008,      0.8018,      0.8028,      0.8038,      0.8048,     0.80581,     0.80681,     0.80781,     0.80881,     0.80981,     0.81081,     0.81181,     0.81281,     0.81381,     0.81481,     0.81582,\n",
              "           0.81682,     0.81782,     0.81882,     0.81982,     0.82082,     0.82182,     0.82282,     0.82382,     0.82482,     0.82583,     0.82683,     0.82783,     0.82883,     0.82983,     0.83083,     0.83183,     0.83283,     0.83383,     0.83483,     0.83584,     0.83684,     0.83784,     0.83884,     0.83984,\n",
              "           0.84084,     0.84184,     0.84284,     0.84384,     0.84484,     0.84585,     0.84685,     0.84785,     0.84885,     0.84985,     0.85085,     0.85185,     0.85285,     0.85385,     0.85485,     0.85586,     0.85686,     0.85786,     0.85886,     0.85986,     0.86086,     0.86186,     0.86286,     0.86386,\n",
              "           0.86486,     0.86587,     0.86687,     0.86787,     0.86887,     0.86987,     0.87087,     0.87187,     0.87287,     0.87387,     0.87487,     0.87588,     0.87688,     0.87788,     0.87888,     0.87988,     0.88088,     0.88188,     0.88288,     0.88388,     0.88488,     0.88589,     0.88689,     0.88789,\n",
              "           0.88889,     0.88989,     0.89089,     0.89189,     0.89289,     0.89389,     0.89489,      0.8959,      0.8969,      0.8979,      0.8989,      0.8999,      0.9009,      0.9019,      0.9029,      0.9039,      0.9049,     0.90591,     0.90691,     0.90791,     0.90891,     0.90991,     0.91091,     0.91191,\n",
              "           0.91291,     0.91391,     0.91491,     0.91592,     0.91692,     0.91792,     0.91892,     0.91992,     0.92092,     0.92192,     0.92292,     0.92392,     0.92492,     0.92593,     0.92693,     0.92793,     0.92893,     0.92993,     0.93093,     0.93193,     0.93293,     0.93393,     0.93493,     0.93594,\n",
              "           0.93694,     0.93794,     0.93894,     0.93994,     0.94094,     0.94194,     0.94294,     0.94394,     0.94494,     0.94595,     0.94695,     0.94795,     0.94895,     0.94995,     0.95095,     0.95195,     0.95295,     0.95395,     0.95495,     0.95596,     0.95696,     0.95796,     0.95896,     0.95996,\n",
              "           0.96096,     0.96196,     0.96296,     0.96396,     0.96496,     0.96597,     0.96697,     0.96797,     0.96897,     0.96997,     0.97097,     0.97197,     0.97297,     0.97397,     0.97497,     0.97598,     0.97698,     0.97798,     0.97898,     0.97998,     0.98098,     0.98198,     0.98298,     0.98398,\n",
              "           0.98498,     0.98599,     0.98699,     0.98799,     0.98899,     0.98999,     0.99099,     0.99199,     0.99299,     0.99399,     0.99499,       0.996,       0.997,       0.998,       0.999,           1]), array([[    0.96403,     0.96403,     0.96403, ...,           0,           0,           0],\n",
              "       [    0.97163,     0.97163,     0.97163, ...,           0,           0,           0],\n",
              "       [    0.96667,     0.96667,     0.96667, ...,           0,           0,           0]]), 'Confidence', 'Recall']]\n",
              "fitness: 0.8010836166310197\n",
              "keys: ['metrics/precision(B)', 'metrics/recall(B)', 'metrics/mAP50(B)', 'metrics/mAP50-95(B)']\n",
              "maps: array([    0.78653,     0.76827,     0.79558])\n",
              "names: {0: 'Paper', 1: 'Rock', 2: 'Scissors'}\n",
              "plot: True\n",
              "results_dict: {'metrics/precision(B)': 0.9553806363335197, 'metrics/recall(B)': 0.9368007721482389, 'metrics/mAP50(B)': 0.9597276343099527, 'metrics/mAP50-95(B)': 0.7834565035555827, 'fitness': 0.8010836166310197}\n",
              "save_dir: PosixPath('runs/detect/train')\n",
              "speed: {'preprocess': 0.46642786926693386, 'inference': 2.8302429450882802, 'loss': 0.0006241930855645073, 'postprocess': 4.3902773824003}\n",
              "task: 'detect'"
            ]
          },
          "execution_count": 10,
          "metadata": {},
          "output_type": "execute_result"
        }
      ],
      "source": [
        "from ultralytics import YOLO\n",
        "\n",
        "# Load the YOLOv8 model\n",
        "model = YOLO('yolov8n.pt')\n",
        "\n",
        "# Train the model\n",
        "model.train(data=os.path.join(base_dir, \"data.yaml\"), epochs=50, imgsz=640)"
      ]
    },
    {
      "cell_type": "code",
      "execution_count": null,
      "metadata": {
        "colab": {
          "base_uri": "https://localhost:8080/",
          "height": 1000
        },
        "id": "fu6dtOUTTenL",
        "outputId": "1d61df02-ecaf-4136-aca6-575f3cef34a5"
      },
      "outputs": [
        {
          "name": "stdout",
          "output_type": "stream",
          "text": [
            "\n",
            "image 1/304 /content/drive/My Drive/Rock_Paper_Scissors/test/images/10e0gvm_jpg.rf.3b68a834fab647f30a57fc3ea92d4cd2.jpg: 640x640 (no detections), 40.1ms\n",
            "image 2/304 /content/drive/My Drive/Rock_Paper_Scissors/test/images/15208484cellblock_jpg.rf.95cbda1e169a66105fbf2aa22959a73b.jpg: 640x640 (no detections), 8.9ms\n",
            "image 3/304 /content/drive/My Drive/Rock_Paper_Scissors/test/images/19171_298_298_1_0_jpg.rf.0024dfb25d7b5a13a78e94fca47ef004.jpg: 640x640 (no detections), 9.2ms\n",
            "image 4/304 /content/drive/My Drive/Rock_Paper_Scissors/test/images/20061004021831_jpg.rf.8667d8aa5599deb901289c024eed4313.jpg: 640x640 (no detections), 18.4ms\n",
            "image 5/304 /content/drive/My Drive/Rock_Paper_Scissors/test/images/20220216_221550_jpg.rf.02a071a383151953fcf8671fc7fca3af.jpg: 640x640 1 Scissors, 16.6ms\n",
            "image 6/304 /content/drive/My Drive/Rock_Paper_Scissors/test/images/20220216_221819_jpg.rf.295ebb583293f91f74e1700f0ab0639a.jpg: 640x640 1 Rock, 20.9ms\n",
            "image 7/304 /content/drive/My Drive/Rock_Paper_Scissors/test/images/20220216_221856_jpg.rf.c551cb3856f480cba36d6aa58e3300cd.jpg: 640x640 1 Rock, 9.5ms\n",
            "image 8/304 /content/drive/My Drive/Rock_Paper_Scissors/test/images/20220216_222153_jpg.rf.a2bd5f6dd7833d67c9cb2e1d9ca298cc.jpg: 640x640 1 Scissors, 15.5ms\n",
            "image 9/304 /content/drive/My Drive/Rock_Paper_Scissors/test/images/20220216_222607_jpg.rf.2d3554cdf3b954df7e481bf1b22a1e47.jpg: 640x640 1 Rock, 10.8ms\n",
            "image 10/304 /content/drive/My Drive/Rock_Paper_Scissors/test/images/CARDS_LIVINGROOM_B_T_frame_0124_jpg.rf.9950e0cf7efb81973a65899429e2d42c.jpg: 640x640 (no detections), 15.3ms\n",
            "image 11/304 /content/drive/My Drive/Rock_Paper_Scissors/test/images/CARDS_OFFICE_S_B_frame_0057_jpg.rf.63d2ab9abbc8a04ca7731f44722ef94e.jpg: 640x640 (no detections), 11.9ms\n",
            "image 12/304 /content/drive/My Drive/Rock_Paper_Scissors/test/images/CARDS_OFFICE_T_H_frame_0223_jpg.rf.3a4ae068939baaf6572c3ef4b88b4969.jpg: 640x640 (no detections), 12.3ms\n",
            "image 13/304 /content/drive/My Drive/Rock_Paper_Scissors/test/images/CHESS_COURTYARD_B_T_frame_1110_jpg.rf.7ea7ef51dbcf36a70d5df4d38f81a8c4.jpg: 640x640 (no detections), 11.8ms\n",
            "image 14/304 /content/drive/My Drive/Rock_Paper_Scissors/test/images/CHESS_OFFICE_S_B_frame_1971_jpg.rf.a5a3eecbd23b190bc2a8a490f5a759cf.jpg: 640x640 (no detections), 11.7ms\n",
            "image 15/304 /content/drive/My Drive/Rock_Paper_Scissors/test/images/ComfortSuites_MEETINGM_jpg.rf.7df474edf604511bd9e2c941b5b488d9.jpg: 640x640 (no detections), 12.0ms\n",
            "image 16/304 /content/drive/My Drive/Rock_Paper_Scissors/test/images/Cool-Video-of-Ocean-Fish-Swimming_mp4-16_jpg.rf.3384a3151cadacb3612efe53b8cac2aa.jpg: 640x640 (no detections), 9.4ms\n",
            "image 17/304 /content/drive/My Drive/Rock_Paper_Scissors/test/images/Cool-Video-of-Ocean-Fish-Swimming_mp4-18_jpg.rf.1d10e523f1e57a1418ddb9b104a99c82.jpg: 640x640 (no detections), 13.5ms\n",
            "image 18/304 /content/drive/My Drive/Rock_Paper_Scissors/test/images/Cool-Video-of-Ocean-Fish-Swimming_mp4-4_jpg.rf.24c9b38caee8612c879e110396cbe2ff.jpg: 640x640 (no detections), 12.5ms\n",
            "image 19/304 /content/drive/My Drive/Rock_Paper_Scissors/test/images/IMG-2728_JPG_jpg.rf.23ac958eb0ec053b18e971bbf460fadb.jpg: 640x640 (no detections), 11.4ms\n",
            "image 20/304 /content/drive/My Drive/Rock_Paper_Scissors/test/images/IMG_5567_mp4-108_jpg.rf.2271a32fd2956bb7be9c2f53eeb7e5f6.jpg: 640x640 1 Scissors, 11.1ms\n",
            "image 21/304 /content/drive/My Drive/Rock_Paper_Scissors/test/images/IMG_5567_mp4-119_jpg.rf.2f38334928cd4739e1bc77f07c696546.jpg: 640x640 (no detections), 9.8ms\n",
            "image 22/304 /content/drive/My Drive/Rock_Paper_Scissors/test/images/IMG_5567_mp4-122_jpg.rf.0e2628bd614df82765fce9324fe3a58c.jpg: 640x640 (no detections), 9.0ms\n",
            "image 23/304 /content/drive/My Drive/Rock_Paper_Scissors/test/images/IMG_5567_mp4-134_jpg.rf.963da6ff86ed50acb07b6c2ae70e32b1.jpg: 640x640 1 Rock, 10.0ms\n",
            "image 24/304 /content/drive/My Drive/Rock_Paper_Scissors/test/images/IMG_5567_mp4-148_jpg.rf.114bb58b3a26f84baec9d8f32bc9604e.jpg: 640x640 1 Scissors, 10.1ms\n",
            "image 25/304 /content/drive/My Drive/Rock_Paper_Scissors/test/images/IMG_5567_mp4-151_jpg.rf.7907a251976a32625438278b9380e2cb.jpg: 640x640 1 Scissors, 8.9ms\n",
            "image 26/304 /content/drive/My Drive/Rock_Paper_Scissors/test/images/IMG_5567_mp4-155_jpg.rf.b25e6e8a7bc0bd23dfe68e8200b2b971.jpg: 640x640 (no detections), 9.0ms\n",
            "image 27/304 /content/drive/My Drive/Rock_Paper_Scissors/test/images/IMG_5567_mp4-160_jpg.rf.dac9f07b7d5b970ba5c39ae832b8ecf4.jpg: 640x640 1 Paper, 9.2ms\n",
            "image 28/304 /content/drive/My Drive/Rock_Paper_Scissors/test/images/IMG_5567_mp4-166_jpg.rf.8a46fe3296e8b49c846022f3f610e5bb.jpg: 640x640 1 Paper, 9.3ms\n",
            "image 29/304 /content/drive/My Drive/Rock_Paper_Scissors/test/images/IMG_5567_mp4-16_jpg.rf.d32a3cb377e3bc260a0a841e47831a4a.jpg: 640x640 1 Scissors, 9.7ms\n",
            "image 30/304 /content/drive/My Drive/Rock_Paper_Scissors/test/images/IMG_5567_mp4-171_jpg.rf.5523c97f48e74fe1431c1f01be79265b.jpg: 640x640 1 Paper, 11.7ms\n",
            "image 31/304 /content/drive/My Drive/Rock_Paper_Scissors/test/images/IMG_5567_mp4-183_jpg.rf.92060b56a1cba3db884f4f8b220f87df.jpg: 640x640 (no detections), 10.2ms\n",
            "image 32/304 /content/drive/My Drive/Rock_Paper_Scissors/test/images/IMG_5567_mp4-1_jpg.rf.3e33ee3bf73d16e37b19506db8a1d100.jpg: 640x640 (no detections), 11.4ms\n",
            "image 33/304 /content/drive/My Drive/Rock_Paper_Scissors/test/images/IMG_5567_mp4-24_jpg.rf.ee8c385fc11d4bf2f85267e0d680b0d9.jpg: 640x640 (no detections), 11.5ms\n",
            "image 34/304 /content/drive/My Drive/Rock_Paper_Scissors/test/images/IMG_5567_mp4-47_jpg.rf.61520fe3d72cefd48583258e645419bc.jpg: 640x640 (no detections), 11.3ms\n",
            "image 35/304 /content/drive/My Drive/Rock_Paper_Scissors/test/images/IMG_5567_mp4-56_jpg.rf.7271d3b836d6215c40224f5bf5a8ad61.jpg: 640x640 1 Scissors, 10.6ms\n",
            "image 36/304 /content/drive/My Drive/Rock_Paper_Scissors/test/images/IMG_5567_mp4-58_jpg.rf.c801fb264502df84d2a0a7582584a113.jpg: 640x640 1 Scissors, 9.3ms\n",
            "image 37/304 /content/drive/My Drive/Rock_Paper_Scissors/test/images/IMG_5567_mp4-64_jpg.rf.d852ee0cc2066350d9598d82be866e7c.jpg: 640x640 1 Scissors, 9.2ms\n",
            "image 38/304 /content/drive/My Drive/Rock_Paper_Scissors/test/images/IMG_5567_mp4-78_jpg.rf.2e4bf0323dda4f836bb5cb47157fcf71.jpg: 640x640 1 Paper, 9.6ms\n",
            "image 39/304 /content/drive/My Drive/Rock_Paper_Scissors/test/images/IMG_5567_mp4-80_jpg.rf.66d407bba2be74696d891711bcd1d8c9.jpg: 640x640 1 Paper, 9.1ms\n",
            "image 40/304 /content/drive/My Drive/Rock_Paper_Scissors/test/images/IMG_5567_mp4-98_jpg.rf.072da12c4f193d065889c22751c5317c.jpg: 640x640 (no detections), 9.5ms\n",
            "image 41/304 /content/drive/My Drive/Rock_Paper_Scissors/test/images/IMG_5636_MOV-17_jpg.rf.991f22663e48d08941126326b01eb058.jpg: 640x640 1 Paper, 9.5ms\n",
            "image 42/304 /content/drive/My Drive/Rock_Paper_Scissors/test/images/IMG_5636_MOV-31_jpg.rf.372f95db69cc8886d4d02032d4ebf34e.jpg: 640x640 1 Rock, 10.8ms\n",
            "image 43/304 /content/drive/My Drive/Rock_Paper_Scissors/test/images/IMG_5636_MOV-32_jpg.rf.dce699cdb84ff3b641f7d7a6a201fb7f.jpg: 640x640 1 Rock, 14.5ms\n",
            "image 44/304 /content/drive/My Drive/Rock_Paper_Scissors/test/images/IMG_5636_MOV-35_jpg.rf.d245cd780f83277f25726d00c42299ab.jpg: 640x640 1 Scissors, 9.7ms\n",
            "image 45/304 /content/drive/My Drive/Rock_Paper_Scissors/test/images/IMG_5636_MOV-38_jpg.rf.d7be4af05520f529b708f49fd21b5dc7.jpg: 640x640 1 Scissors, 9.5ms\n",
            "image 46/304 /content/drive/My Drive/Rock_Paper_Scissors/test/images/IMG_5636_MOV-3_jpg.rf.d455956a1f5c5ab84ffa1f28fa36ff65.jpg: 640x640 1 Rock, 10.1ms\n",
            "image 47/304 /content/drive/My Drive/Rock_Paper_Scissors/test/images/IMG_5636_MOV-40_jpg.rf.3b0f4c04864723de576c09017e995293.jpg: 640x640 1 Scissors, 9.9ms\n",
            "image 48/304 /content/drive/My Drive/Rock_Paper_Scissors/test/images/IMG_5636_MOV-55_jpg.rf.a75be1f09855b68db30ab5335ec7125b.jpg: 640x640 1 Rock, 11.3ms\n",
            "image 49/304 /content/drive/My Drive/Rock_Paper_Scissors/test/images/IMG_5636_MOV-80_jpg.rf.57a447e1f1e3a5d994eb882d9dc1172d.jpg: 640x640 (no detections), 11.3ms\n",
            "image 50/304 /content/drive/My Drive/Rock_Paper_Scissors/test/images/IMG_7043_MOV-107_jpg.rf.b19f7859f30f08a85fdd015b594e750d.jpg: 640x640 (no detections), 11.2ms\n",
            "image 51/304 /content/drive/My Drive/Rock_Paper_Scissors/test/images/IMG_7043_MOV-112_jpg.rf.5fa1355476dfc949a08c471fe3394e11.jpg: 640x640 1 Paper, 11.3ms\n",
            "image 52/304 /content/drive/My Drive/Rock_Paper_Scissors/test/images/IMG_7043_MOV-139_jpg.rf.b6b23a62277aa37ccc59065c897979a5.jpg: 640x640 1 Paper, 11.4ms\n",
            "image 53/304 /content/drive/My Drive/Rock_Paper_Scissors/test/images/IMG_7043_MOV-13_jpg.rf.357623d0c7642153a6890a9650ce4e3e.jpg: 640x640 1 Scissors, 11.7ms\n",
            "image 54/304 /content/drive/My Drive/Rock_Paper_Scissors/test/images/IMG_7043_MOV-144_jpg.rf.a51a81239b9089ad1abd207a1a62e83d.jpg: 640x640 (no detections), 13.6ms\n",
            "image 55/304 /content/drive/My Drive/Rock_Paper_Scissors/test/images/IMG_7043_MOV-145_jpg.rf.09cecb6ca13b48599674708861f9e47a.jpg: 640x640 (no detections), 13.2ms\n",
            "image 56/304 /content/drive/My Drive/Rock_Paper_Scissors/test/images/IMG_7043_MOV-157_jpg.rf.30eede3e63f2f4b0584c162a0bc96ec0.jpg: 640x640 1 Paper, 12.8ms\n",
            "image 57/304 /content/drive/My Drive/Rock_Paper_Scissors/test/images/IMG_7043_MOV-15_jpg.rf.273d7dca247d2d3ba88e5cce4545163d.jpg: 640x640 1 Scissors, 11.2ms\n",
            "image 58/304 /content/drive/My Drive/Rock_Paper_Scissors/test/images/IMG_7043_MOV-169_jpg.rf.cd49bbf1ad18b370a058c427a463989a.jpg: 640x640 (no detections), 10.7ms\n",
            "image 59/304 /content/drive/My Drive/Rock_Paper_Scissors/test/images/IMG_7043_MOV-16_jpg.rf.3966bc9b069fd8ef804967f4e5135eaf.jpg: 640x640 1 Scissors, 10.9ms\n",
            "image 60/304 /content/drive/My Drive/Rock_Paper_Scissors/test/images/IMG_7043_MOV-177_jpg.rf.eb554844ab1f6aca4a93b965884e813b.jpg: 640x640 1 Rock, 15.4ms\n",
            "image 61/304 /content/drive/My Drive/Rock_Paper_Scissors/test/images/IMG_7043_MOV-17_jpg.rf.ea3da5a3a11b96609abf166ab74ef448.jpg: 640x640 1 Scissors, 11.1ms\n",
            "image 62/304 /content/drive/My Drive/Rock_Paper_Scissors/test/images/IMG_7043_MOV-184_jpg.rf.c889bfea24b933061fe8b3e17669829f.jpg: 640x640 1 Rock, 10.6ms\n",
            "image 63/304 /content/drive/My Drive/Rock_Paper_Scissors/test/images/IMG_7043_MOV-18_jpg.rf.a49776cf1eaf613d8f852b143e85caec.jpg: 640x640 1 Scissors, 10.5ms\n",
            "image 64/304 /content/drive/My Drive/Rock_Paper_Scissors/test/images/IMG_7043_MOV-195_jpg.rf.f1995411308ce3dd103b615cd693295a.jpg: 640x640 1 Scissors, 10.9ms\n",
            "image 65/304 /content/drive/My Drive/Rock_Paper_Scissors/test/images/IMG_7043_MOV-1_jpg.rf.3998de532d2e00e2f0a97fd552b338e6.jpg: 640x640 (no detections), 11.6ms\n",
            "image 66/304 /content/drive/My Drive/Rock_Paper_Scissors/test/images/IMG_7043_MOV-26_jpg.rf.3d787069141cab2904f954aa22fe94c0.jpg: 640x640 1 Scissors, 11.7ms\n",
            "image 67/304 /content/drive/My Drive/Rock_Paper_Scissors/test/images/IMG_7043_MOV-61_jpg.rf.2d21ad90e68a1e815569828f8fc42b83.jpg: 640x640 (no detections), 9.6ms\n",
            "image 68/304 /content/drive/My Drive/Rock_Paper_Scissors/test/images/IMG_7043_MOV-66_jpg.rf.df85eb36076d3c01f38c67d2e791dcaa.jpg: 640x640 (no detections), 12.6ms\n",
            "image 69/304 /content/drive/My Drive/Rock_Paper_Scissors/test/images/IMG_7043_MOV-67_jpg.rf.673c5564dd7d387c67502e0b3e9a9ab6.jpg: 640x640 (no detections), 21.2ms\n",
            "image 70/304 /content/drive/My Drive/Rock_Paper_Scissors/test/images/IMG_7043_MOV-84_jpg.rf.20901886485a1aa1b9a1f0bcd2a28f3c.jpg: 640x640 1 Rock, 12.4ms\n",
            "image 71/304 /content/drive/My Drive/Rock_Paper_Scissors/test/images/IMG_7043_MOV-96_jpg.rf.45c29c1b7497e8dd1cadf768dee741d6.jpg: 640x640 1 Rock, 17.6ms\n",
            "image 72/304 /content/drive/My Drive/Rock_Paper_Scissors/test/images/IMG_7077_MOV-106_jpg.rf.70485649471c0d185b71d8061224b4b6.jpg: 640x640 1 Rock, 1 Scissors, 11.9ms\n",
            "image 73/304 /content/drive/My Drive/Rock_Paper_Scissors/test/images/IMG_7077_MOV-131_jpg.rf.1c654bd706a1474c95b2d083cb7e497c.jpg: 640x640 (no detections), 11.5ms\n",
            "image 74/304 /content/drive/My Drive/Rock_Paper_Scissors/test/images/IMG_7077_MOV-132_jpg.rf.be6fd09da23c5e648a8db251f5f7f8ca.jpg: 640x640 (no detections), 11.6ms\n",
            "image 75/304 /content/drive/My Drive/Rock_Paper_Scissors/test/images/IMG_7077_MOV-140_jpg.rf.ee1490b6ffd301843b9e0a8fe986e13a.jpg: 640x640 (no detections), 13.1ms\n",
            "image 76/304 /content/drive/My Drive/Rock_Paper_Scissors/test/images/IMG_7077_MOV-142_jpg.rf.43130fe62324f92a8bad3e53833d11f5.jpg: 640x640 (no detections), 11.9ms\n",
            "image 77/304 /content/drive/My Drive/Rock_Paper_Scissors/test/images/IMG_7077_MOV-147_jpg.rf.baeda945c38560b08c98dcfbca11a513.jpg: 640x640 (no detections), 9.5ms\n",
            "image 78/304 /content/drive/My Drive/Rock_Paper_Scissors/test/images/IMG_7077_MOV-19_jpg.rf.bc707fa7baf2981dd6b2cf4a68613fc8.jpg: 640x640 1 Paper, 1 Rock, 1 Scissors, 9.2ms\n",
            "image 79/304 /content/drive/My Drive/Rock_Paper_Scissors/test/images/IMG_7077_MOV-20_jpg.rf.5691c9cc997ed097c4e95215ad6426de.jpg: 640x640 1 Rock, 7.2ms\n",
            "image 80/304 /content/drive/My Drive/Rock_Paper_Scissors/test/images/IMG_7077_MOV-32_jpg.rf.91d74f5f9c24078b4a2e6aa852c43c2f.jpg: 640x640 1 Paper, 1 Scissors, 7.2ms\n",
            "image 81/304 /content/drive/My Drive/Rock_Paper_Scissors/test/images/IMG_7077_MOV-33_jpg.rf.cd465196b51e6ae745aa5eb93200382b.jpg: 640x640 1 Paper, 1 Scissors, 7.3ms\n",
            "image 82/304 /content/drive/My Drive/Rock_Paper_Scissors/test/images/IMG_7077_MOV-7_jpg.rf.b0eb4230274c3b51407b9c1034629203.jpg: 640x640 2 Rocks, 7.2ms\n",
            "image 83/304 /content/drive/My Drive/Rock_Paper_Scissors/test/images/IMG_7079_MOV-122_jpg.rf.68d18b962dadd557ab3f4c88fc3ada9d.jpg: 640x640 1 Scissors, 7.2ms\n",
            "image 84/304 /content/drive/My Drive/Rock_Paper_Scissors/test/images/IMG_7079_MOV-124_jpg.rf.7c1dd5883f4883684e97c8c50a71603f.jpg: 640x640 1 Scissors, 7.2ms\n",
            "image 85/304 /content/drive/My Drive/Rock_Paper_Scissors/test/images/IMG_7079_MOV-137_jpg.rf.67ffd0c756d7f2e22a5f15dd5d3120ff.jpg: 640x640 1 Paper, 1 Scissors, 7.2ms\n",
            "image 86/304 /content/drive/My Drive/Rock_Paper_Scissors/test/images/IMG_7079_MOV-149_jpg.rf.3449e202f62c165ceabe8f868a60dec2.jpg: 640x640 1 Scissors, 7.9ms\n",
            "image 87/304 /content/drive/My Drive/Rock_Paper_Scissors/test/images/IMG_7079_MOV-20_jpg.rf.e3993679769f543db8bbe74fe9afc903.jpg: 640x640 1 Rock, 7.2ms\n",
            "image 88/304 /content/drive/My Drive/Rock_Paper_Scissors/test/images/IMG_7079_MOV-23_jpg.rf.123a8de8c8da646e4a25f1cedcd4c71c.jpg: 640x640 1 Rock, 7.2ms\n",
            "image 89/304 /content/drive/My Drive/Rock_Paper_Scissors/test/images/IMG_7079_MOV-40_jpg.rf.7efb1b91025be3decb78d5c0b9c705de.jpg: 640x640 1 Paper, 8.1ms\n",
            "image 90/304 /content/drive/My Drive/Rock_Paper_Scissors/test/images/IMG_7079_MOV-52_jpg.rf.38a4c13e463fd2bec504bd496f0f3e56.jpg: 640x640 1 Paper, 10.6ms\n",
            "image 91/304 /content/drive/My Drive/Rock_Paper_Scissors/test/images/IMG_7079_MOV-55_jpg.rf.6cc0b375cd6b10947909d8fcd139c20f.jpg: 640x640 1 Paper, 7.2ms\n",
            "image 92/304 /content/drive/My Drive/Rock_Paper_Scissors/test/images/IMG_7079_MOV-65_jpg.rf.b3f9a7e4bdfce282cdae7ccaacd65661.jpg: 640x640 1 Paper, 7.2ms\n",
            "image 93/304 /content/drive/My Drive/Rock_Paper_Scissors/test/images/JENGA_COURTYARD_S_T_frame_0229_jpg.rf.6af0b06195b3c6dd5ab03311c5f0a53e.jpg: 640x640 (no detections), 7.2ms\n",
            "image 94/304 /content/drive/My Drive/Rock_Paper_Scissors/test/images/JENGA_OFFICE_B_S_frame_1353_jpg.rf.aa252c3f825f07d3bbf9d23d13847256.jpg: 640x640 (no detections), 7.2ms\n",
            "image 95/304 /content/drive/My Drive/Rock_Paper_Scissors/test/images/JENGA_OFFICE_S_B_frame_1667_jpg.rf.7c1c0a4a7e13a81ff6056f0925816698.jpg: 640x640 (no detections), 7.2ms\n",
            "image 96/304 /content/drive/My Drive/Rock_Paper_Scissors/test/images/JWitt-RCP_mp4-17_jpg.rf.d14af488785ef93da8c4be30c5f1dedf.jpg: 640x640 1 Rock, 7.2ms\n",
            "image 97/304 /content/drive/My Drive/Rock_Paper_Scissors/test/images/JWitt-RCP_mp4-18_jpg.rf.d054523013f5920bc8feed994cea2c85.jpg: 640x640 1 Rock, 8.0ms\n",
            "image 98/304 /content/drive/My Drive/Rock_Paper_Scissors/test/images/JWitt-RCP_mp4-24_jpg.rf.aff5e1e18f0242e9fba1d1a7cd9c39bf.jpg: 640x640 1 Rock, 1 Scissors, 7.3ms\n",
            "image 99/304 /content/drive/My Drive/Rock_Paper_Scissors/test/images/JWitt-RCP_mp4-2_jpg.rf.08f34c86631e096235a52c67a997e211.jpg: 640x640 (no detections), 7.2ms\n",
            "image 100/304 /content/drive/My Drive/Rock_Paper_Scissors/test/images/JWitt-RCP_mp4-38_jpg.rf.d7ad5422c90321f53ccda0a2c3acf343.jpg: 640x640 1 Scissors, 7.2ms\n",
            "image 101/304 /content/drive/My Drive/Rock_Paper_Scissors/test/images/JWitt-RCP_mp4-41_jpg.rf.373530a2e9ad204d31526843b5cf95b2.jpg: 640x640 1 Scissors, 7.2ms\n",
            "image 102/304 /content/drive/My Drive/Rock_Paper_Scissors/test/images/JWitt-RCP_mp4-60_jpg.rf.0b87e172f5828cb369eef54dbf0158b9.jpg: 640x640 1 Scissors, 7.2ms\n",
            "image 103/304 /content/drive/My Drive/Rock_Paper_Scissors/test/images/JWitt-RCP_mp4-64_jpg.rf.184e0e828afeedb2c24813832d12639b.jpg: 640x640 1 Paper, 7.2ms\n",
            "image 104/304 /content/drive/My Drive/Rock_Paper_Scissors/test/images/JWitt-RCP_mp4-70_jpg.rf.ca4e316be45a5d970af916489368e33a.jpg: 640x640 1 Paper, 9.2ms\n",
            "image 105/304 /content/drive/My Drive/Rock_Paper_Scissors/test/images/JWitt-RCP_mp4-72_jpg.rf.6876d0f549782db43a9222b79b387f9a.jpg: 640x640 1 Paper, 9.8ms\n",
            "image 106/304 /content/drive/My Drive/Rock_Paper_Scissors/test/images/JWitt-RCP_mp4-92_jpg.rf.e76184a6543c9899e452bee9788d493e.jpg: 640x640 1 Paper, 11.6ms\n",
            "image 107/304 /content/drive/My Drive/Rock_Paper_Scissors/test/images/PUZZLE_OFFICE_T_S_frame_2187_jpg.rf.4329d3c38449092210d0ab6755c9ee14.jpg: 640x640 (no detections), 9.3ms\n",
            "image 108/304 /content/drive/My Drive/Rock_Paper_Scissors/test/images/Photo-on-2-16-22-at-10-19-AM-6_jpg.rf.c27e1ad3b402ec9d02f695cb0c1afe28.jpg: 640x640 1 Rock, 10.0ms\n",
            "image 109/304 /content/drive/My Drive/Rock_Paper_Scissors/test/images/Photo-on-2-16-22-at-10-20-AM-16_jpg.rf.77e43b8cc06d204239d719afc63ae511.jpg: 640x640 1 Paper, 7.2ms\n",
            "image 110/304 /content/drive/My Drive/Rock_Paper_Scissors/test/images/Photo-on-2-16-22-at-10-20-AM-7_jpg.rf.04c02e8a8898821f6a8e1b3c12192c15.jpg: 640x640 1 Scissors, 7.2ms\n",
            "image 111/304 /content/drive/My Drive/Rock_Paper_Scissors/test/images/Photo-on-2-16-22-at-10-20-AM-8_jpg.rf.4ca8cca39999846857087afdf6cbf6cb.jpg: 640x640 1 Scissors, 7.2ms\n",
            "image 112/304 /content/drive/My Drive/Rock_Paper_Scissors/test/images/Screen-Recording-2023-03-11-at-9_48_18-PM_mov-113_jpg.rf.9cb9fce04dc260d13687702cebfd4b65.jpg: 640x640 (no detections), 7.2ms\n",
            "image 113/304 /content/drive/My Drive/Rock_Paper_Scissors/test/images/Screen-Recording-2023-03-11-at-9_48_18-PM_mov-117_jpg.rf.d56b63383b0bcf3d081960cfcf5039bb.jpg: 640x640 (no detections), 7.2ms\n",
            "image 114/304 /content/drive/My Drive/Rock_Paper_Scissors/test/images/Screen-Recording-2023-03-11-at-9_48_18-PM_mov-118_jpg.rf.9f270623fc82abbad06d6dfb83f212c0.jpg: 640x640 (no detections), 7.2ms\n",
            "image 115/304 /content/drive/My Drive/Rock_Paper_Scissors/test/images/Screen-Recording-2023-03-11-at-9_48_18-PM_mov-144_jpg.rf.55267b7f91608741bef3280221c47edd.jpg: 640x640 (no detections), 7.2ms\n",
            "image 116/304 /content/drive/My Drive/Rock_Paper_Scissors/test/images/Screen-Recording-2023-03-11-at-9_48_18-PM_mov-147_jpg.rf.1f3da63190398b1b04d780e3b0c21242.jpg: 640x640 (no detections), 7.2ms\n",
            "image 117/304 /content/drive/My Drive/Rock_Paper_Scissors/test/images/Screen-Recording-2023-03-11-at-9_48_18-PM_mov-157_jpg.rf.ce9ebedbd733609ff3d12a897cabf169.jpg: 640x640 1 Paper, 1 Scissors, 8.3ms\n",
            "image 118/304 /content/drive/My Drive/Rock_Paper_Scissors/test/images/Screen-Recording-2023-03-11-at-9_48_18-PM_mov-163_jpg.rf.1f8b6907d3a79b6c2c3549098c93605e.jpg: 640x640 (no detections), 7.2ms\n",
            "image 119/304 /content/drive/My Drive/Rock_Paper_Scissors/test/images/Screen-Recording-2023-03-11-at-9_48_18-PM_mov-165_jpg.rf.a1ee9f788cdfe9aa8818ddcfa9e43b29.jpg: 640x640 (no detections), 7.2ms\n",
            "image 120/304 /content/drive/My Drive/Rock_Paper_Scissors/test/images/Screen-Recording-2023-03-11-at-9_48_18-PM_mov-186_jpg.rf.7a53246e14e43654dc35d16cf3c1dce4.jpg: 640x640 (no detections), 7.2ms\n",
            "image 121/304 /content/drive/My Drive/Rock_Paper_Scissors/test/images/Screen-Recording-2023-03-11-at-9_48_18-PM_mov-245_jpg.rf.bfb5818f0482d5718b7bc65e2b14a06f.jpg: 640x640 (no detections), 7.2ms\n",
            "image 122/304 /content/drive/My Drive/Rock_Paper_Scissors/test/images/Screen-Recording-2023-03-11-at-9_48_18-PM_mov-248_jpg.rf.d25029aa8b7783684652028ee88ac32b.jpg: 640x640 (no detections), 7.2ms\n",
            "image 123/304 /content/drive/My Drive/Rock_Paper_Scissors/test/images/Screen-Recording-2023-03-11-at-9_48_18-PM_mov-249_jpg.rf.169375553540c1fd5d4ab4f2be00ef10.jpg: 640x640 (no detections), 7.2ms\n",
            "image 124/304 /content/drive/My Drive/Rock_Paper_Scissors/test/images/Screen-Recording-2023-03-11-at-9_48_18-PM_mov-250_jpg.rf.605bdcceb95f7ea177ffa2c3c7d2bbce.jpg: 640x640 (no detections), 7.2ms\n",
            "image 125/304 /content/drive/My Drive/Rock_Paper_Scissors/test/images/Screen-Recording-2023-03-11-at-9_48_18-PM_mov-257_jpg.rf.e25a3c12a2feb615048e15067a8ef3c6.jpg: 640x640 (no detections), 7.2ms\n",
            "image 126/304 /content/drive/My Drive/Rock_Paper_Scissors/test/images/Screen-Recording-2023-03-11-at-9_48_18-PM_mov-258_jpg.rf.721b7a387ea2dc96469d14431a8372d5.jpg: 640x640 (no detections), 7.2ms\n",
            "image 127/304 /content/drive/My Drive/Rock_Paper_Scissors/test/images/Screen-Recording-2023-03-11-at-9_48_18-PM_mov-289_jpg.rf.955e6ecd36bb97279951f81b4dd8e373.jpg: 640x640 2 Rocks, 7.2ms\n",
            "image 128/304 /content/drive/My Drive/Rock_Paper_Scissors/test/images/Screen-Recording-2023-03-11-at-9_48_18-PM_mov-30_jpg.rf.d5ac0f9d03c507989927fb8a72d1fd61.jpg: 640x640 (no detections), 7.2ms\n",
            "image 129/304 /content/drive/My Drive/Rock_Paper_Scissors/test/images/Screen-Recording-2023-03-11-at-9_48_18-PM_mov-50_jpg.rf.d61b1eed7dccd6e72984ec9ec3f34384.jpg: 640x640 2 Rocks, 7.2ms\n",
            "image 130/304 /content/drive/My Drive/Rock_Paper_Scissors/test/images/Screen-Recording-2023-03-11-at-9_48_18-PM_mov-55_jpg.rf.5b26078d91ee3539d9580efdedd67d10.jpg: 640x640 (no detections), 7.2ms\n",
            "image 131/304 /content/drive/My Drive/Rock_Paper_Scissors/test/images/Screen-Recording-2023-03-11-at-9_48_18-PM_mov-62_jpg.rf.d5a443ab6707f85b244d1cffedf5d410.jpg: 640x640 (no detections), 7.2ms\n",
            "image 132/304 /content/drive/My Drive/Rock_Paper_Scissors/test/images/Screen-Recording-2023-03-11-at-9_48_18-PM_mov-6_jpg.rf.b10722df9aefe1ce3f9d9a03fcfb634e.jpg: 640x640 (no detections), 7.7ms\n",
            "image 133/304 /content/drive/My Drive/Rock_Paper_Scissors/test/images/Screen-Recording-2023-03-11-at-9_48_18-PM_mov-71_jpg.rf.6ea4e21ff5f84c28837abd82a3dec635.jpg: 640x640 (no detections), 7.2ms\n",
            "image 134/304 /content/drive/My Drive/Rock_Paper_Scissors/test/images/Screen-Recording-2023-03-11-at-9_48_18-PM_mov-77_jpg.rf.1f20ac9d2c0e8e3926da5a83680839ce.jpg: 640x640 (no detections), 10.3ms\n",
            "image 135/304 /content/drive/My Drive/Rock_Paper_Scissors/test/images/Screen-Recording-2023-03-11-at-9_48_18-PM_mov-7_jpg.rf.2ff1d006866f54dc02e86037efd3e9ac.jpg: 640x640 (no detections), 8.0ms\n",
            "image 136/304 /content/drive/My Drive/Rock_Paper_Scissors/test/images/Screen-Recording-2023-03-11-at-9_48_18-PM_mov-80_jpg.rf.0c63bfa51ec1f9c2d1ed9ea421e12bda.jpg: 640x640 (no detections), 7.2ms\n",
            "image 137/304 /content/drive/My Drive/Rock_Paper_Scissors/test/images/Screen-Recording-2023-03-11-at-9_48_18-PM_mov-89_jpg.rf.7f2e37c792e26793cc71aaff4448613c.jpg: 640x640 (no detections), 7.2ms\n",
            "image 138/304 /content/drive/My Drive/Rock_Paper_Scissors/test/images/Screen-Recording-2023-03-11-at-9_48_18-PM_mov-8_jpg.rf.67a5912885694a0d3a5a0183154b8301.jpg: 640x640 (no detections), 7.2ms\n",
            "image 139/304 /content/drive/My Drive/Rock_Paper_Scissors/test/images/Screen-Recording-2023-03-11-at-9_48_18-PM_mov-94_jpg.rf.b4fdf88bf5a54c48db4f4faa91dda1b4.jpg: 640x640 (no detections), 7.2ms\n",
            "image 140/304 /content/drive/My Drive/Rock_Paper_Scissors/test/images/Screen-Shot-2021-05-12-at-3-28-58-PM_png_jpg.rf.132e50c0afb53595b25ac3848ca71607.jpg: 640x640 1 Scissors, 7.2ms\n",
            "image 141/304 /content/drive/My Drive/Rock_Paper_Scissors/test/images/Screen-Shot-2022-02-08-at-12-58-44-PM_png.rf.aacd18a7433e7abe941150429310232d.jpg: 640x640 1 Paper, 7.2ms\n",
            "image 142/304 /content/drive/My Drive/Rock_Paper_Scissors/test/images/Screen-Shot-2022-02-08-at-12-58-48-PM_png.rf.0f97b360502b3bc1b891663903b9f0a5.jpg: 640x640 1 Rock, 7.2ms\n",
            "image 143/304 /content/drive/My Drive/Rock_Paper_Scissors/test/images/Screen-Shot-2022-02-08-at-12-59-16-PM_png.rf.9a4b713a727b7438f3f586b6d78bb2ee.jpg: 640x640 1 Scissors, 7.2ms\n",
            "image 144/304 /content/drive/My Drive/Rock_Paper_Scissors/test/images/Screen-Shot-2022-02-08-at-12-59-31-PM_png.rf.efae1890d252f2d283b211bb83a9c0d3.jpg: 640x640 1 Scissors, 7.2ms\n",
            "image 145/304 /content/drive/My Drive/Rock_Paper_Scissors/test/images/Screen-Shot-2022-02-14-at-1-09-28-PM_png.rf.004276a608618ac17b2eb2b2d69fb1c0.jpg: 640x640 1 Paper, 7.2ms\n",
            "image 146/304 /content/drive/My Drive/Rock_Paper_Scissors/test/images/Screen-Shot-2022-02-16-at-1-28-19-PM_png.rf.16295d31b11de7462aeac81289db9b5b.jpg: 640x640 (no detections), 7.7ms\n",
            "image 147/304 /content/drive/My Drive/Rock_Paper_Scissors/test/images/Screen-Shot-2022-02-16-at-11-16-38-AM-2-_png.rf.82cc2730d041879145364efbac5afdd9.jpg: 640x640 1 Paper, 8.9ms\n",
            "image 148/304 /content/drive/My Drive/Rock_Paper_Scissors/test/images/Screen-Shot-2022-02-16-at-11-20-55-AM-2-_png.rf.c2533ba64b63f5d4fee768b1de212ab0.jpg: 640x640 1 Paper, 10.7ms\n",
            "image 149/304 /content/drive/My Drive/Rock_Paper_Scissors/test/images/carcel_139_19_flickr_jpg.rf.608ce249d6d4d2bd7de7001d3aad115d.jpg: 640x640 (no detections), 9.0ms\n",
            "image 150/304 /content/drive/My Drive/Rock_Paper_Scissors/test/images/chambre_resto_1_jpg.rf.22de5c723c4df940478c12c8f6e39093.jpg: 640x640 (no detections), 9.0ms\n",
            "image 151/304 /content/drive/My Drive/Rock_Paper_Scissors/test/images/egohands-public-1620849847487_png_jpg.rf.355777ab941573cef1e27f30d003bf2c.jpg: 640x640 1 Scissors, 9.4ms\n",
            "image 152/304 /content/drive/My Drive/Rock_Paper_Scissors/test/images/egohands-public-1620849869759_png_jpg.rf.1297a5523b200f54839c058fbe6ec9ea.jpg: 640x640 1 Rock, 8.4ms\n",
            "image 153/304 /content/drive/My Drive/Rock_Paper_Scissors/test/images/egohands-public-1620849871605_png_jpg.rf.566b1b47cbd3b1558121ca2e797f5ff7.jpg: 640x640 1 Paper, 9.3ms\n",
            "image 154/304 /content/drive/My Drive/Rock_Paper_Scissors/test/images/egohands-public-1620849873632_png_jpg.rf.58189125abe16b757adf8cd2799ed616.jpg: 640x640 1 Paper, 9.3ms\n",
            "image 155/304 /content/drive/My Drive/Rock_Paper_Scissors/test/images/egohands-public-1620850453735_png_jpg.rf.1bbddd3a801574ef7e470163dda4920d.jpg: 640x640 1 Scissors, 7.3ms\n",
            "image 156/304 /content/drive/My Drive/Rock_Paper_Scissors/test/images/egohands-public-1620852224787_png_jpg.rf.d80d54face65897e5d03cd518bb2be1c.jpg: 640x640 1 Rock, 7.2ms\n",
            "image 157/304 /content/drive/My Drive/Rock_Paper_Scissors/test/images/egohands-public-1620852256502_png_jpg.rf.b7a5cc4785712f79c89a9ff3ca7c883e.jpg: 640x640 1 Paper, 7.2ms\n",
            "image 158/304 /content/drive/My Drive/Rock_Paper_Scissors/test/images/egohands-public-1621214243875_png_jpg.rf.7837991d81c2de31222f518161f69814.jpg: 640x640 (no detections), 7.2ms\n",
            "image 159/304 /content/drive/My Drive/Rock_Paper_Scissors/test/images/egohands-public-1621214254945_png_jpg.rf.3e24d3c3c3b3e91be6191a7f31fa0ca5.jpg: 640x640 1 Paper, 7.4ms\n",
            "image 160/304 /content/drive/My Drive/Rock_Paper_Scissors/test/images/egohands-public-1621214710295_png_jpg.rf.f776cb3d2b155a770446eb19960934b0.jpg: 640x640 1 Paper, 7.2ms\n",
            "image 161/304 /content/drive/My Drive/Rock_Paper_Scissors/test/images/egohands-public-1621349890675_png_jpg.rf.0d6f828c1a48a7515a87a85c468da676.jpg: 640x640 1 Scissors, 7.2ms\n",
            "image 162/304 /content/drive/My Drive/Rock_Paper_Scissors/test/images/egohands-public-1621349891794_png_jpg.rf.314e704aa30f0c6f8675eb99fbe65b13.jpg: 640x640 1 Paper, 7.2ms\n",
            "image 163/304 /content/drive/My Drive/Rock_Paper_Scissors/test/images/egohands-public-1621363183329_png_jpg.rf.cad1a0ab3184fabf1bc8ea7f2499c3a0.jpg: 640x640 (no detections), 7.2ms\n",
            "image 164/304 /content/drive/My Drive/Rock_Paper_Scissors/test/images/egohands-public-1621363477842_png_jpg.rf.c4555a1ea52826e060ed06d311f8ab79.jpg: 640x640 (no detections), 7.2ms\n",
            "image 165/304 /content/drive/My Drive/Rock_Paper_Scissors/test/images/egohands-public-1621519206541_png_jpg.rf.3034663ab0cffee88341726112cb0d78.jpg: 640x640 (no detections), 7.2ms\n",
            "image 166/304 /content/drive/My Drive/Rock_Paper_Scissors/test/images/egohands-public-1622124256821_png_jpg.rf.cf89aa12adbc212966358a3d439692d1.jpg: 640x640 (no detections), 7.2ms\n",
            "image 167/304 /content/drive/My Drive/Rock_Paper_Scissors/test/images/egohands-public-1622127393755_png_jpg.rf.b2fd9abb11628423f5f82ffd4a5cadb1.jpg: 640x640 1 Paper, 7.2ms\n",
            "image 168/304 /content/drive/My Drive/Rock_Paper_Scissors/test/images/egohands-public-1622730832103_png_jpg.rf.114588fe3eb0def9cc5eef067655fdd6.jpg: 640x640 1 Scissors, 7.2ms\n",
            "image 169/304 /content/drive/My Drive/Rock_Paper_Scissors/test/images/egohands-public-1622746667780_png_jpg.rf.49d74ea9c63b6504d5e5beb3784f1712.jpg: 640x640 1 Rock, 10.9ms\n",
            "image 170/304 /content/drive/My Drive/Rock_Paper_Scissors/test/images/egohands-public-1622746679719_png_jpg.rf.e0b20ac1bc42903872a851d56363604c.jpg: 640x640 3 Papers, 7.2ms\n",
            "image 171/304 /content/drive/My Drive/Rock_Paper_Scissors/test/images/egohands-public-1622748405009_png_jpg.rf.94b2a32daad24b1e1963b47feceac216.jpg: 640x640 1 Paper, 7.2ms\n",
            "image 172/304 /content/drive/My Drive/Rock_Paper_Scissors/test/images/egohands-public-1623336383872_png_jpg.rf.cf24523398344a8240cd8cde25acd064.jpg: 640x640 1 Paper, 7.2ms\n",
            "image 173/304 /content/drive/My Drive/Rock_Paper_Scissors/test/images/egohands-public-1623336386373_png_jpg.rf.10cd0ece7487b1b1582c242a05f8fd9e.jpg: 640x640 1 Paper, 7.2ms\n",
            "image 174/304 /content/drive/My Drive/Rock_Paper_Scissors/test/images/egohands-public-1623336387512_png_jpg.rf.9e7c231fb295e3e836961da66d47de13.jpg: 640x640 1 Paper, 7.2ms\n",
            "image 175/304 /content/drive/My Drive/Rock_Paper_Scissors/test/images/egohands-public-1623358708554_png_jpg.rf.929c159b5b804ed9e946685faf03ddb3.jpg: 640x640 1 Rock, 7.2ms\n",
            "image 176/304 /content/drive/My Drive/Rock_Paper_Scissors/test/images/egohands-public-1623358709389_png_jpg.rf.01566636003f63ab6cd0dbad04d98c62.jpg: 640x640 1 Rock, 7.2ms\n",
            "image 177/304 /content/drive/My Drive/Rock_Paper_Scissors/test/images/egohands-public-1623712814722_png_jpg.rf.2163babbd15cbf7b4c00b5beaa7a7710.jpg: 640x640 1 Rock, 7.2ms\n",
            "image 178/304 /content/drive/My Drive/Rock_Paper_Scissors/test/images/egohands-public-1623712835471_png_jpg.rf.8c679818aa9234261ac76d7264d40370.jpg: 640x640 (no detections), 7.3ms\n",
            "image 179/304 /content/drive/My Drive/Rock_Paper_Scissors/test/images/egohands-public-1623712843454_png_jpg.rf.333149ecf9979a41d4598c020ff495d5.jpg: 640x640 1 Paper, 7.2ms\n",
            "image 180/304 /content/drive/My Drive/Rock_Paper_Scissors/test/images/egohands-public-1623712844639_png_jpg.rf.f367afe758cbd1e77f075efca47b609a.jpg: 640x640 1 Paper, 7.2ms\n",
            "image 181/304 /content/drive/My Drive/Rock_Paper_Scissors/test/images/egohands-public-1623873260110_png_jpg.rf.84b43e7ca2a946655f10eea306a4bce8.jpg: 640x640 1 Paper, 7.2ms\n",
            "image 182/304 /content/drive/My Drive/Rock_Paper_Scissors/test/images/egohands-public-1623941906012_png_jpg.rf.8a047c76589778bf09add91a34b3c00a.jpg: 640x640 1 Rock, 11.0ms\n",
            "image 183/304 /content/drive/My Drive/Rock_Paper_Scissors/test/images/egohands-public-1623941913075_png_jpg.rf.cb60fdc53d02264d4be632b399497aaf.jpg: 640x640 1 Paper, 7.2ms\n",
            "image 184/304 /content/drive/My Drive/Rock_Paper_Scissors/test/images/egohands-public-1624053425083_png_jpg.rf.d52bb48c201c5c93bc964cd38699dcf2.jpg: 640x640 1 Paper, 9.1ms\n",
            "image 185/304 /content/drive/My Drive/Rock_Paper_Scissors/test/images/egohands-public-1624053426194_png_jpg.rf.dedd446bdb62335d1dc58b8ba18ecfa6.jpg: 640x640 1 Scissors, 7.2ms\n",
            "image 186/304 /content/drive/My Drive/Rock_Paper_Scissors/test/images/egohands-public-1624053436504_png_jpg.rf.855309535d1ea4ab1aa9b671702dde8a.jpg: 640x640 1 Paper, 7.2ms\n",
            "image 187/304 /content/drive/My Drive/Rock_Paper_Scissors/test/images/egohands-public-1624298524238_png_jpg.rf.cf993a96edab8e76fb6937040bc58101.jpg: 640x640 1 Rock, 7.2ms\n",
            "image 188/304 /content/drive/My Drive/Rock_Paper_Scissors/test/images/egohands-public-1624298528652_png_jpg.rf.5b2572c05375a8c46d5fd05a9954029f.jpg: 640x640 1 Paper, 8.7ms\n",
            "image 189/304 /content/drive/My Drive/Rock_Paper_Scissors/test/images/egohands-public-1624298530518_png_jpg.rf.a18a7a8fcf34ef59fd64413b170fad15.jpg: 640x640 1 Paper, 8.9ms\n",
            "image 190/304 /content/drive/My Drive/Rock_Paper_Scissors/test/images/egohands-public-1624377520223_png_jpg.rf.a9ef8b283bb6d6e68bf16203164d4a01.jpg: 640x640 (no detections), 9.0ms\n",
            "image 191/304 /content/drive/My Drive/Rock_Paper_Scissors/test/images/egohands-public-1624377532027_png_jpg.rf.513d7d6afe41b27987bb3c8a66c19970.jpg: 640x640 1 Scissors, 10.1ms\n",
            "image 192/304 /content/drive/My Drive/Rock_Paper_Scissors/test/images/egohands-public-1624377541413_png_jpg.rf.8e04f2fb15a409c623c4922e864b5dfc.jpg: 640x640 (no detections), 9.2ms\n",
            "image 193/304 /content/drive/My Drive/Rock_Paper_Scissors/test/images/egohands-public-1624465888641_png_jpg.rf.886253ff4aaf0b15969b9fa1a918c6de.jpg: 640x640 1 Scissors, 8.9ms\n",
            "image 194/304 /content/drive/My Drive/Rock_Paper_Scissors/test/images/egohands-public-1624465891194_png_jpg.rf.cce4854600f5f798809a3246bf81105c.jpg: 640x640 1 Paper, 9.1ms\n",
            "image 195/304 /content/drive/My Drive/Rock_Paper_Scissors/test/images/egohands-public-1624465893587_png_jpg.rf.7c8862d645019ad2d8acb3573a29f088.jpg: 640x640 1 Paper, 9.2ms\n",
            "image 196/304 /content/drive/My Drive/Rock_Paper_Scissors/test/images/egohands-public-1624465898166_png_jpg.rf.477c6287df684bd72cb83142c20e0e43.jpg: 640x640 (no detections), 7.2ms\n",
            "image 197/304 /content/drive/My Drive/Rock_Paper_Scissors/test/images/egohands-public-1624546403485_png_jpg.rf.c241020a875a6778bd65016ea5eedc7c.jpg: 640x640 1 Paper, 7.2ms\n",
            "image 198/304 /content/drive/My Drive/Rock_Paper_Scissors/test/images/egohands-public-1624550293327_png_jpg.rf.6816402821a508691b7ae00dd31641be.jpg: 640x640 1 Scissors, 7.2ms\n",
            "image 199/304 /content/drive/My Drive/Rock_Paper_Scissors/test/images/egohands-public-1624550304613_png_jpg.rf.cb681128bfe82a3081a2f77b470dbf69.jpg: 640x640 1 Rock, 7.2ms\n",
            "image 200/304 /content/drive/My Drive/Rock_Paper_Scissors/test/images/egohands-public-1624561277010_png_jpg.rf.1d53c965da07a3b244757a22a4ca5c27.jpg: 640x640 1 Paper, 7.2ms\n",
            "image 201/304 /content/drive/My Drive/Rock_Paper_Scissors/test/images/egohands-public-1624563397953_png_jpg.rf.d91c17bd3b3481665f2ae5d901f89bd5.jpg: 640x640 (no detections), 7.2ms\n",
            "image 202/304 /content/drive/My Drive/Rock_Paper_Scissors/test/images/egohands-public-1624563408999_png_jpg.rf.4ed01641a8913addd0c7377c2cf3fc5a.jpg: 640x640 1 Scissors, 7.2ms\n",
            "image 203/304 /content/drive/My Drive/Rock_Paper_Scissors/test/images/egohands-public-1624563408999_png_jpg.rf.91ce76eb19209917f78da8ae04f7866c.jpg: 640x640 1 Scissors, 7.2ms\n",
            "image 204/304 /content/drive/My Drive/Rock_Paper_Scissors/test/images/egohands-public-1624972107897_png_jpg.rf.6991f44b248b35d3394482a26fcaeb56.jpg: 640x640 1 Scissors, 7.2ms\n",
            "image 205/304 /content/drive/My Drive/Rock_Paper_Scissors/test/images/egohands-public-1624972110245_png_jpg.rf.a29609159d22c4c5d1419fafcd994a01.jpg: 640x640 1 Paper, 7.2ms\n",
            "image 206/304 /content/drive/My Drive/Rock_Paper_Scissors/test/images/egohands-public-1624972111157_png_jpg.rf.d94c729f73301e904197c5b771acdffd.jpg: 640x640 1 Scissors, 7.2ms\n",
            "image 207/304 /content/drive/My Drive/Rock_Paper_Scissors/test/images/egohands-public-1624972114651_png_jpg.rf.ef138093d547561329d551a00b1dd099.jpg: 640x640 (no detections), 7.2ms\n",
            "image 208/304 /content/drive/My Drive/Rock_Paper_Scissors/test/images/egohands-public-1624972119689_png_jpg.rf.8dc857cc75e8188dea073e478b5c3b5c.jpg: 640x640 1 Rock, 7.6ms\n",
            "image 209/304 /content/drive/My Drive/Rock_Paper_Scissors/test/images/egohands-public-1625012666756_png_jpg.rf.ea90cb61eb0df5c403f532f6b044bc1b.jpg: 640x640 1 Scissors, 7.2ms\n",
            "image 210/304 /content/drive/My Drive/Rock_Paper_Scissors/test/images/egohands-public-1625012668003_png_jpg.rf.5aaa24c5a3833cab04fb4cb340510ffa.jpg: 640x640 1 Scissors, 7.2ms\n",
            "image 211/304 /content/drive/My Drive/Rock_Paper_Scissors/test/images/egohands-public-1625012671555_png_jpg.rf.0a99704085308772b0d8ddbcdf87e8e0.jpg: 640x640 (no detections), 7.2ms\n",
            "image 212/304 /content/drive/My Drive/Rock_Paper_Scissors/test/images/egohands-public-1625070637052_png_jpg.rf.4831b8b5b4057eed162f008511422485.jpg: 640x640 1 Paper, 1 Scissors, 7.2ms\n",
            "image 213/304 /content/drive/My Drive/Rock_Paper_Scissors/test/images/egohands-public-1625070644197_png_jpg.rf.4f0b60525b84c74557317b24d793143b.jpg: 640x640 1 Scissors, 7.2ms\n",
            "image 214/304 /content/drive/My Drive/Rock_Paper_Scissors/test/images/egohands-public-1625070651933_png_jpg.rf.602d0a93768d7063d0f393630d006d97.jpg: 640x640 1 Rock, 7.2ms\n",
            "image 215/304 /content/drive/My Drive/Rock_Paper_Scissors/test/images/egohands-public-1625151611781_png_jpg.rf.276832091344ab8e788895ff056f90c3.jpg: 640x640 1 Paper, 7.2ms\n",
            "image 216/304 /content/drive/My Drive/Rock_Paper_Scissors/test/images/egohands-public-1625254249011_png_jpg.rf.a769a196160400a15fa323398ecc9af1.jpg: 640x640 1 Paper, 7.2ms\n",
            "image 217/304 /content/drive/My Drive/Rock_Paper_Scissors/test/images/egohands-public-1625679159400_png_jpg.rf.9935c5c7f6181515a77387926a2a6a65.jpg: 640x640 (no detections), 7.2ms\n",
            "image 218/304 /content/drive/My Drive/Rock_Paper_Scissors/test/images/egohands-public-1625756311389_png_jpg.rf.2f6d92cb4bae80686a11e160b80a732e.jpg: 640x640 1 Paper, 7.2ms\n",
            "image 219/304 /content/drive/My Drive/Rock_Paper_Scissors/test/images/egohands-public-1625756317309_png_jpg.rf.5d603793ab3eacafcd5e6c804cfbda9f.jpg: 640x640 1 Rock, 7.2ms\n",
            "image 220/304 /content/drive/My Drive/Rock_Paper_Scissors/test/images/egohands-public-1625860387830_png_jpg.rf.b0a0431257a5a83748b7dcd23ba73803.jpg: 640x640 1 Rock, 12.7ms\n",
            "image 221/304 /content/drive/My Drive/Rock_Paper_Scissors/test/images/egohands-public-1625860395055_png_jpg.rf.368bde93a2201f581727bd6a2956acd0.jpg: 640x640 1 Paper, 7.2ms\n",
            "image 222/304 /content/drive/My Drive/Rock_Paper_Scissors/test/images/egohands-public-1626201612073_png_jpg.rf.9b77b0ddfbf7c75057d27cf8b10c480d.jpg: 640x640 1 Paper, 7.2ms\n",
            "image 223/304 /content/drive/My Drive/Rock_Paper_Scissors/test/images/egohands-public-1626201614270_png_jpg.rf.3d48501d9c5bb8ae3bafa6d5257e6db7.jpg: 640x640 1 Rock, 8.0ms\n",
            "image 224/304 /content/drive/My Drive/Rock_Paper_Scissors/test/images/egohands-public-1626355936259_png_jpg.rf.8205d5ab628834642e297b6ac593d93a.jpg: 640x640 1 Scissors, 7.2ms\n",
            "image 225/304 /content/drive/My Drive/Rock_Paper_Scissors/test/images/egohands-public-1626386619095_png_jpg.rf.f19dff48b779f48abf4b40bd5a1b0d55.jpg: 640x640 1 Paper, 7.2ms\n",
            "image 226/304 /content/drive/My Drive/Rock_Paper_Scissors/test/images/egohands-public-1626460203729_png_jpg.rf.6dc0a1c489c8c0a7112bed68c427f51d.jpg: 640x640 (no detections), 7.2ms\n",
            "image 227/304 /content/drive/My Drive/Rock_Paper_Scissors/test/images/egohands-public-1626460207007_png_jpg.rf.cf87a2a31fa16a4c9e9e6b6a8b4cabab.jpg: 640x640 (no detections), 7.1ms\n",
            "image 228/304 /content/drive/My Drive/Rock_Paper_Scissors/test/images/egohands-public-1626460211490_png_jpg.rf.cb10bda888b53763c3919e1d9dcd4ea7.jpg: 640x640 1 Rock, 7.2ms\n",
            "image 229/304 /content/drive/My Drive/Rock_Paper_Scissors/test/images/egohands-public-1626460213979_png_jpg.rf.a67c957fe2bc101e80271299ed534331.jpg: 640x640 1 Scissors, 7.2ms\n",
            "image 230/304 /content/drive/My Drive/Rock_Paper_Scissors/test/images/egohands-public-1626966059622_png_jpg.rf.ef128dce794cd7ccbeda2e68664d5e35.jpg: 640x640 (no detections), 7.2ms\n",
            "image 231/304 /content/drive/My Drive/Rock_Paper_Scissors/test/images/egohands-public-1626966060817_png_jpg.rf.42ad988920eebbec5f7276dd80f80160.jpg: 640x640 (no detections), 8.5ms\n",
            "image 232/304 /content/drive/My Drive/Rock_Paper_Scissors/test/images/egohands-public-1626966067167_png_jpg.rf.078d6d120ba5d71e55e8c0980340a393.jpg: 640x640 1 Rock, 9.1ms\n",
            "image 233/304 /content/drive/My Drive/Rock_Paper_Scissors/test/images/egohands-public-1627056101745_png_jpg.rf.bccf961ac55c3d76e6ff466cb72c6587.jpg: 640x640 1 Scissors, 12.2ms\n",
            "image 234/304 /content/drive/My Drive/Rock_Paper_Scissors/test/images/egohands-public-1627056109772_png_jpg.rf.6db6b75965c5f99b0639d32962848dcd.jpg: 640x640 1 Paper, 8.7ms\n",
            "image 235/304 /content/drive/My Drive/Rock_Paper_Scissors/test/images/egohands-public-1628705398306_png_jpg.rf.74053c0d03cbe83d98edfa70ff23c80d.jpg: 640x640 1 Rock, 9.1ms\n",
            "image 236/304 /content/drive/My Drive/Rock_Paper_Scissors/test/images/egohands-public-1628705401923_png_jpg.rf.434abe1d39a91bac7b87283b74a719c1.jpg: 640x640 1 Scissors, 8.6ms\n",
            "image 237/304 /content/drive/My Drive/Rock_Paper_Scissors/test/images/jail02_jpg.rf.f56231c6c631762f4833370a84411995.jpg: 640x640 (no detections), 8.6ms\n",
            "image 238/304 /content/drive/My Drive/Rock_Paper_Scissors/test/images/piscina_cubierta_05_06_altavista_jpg.rf.59eaa057da41281113c013f98e34c936.jpg: 640x640 (no detections), 10.0ms\n",
            "image 239/304 /content/drive/My Drive/Rock_Paper_Scissors/test/images/piscina_nott1_jpg.rf.4d91d976c248d9baebdfc4bab13a6a3f.jpg: 640x640 (no detections), 8.6ms\n",
            "image 240/304 /content/drive/My Drive/Rock_Paper_Scissors/test/images/prison_cell_03_11_altavista_jpg.rf.8e647855bea53096f7b74f272b968944.jpg: 640x640 (no detections), 7.2ms\n",
            "image 241/304 /content/drive/My Drive/Rock_Paper_Scissors/test/images/restaurant_01_09_altavista_jpg.rf.793d33a57d4b941f4d4de6ca483d5b6a.jpg: 640x640 (no detections), 7.2ms\n",
            "image 242/304 /content/drive/My Drive/Rock_Paper_Scissors/test/images/restaurant_06_10_altavista_jpg.rf.4a53ad0063f6a7a26771cfef9b4f07b7.jpg: 640x640 (no detections), 7.2ms\n",
            "image 243/304 /content/drive/My Drive/Rock_Paper_Scissors/test/images/restaurant_08_15_altavista_jpg.rf.0112e2cb108ae49c966643ebc28e1406.jpg: 640x640 (no detections), 7.2ms\n",
            "image 244/304 /content/drive/My Drive/Rock_Paper_Scissors/test/images/restaurant_11_10_altavista_jpg.rf.33d3b084cee7cfb07dacc153e4b4a4b7.jpg: 640x640 (no detections), 7.2ms\n",
            "image 245/304 /content/drive/My Drive/Rock_Paper_Scissors/test/images/restaurant_26_14_altavista_jpg.rf.7c7f3fb8cf09172851efcda5c308d0b1.jpg: 640x640 (no detections), 8.5ms\n",
            "image 246/304 /content/drive/My Drive/Rock_Paper_Scissors/test/images/youtube-114_jpg.rf.ebc8336a5476116bcade1e78b8fbcb8b.jpg: 640x640 1 Paper, 1 Scissors, 7.2ms\n",
            "image 247/304 /content/drive/My Drive/Rock_Paper_Scissors/test/images/youtube-115_jpg.rf.2800bdb9db9e04287b5e232bc67267f2.jpg: 640x640 1 Paper, 1 Scissors, 7.2ms\n",
            "image 248/304 /content/drive/My Drive/Rock_Paper_Scissors/test/images/youtube-117_jpg.rf.7bee65e734adbfd002489c416ede931f.jpg: 640x640 2 Rocks, 7.2ms\n",
            "image 249/304 /content/drive/My Drive/Rock_Paper_Scissors/test/images/youtube-11_jpg.rf.e4dfdfb93e5d7d2eef8c334a02f85b15.jpg: 640x640 2 Rocks, 7.2ms\n",
            "image 250/304 /content/drive/My Drive/Rock_Paper_Scissors/test/images/youtube-124_jpg.rf.9e09975f0f79e0f6e7142a81fb8a203a.jpg: 640x640 2 Scissorss, 7.2ms\n",
            "image 251/304 /content/drive/My Drive/Rock_Paper_Scissors/test/images/youtube-124_jpg.rf.9e514844ec7d73ea9e3d480497bc959c.jpg: 640x640 2 Rocks, 7.2ms\n",
            "image 252/304 /content/drive/My Drive/Rock_Paper_Scissors/test/images/youtube-127_jpg.rf.77b42072c208590f5ba5531781db8548.jpg: 640x640 1 Rock, 1 Scissors, 7.2ms\n",
            "image 253/304 /content/drive/My Drive/Rock_Paper_Scissors/test/images/youtube-133_jpg.rf.489478ec43834862d9343efcb7746a39.jpg: 640x640 (no detections), 7.2ms\n",
            "image 254/304 /content/drive/My Drive/Rock_Paper_Scissors/test/images/youtube-137_jpg.rf.aa6adfefdcc6b129368507db98dee129.jpg: 640x640 (no detections), 7.2ms\n",
            "image 255/304 /content/drive/My Drive/Rock_Paper_Scissors/test/images/youtube-139_jpg.rf.5d7aa1ef20cf3694a0bc6ded2049f31f.jpg: 640x640 (no detections), 7.2ms\n",
            "image 256/304 /content/drive/My Drive/Rock_Paper_Scissors/test/images/youtube-20_jpg.rf.16cb7c3d5159b64ac3b8ef368b05bb99.jpg: 640x640 (no detections), 7.3ms\n",
            "image 257/304 /content/drive/My Drive/Rock_Paper_Scissors/test/images/youtube-25_jpg.rf.121bbf3873487349ba7e5e2cde55dcef.jpg: 640x640 1 Rock, 7.2ms\n",
            "image 258/304 /content/drive/My Drive/Rock_Paper_Scissors/test/images/youtube-29_jpg.rf.dc2dcea463314f8b47667142adb650fb.jpg: 640x640 1 Rock, 7.2ms\n",
            "image 259/304 /content/drive/My Drive/Rock_Paper_Scissors/test/images/youtube-34_jpg.rf.348de6113db6e57567e97707f44d67c3.jpg: 640x640 1 Scissors, 7.5ms\n",
            "image 260/304 /content/drive/My Drive/Rock_Paper_Scissors/test/images/youtube-37_jpg.rf.c37e20e61025e5b29cf34add1e2ee3bc.jpg: 640x640 1 Paper, 7.3ms\n",
            "image 261/304 /content/drive/My Drive/Rock_Paper_Scissors/test/images/youtube-39_jpg.rf.b9e13672096b17ca25211a4166114c8c.jpg: 640x640 1 Scissors, 7.2ms\n",
            "image 262/304 /content/drive/My Drive/Rock_Paper_Scissors/test/images/youtube-3_jpg.rf.efdfbd6b9dd687268ca188c0ae3f54da.jpg: 640x640 (no detections), 7.2ms\n",
            "image 263/304 /content/drive/My Drive/Rock_Paper_Scissors/test/images/youtube-40_jpg.rf.a39bd6b610c103709408b34c32d3b97f.jpg: 640x640 1 Scissors, 7.3ms\n",
            "image 264/304 /content/drive/My Drive/Rock_Paper_Scissors/test/images/youtube-46_jpg.rf.a445d2725c0fa51ab9c496a7be94c522.jpg: 640x640 (no detections), 10.5ms\n",
            "image 265/304 /content/drive/My Drive/Rock_Paper_Scissors/test/images/youtube-50_jpg.rf.8feac9da5300444c7e16fa9ba30ce2f2.jpg: 640x640 (no detections), 7.2ms\n",
            "image 266/304 /content/drive/My Drive/Rock_Paper_Scissors/test/images/youtube-51_jpg.rf.592602e13fd91f20c176e68d59a21d1e.jpg: 640x640 (no detections), 8.0ms\n",
            "image 267/304 /content/drive/My Drive/Rock_Paper_Scissors/test/images/youtube-56_jpg.rf.7676322ce508982f24ee8eb4f6266ab9.jpg: 640x640 1 Paper, 1 Scissors, 7.2ms\n",
            "image 268/304 /content/drive/My Drive/Rock_Paper_Scissors/test/images/youtube-58_jpg.rf.38a083eefa3d90155ecfae628b3df0de.jpg: 640x640 1 Rock, 7.2ms\n",
            "image 269/304 /content/drive/My Drive/Rock_Paper_Scissors/test/images/youtube-59_jpg.rf.60f4826abbf282fb647605441bfb1024.jpg: 640x640 1 Rock, 7.2ms\n",
            "image 270/304 /content/drive/My Drive/Rock_Paper_Scissors/test/images/youtube-63_jpg.rf.ca761368d61451ada0968062870a7026.jpg: 640x640 1 Paper, 1 Rock, 7.1ms\n",
            "image 271/304 /content/drive/My Drive/Rock_Paper_Scissors/test/images/youtube-70_jpg.rf.73d1fdcd2f9c5a15646637453c1450c1.jpg: 640x640 (no detections), 7.2ms\n",
            "image 272/304 /content/drive/My Drive/Rock_Paper_Scissors/test/images/youtube-84_jpg.rf.a53d50d8ad44fcf9ea8d0d88777572c8.jpg: 640x640 1 Rock, 7.3ms\n",
            "image 273/304 /content/drive/My Drive/Rock_Paper_Scissors/test/images/youtube-93_jpg.rf.b6c1dc39154e28cce2bd5ea57387ab48.jpg: 640x640 1 Scissors, 7.2ms\n",
            "image 274/304 /content/drive/My Drive/Rock_Paper_Scissors/test/images/zoom_tests_RockPaperScissors-mohamed_mp4-104_jpg.rf.c1ebff6b365222f9b62fdc7e3bf7e506.jpg: 640x640 1 Scissors, 16.4ms\n",
            "image 275/304 /content/drive/My Drive/Rock_Paper_Scissors/test/images/zoom_tests_RockPaperScissors-mohamed_mp4-107_jpg.rf.056c26adf21336e65bd2ff9fcfe79df9.jpg: 640x640 1 Paper, 11.0ms\n",
            "image 276/304 /content/drive/My Drive/Rock_Paper_Scissors/test/images/zoom_tests_RockPaperScissors-mohamed_mp4-108_jpg.rf.527a140c46f5e84195dbc3ddc8206609.jpg: 640x640 1 Paper, 8.9ms\n",
            "image 277/304 /content/drive/My Drive/Rock_Paper_Scissors/test/images/zoom_tests_RockPaperScissors-mohamed_mp4-110_jpg.rf.e17cde25ba79b045f283a8fc44402bd3.jpg: 640x640 1 Scissors, 9.3ms\n",
            "image 278/304 /content/drive/My Drive/Rock_Paper_Scissors/test/images/zoom_tests_RockPaperScissors-mohamed_mp4-114_jpg.rf.c8fbb658b2a760720af7c1caa2d40109.jpg: 640x640 1 Paper, 9.1ms\n",
            "image 279/304 /content/drive/My Drive/Rock_Paper_Scissors/test/images/zoom_tests_RockPaperScissors-mohamed_mp4-12_jpg.rf.a48869bbb5abcb89e54734ab74eca4d8.jpg: 640x640 (no detections), 8.4ms\n",
            "image 280/304 /content/drive/My Drive/Rock_Paper_Scissors/test/images/zoom_tests_RockPaperScissors-mohamed_mp4-137_jpg.rf.fbd52216775bbb38da609b7e8062468e.jpg: 640x640 1 Paper, 7.9ms\n",
            "image 281/304 /content/drive/My Drive/Rock_Paper_Scissors/test/images/zoom_tests_RockPaperScissors-mohamed_mp4-143_jpg.rf.61aed70a8b309a6e2669b9463a1c41e5.jpg: 640x640 1 Paper, 7.2ms\n",
            "image 282/304 /content/drive/My Drive/Rock_Paper_Scissors/test/images/zoom_tests_RockPaperScissors-mohamed_mp4-147_jpg.rf.e86b6adc544f78df64a5381e42f172d2.jpg: 640x640 1 Paper, 7.2ms\n",
            "image 283/304 /content/drive/My Drive/Rock_Paper_Scissors/test/images/zoom_tests_RockPaperScissors-mohamed_mp4-157_jpg.rf.f6cfde7f0bb724f694018558aecfedb9.jpg: 640x640 1 Paper, 7.2ms\n",
            "image 284/304 /content/drive/My Drive/Rock_Paper_Scissors/test/images/zoom_tests_RockPaperScissors-mohamed_mp4-164_jpg.rf.7cc3e8d09931a94a6b4d5d614a65489f.jpg: 640x640 1 Paper, 7.2ms\n",
            "image 285/304 /content/drive/My Drive/Rock_Paper_Scissors/test/images/zoom_tests_RockPaperScissors-mohamed_mp4-178_jpg.rf.ee8324347a3a0a594b255fd0a59fedcf.jpg: 640x640 1 Scissors, 7.2ms\n",
            "image 286/304 /content/drive/My Drive/Rock_Paper_Scissors/test/images/zoom_tests_RockPaperScissors-mohamed_mp4-187_jpg.rf.2154ec5df3d2d8bf8513669e06da5780.jpg: 640x640 1 Scissors, 7.3ms\n",
            "image 287/304 /content/drive/My Drive/Rock_Paper_Scissors/test/images/zoom_tests_RockPaperScissors-mohamed_mp4-199_jpg.rf.e41365af3ed167f0050d5d1e7425c300.jpg: 640x640 1 Scissors, 7.2ms\n",
            "image 288/304 /content/drive/My Drive/Rock_Paper_Scissors/test/images/zoom_tests_RockPaperScissors-mohamed_mp4-209_jpg.rf.e4dd83596f9cea2dfd035682050ea5a3.jpg: 640x640 1 Scissors, 8.0ms\n",
            "image 289/304 /content/drive/My Drive/Rock_Paper_Scissors/test/images/zoom_tests_RockPaperScissors-mohamed_mp4-216_jpg.rf.9bcc315b8ad5a2d871fec32702f25f76.jpg: 640x640 1 Scissors, 7.2ms\n",
            "image 290/304 /content/drive/My Drive/Rock_Paper_Scissors/test/images/zoom_tests_RockPaperScissors-mohamed_mp4-238_jpg.rf.a2ec0e42afe8e5b3b40e3def5a9b1c8e.jpg: 640x640 (no detections), 7.2ms\n",
            "image 291/304 /content/drive/My Drive/Rock_Paper_Scissors/test/images/zoom_tests_RockPaperScissors-mohamed_mp4-243_jpg.rf.818dafee2d571efd51884e8f30315bf4.jpg: 640x640 (no detections), 7.2ms\n",
            "image 292/304 /content/drive/My Drive/Rock_Paper_Scissors/test/images/zoom_tests_RockPaperScissors-mohamed_mp4-256_jpg.rf.c195df5dd565a69fb342bef482a8dab6.jpg: 640x640 (no detections), 7.2ms\n",
            "image 293/304 /content/drive/My Drive/Rock_Paper_Scissors/test/images/zoom_tests_RockPaperScissors-mohamed_mp4-27_jpg.rf.85bfca1bea8df3e5255f26112a7a0aad.jpg: 640x640 (no detections), 7.4ms\n",
            "image 294/304 /content/drive/My Drive/Rock_Paper_Scissors/test/images/zoom_tests_RockPaperScissors-mohamed_mp4-285_jpg.rf.7222941ab529a16277de5f941f652e85.jpg: 640x640 (no detections), 7.2ms\n",
            "image 295/304 /content/drive/My Drive/Rock_Paper_Scissors/test/images/zoom_tests_RockPaperScissors-mohamed_mp4-291_jpg.rf.d534df04c30fd69fdda812687610b6e2.jpg: 640x640 (no detections), 7.2ms\n",
            "image 296/304 /content/drive/My Drive/Rock_Paper_Scissors/test/images/zoom_tests_RockPaperScissors-mohamed_mp4-37_jpg.rf.2485e257dda9802813673d000ba3ad96.jpg: 640x640 1 Rock, 12.3ms\n",
            "image 297/304 /content/drive/My Drive/Rock_Paper_Scissors/test/images/zoom_tests_RockPaperScissors-mohamed_mp4-3_jpg.rf.a4a9d7c93efd42a20130d8a843713222.jpg: 640x640 (no detections), 7.4ms\n",
            "image 298/304 /content/drive/My Drive/Rock_Paper_Scissors/test/images/zoom_tests_RockPaperScissors-mohamed_mp4-42_jpg.rf.67dfbb4133d5bd1c428aec6500bbc909.jpg: 640x640 1 Rock, 7.2ms\n",
            "image 299/304 /content/drive/My Drive/Rock_Paper_Scissors/test/images/zoom_tests_RockPaperScissors-mohamed_mp4-58_jpg.rf.7c8250645d18838f38fdbbf1f2f29add.jpg: 640x640 1 Rock, 7.2ms\n",
            "image 300/304 /content/drive/My Drive/Rock_Paper_Scissors/test/images/zoom_tests_RockPaperScissors-mohamed_mp4-72_jpg.rf.ef3fa23e245712c301c395e6c0da275e.jpg: 640x640 1 Rock, 7.2ms\n",
            "image 301/304 /content/drive/My Drive/Rock_Paper_Scissors/test/images/zoom_tests_RockPaperScissors-mohamed_mp4-74_jpg.rf.c7a636a1ca423ca14dd9c46da92a1347.jpg: 640x640 1 Rock, 7.2ms\n",
            "image 302/304 /content/drive/My Drive/Rock_Paper_Scissors/test/images/zoom_tests_RockPaperScissors-mohamed_mp4-79_jpg.rf.5c30402c620144506cc2dc9bc87d3573.jpg: 640x640 1 Rock, 7.2ms\n",
            "image 303/304 /content/drive/My Drive/Rock_Paper_Scissors/test/images/zoom_tests_RockPaperScissors-mohamed_mp4-87_jpg.rf.02bbad88be3d329e5c8a4864029c4330.jpg: 640x640 1 Rock, 7.5ms\n",
            "image 304/304 /content/drive/My Drive/Rock_Paper_Scissors/test/images/zoom_tests_RockPaperScissors-mohamed_mp4-99_jpg.rf.4b5086b96398894f6916c2da8bcb8472.jpg: 640x640 1 Rock, 7.2ms\n",
            "Speed: 2.3ms preprocess, 8.8ms inference, 1.2ms postprocess per image at shape (1, 3, 640, 640)\n",
            "Results saved to \u001b[1mruns/detect/train2\u001b[0m\n"
          ]
        },
        {
          "ename": "AttributeError",
          "evalue": "'list' object has no attribute 'show'",
          "output_type": "error",
          "traceback": [
            "\u001b[0;31m---------------------------------------------------------------------------\u001b[0m",
            "\u001b[0;31mAttributeError\u001b[0m                            Traceback (most recent call last)",
            "\u001b[0;32m<ipython-input-12-59313ea72149>\u001b[0m in \u001b[0;36m<cell line: 5>\u001b[0;34m()\u001b[0m\n\u001b[1;32m      3\u001b[0m \u001b[0;34m\u001b[0m\u001b[0m\n\u001b[1;32m      4\u001b[0m \u001b[0;31m# Optionally, display the results\u001b[0m\u001b[0;34m\u001b[0m\u001b[0;34m\u001b[0m\u001b[0m\n\u001b[0;32m----> 5\u001b[0;31m \u001b[0mresults\u001b[0m\u001b[0;34m.\u001b[0m\u001b[0mshow\u001b[0m\u001b[0;34m(\u001b[0m\u001b[0;34m)\u001b[0m\u001b[0;34m\u001b[0m\u001b[0;34m\u001b[0m\u001b[0m\n\u001b[0m",
            "\u001b[0;31mAttributeError\u001b[0m: 'list' object has no attribute 'show'"
          ]
        }
      ],
      "source": [
        "# Predict on the entire test directory\n",
        "results = model.predict(source=os.path.join(test_data_dir, \"images\"), save=True)"
      ]
    },
    {
      "cell_type": "code",
      "execution_count": null,
      "metadata": {
        "colab": {
          "base_uri": "https://localhost:8080/",
          "height": 352
        },
        "id": "1EmA1O_8K5to",
        "outputId": "fceda166-8f4a-49d3-8db2-a1469446a25d"
      },
      "outputs": [
        {
          "data": {
            "image/png": "[encoded data removed]",
            "text/plain": [
              "<IPython.core.display.Image object>"
            ]
          },
          "execution_count": 20,
          "metadata": {},
          "output_type": "execute_result"
        }
      ],
      "source": [
        "from IPython.display import Image\n",
        "Image('/content/runs/detect/train/results.png')\n",
        "# Image('/content/runs/detect/train/confusion_matrix.png')"
      ]
    },
    {
      "cell_type": "code",
      "execution_count": null,
      "metadata": {
        "colab": {
          "base_uri": "https://localhost:8080/",
          "height": 281
        },
        "id": "6o5GLJMBLsw6",
        "outputId": "f3407aae-fb39-4302-e8d9-b8f3fae667a1"
      },
      "outputs": [
        {
          "name": "stdout",
          "output_type": "stream",
          "text": [
            "Ultralytics YOLOv8.2.76 🚀 Python-3.10.12 torch-2.3.1+cu121 CPU (Intel Xeon 2.00GHz)\n",
            "Model summary (fused): 168 layers, 3,006,233 parameters, 0 gradients, 8.1 GFLOPs\n",
            "\n",
            "\u001b[34m\u001b[1mPyTorch:\u001b[0m starting from '/content/runs/detect/train/weights/best.pt' with input shape (1, 3, 640, 640) BCHW and output shape(s) (1, 7, 8400) (6.0 MB)\n",
            "\n",
            "\u001b[34m\u001b[1mONNX:\u001b[0m starting export with onnx 1.16.2 opset 17...\n",
            "\u001b[34m\u001b[1mONNX:\u001b[0m export success ✅ 0.8s, saved as '/content/runs/detect/train/weights/best.onnx' (11.7 MB)\n",
            "\n",
            "Export complete (2.5s)\n",
            "Results saved to \u001b[1m/content/runs/detect/train/weights\u001b[0m\n",
            "Predict:         yolo predict task=detect model=/content/runs/detect/train/weights/best.onnx imgsz=640  \n",
            "Validate:        yolo val task=detect model=/content/runs/detect/train/weights/best.onnx imgsz=640 data=/content/drive/My Drive/Rock_Paper_Scissors/data.yaml  \n",
            "Visualize:       https://netron.app\n"
          ]
        },
        {
          "data": {
            "application/vnd.google.colaboratory.intrinsic+json": {
              "type": "string"
            },
            "text/plain": [
              "'/content/runs/detect/train/weights/best.onnx'"
            ]
          },
          "execution_count": 15,
          "metadata": {},
          "output_type": "execute_result"
        }
      ],
      "source": [
        "# Load a model\n",
        "model_best = YOLO('/content/runs/detect/train/weights/best.pt')  # load a custom trained model\n",
        "\n",
        "# Export the model\n",
        "model_best.export(format=\"onnx\")"
      ]
    },
    {
      "cell_type": "code",
      "execution_count": null,
      "metadata": {
        "colab": {
          "base_uri": "https://localhost:8080/",
          "height": 281
        },
        "id": "mN7rS_XML3I3",
        "outputId": "9e6a613a-2ead-47d1-b2d5-3e38097a9c42"
      },
      "outputs": [
        {
          "name": "stdout",
          "output_type": "stream",
          "text": [
            "Ultralytics YOLOv8.2.76 🚀 Python-3.10.12 torch-2.3.1+cu121 CPU (Intel Xeon 2.00GHz)\n",
            "Model summary (fused): 168 layers, 3,006,233 parameters, 0 gradients, 8.1 GFLOPs\n",
            "\n",
            "\u001b[34m\u001b[1mPyTorch:\u001b[0m starting from '/content/runs/detect/train/weights/last.pt' with input shape (1, 3, 640, 640) BCHW and output shape(s) (1, 7, 8400) (6.0 MB)\n",
            "\n",
            "\u001b[34m\u001b[1mONNX:\u001b[0m starting export with onnx 1.16.2 opset 17...\n",
            "\u001b[34m\u001b[1mONNX:\u001b[0m export success ✅ 1.2s, saved as '/content/runs/detect/train/weights/last.onnx' (11.7 MB)\n",
            "\n",
            "Export complete (2.7s)\n",
            "Results saved to \u001b[1m/content/runs/detect/train/weights\u001b[0m\n",
            "Predict:         yolo predict task=detect model=/content/runs/detect/train/weights/last.onnx imgsz=640  \n",
            "Validate:        yolo val task=detect model=/content/runs/detect/train/weights/last.onnx imgsz=640 data=/content/drive/My Drive/Rock_Paper_Scissors/data.yaml  \n",
            "Visualize:       https://netron.app\n"
          ]
        },
        {
          "data": {
            "application/vnd.google.colaboratory.intrinsic+json": {
              "type": "string"
            },
            "text/plain": [
              "'/content/runs/detect/train/weights/last.onnx'"
            ]
          },
          "execution_count": 16,
          "metadata": {},
          "output_type": "execute_result"
        }
      ],
      "source": [
        "# Load a model\n",
        "model_last = YOLO('/content/runs/detect/train/weights/last.pt')  # load a custom trained model\n",
        "\n",
        "# Export the model\n",
        "model_last.export(format=\"onnx\")"
      ]
    },
    {
      "cell_type": "code",
      "execution_count": null,
      "metadata": {
        "colab": {
          "base_uri": "https://localhost:8080/",
          "height": 35
        },
        "id": "DECYEU1DNV2A",
        "outputId": "d9d95ad5-f13b-4bc1-ba43-166925e2092b"
      },
      "outputs": [
        {
          "data": {
            "application/vnd.google.colaboratory.intrinsic+json": {
              "type": "string"
            },
            "text/plain": [
              "'/content/training_logs.zip'"
            ]
          },
          "execution_count": 22,
          "metadata": {},
          "output_type": "execute_result"
        }
      ],
      "source": [
        "import shutil\n",
        "\n",
        "# Save the training logs and metrics\n",
        "shutil.make_archive('/content/training_logs', 'zip', '/content/runs/detect/train/')"
      ]
    },
    {
      "cell_type": "code",
      "execution_count": null,
      "metadata": {
        "colab": {
          "base_uri": "https://localhost:8080/",
          "height": 145
        },
        "id": "nu9Ynu64m2X1",
        "outputId": "02330c90-e600-4829-e8b6-1bcae1a56fb1"
      },
      "outputs": [
        {
          "data": {
            "text/html": [
              "\n",
              "     <input type=\"file\" id=\"files-49f18d30-9f90-40a9-a3f5-0385cd4755a6\" name=\"files[]\" multiple disabled\n",
              "        style=\"border:none\" />\n",
              "     <output id=\"result-49f18d30-9f90-40a9-a3f5-0385cd4755a6\">\n",
              "      Upload widget is only available when the cell has been executed in the\n",
              "      current browser session. Please rerun this cell to enable.\n",
              "      </output>\n",
              "      <script>// Copyright 2017 Google LLC\n",
              "//\n",
              "// Licensed under the Apache License, Version 2.0 (the \"License\");\n",
              "// you may not use this file except in compliance with the License.\n",
              "// You may obtain a copy of the License at\n",
              "//\n",
              "//      http://www.apache.org/licenses/LICENSE-2.0\n",
              "//\n",
              "// Unless required by applicable law or agreed to in writing, software\n",
              "// distributed under the License is distributed on an \"AS IS\" BASIS,\n",
              "// WITHOUT WARRANTIES OR CONDITIONS OF ANY KIND, either express or implied.\n",
              "// See the License for the specific language governing permissions and\n",
              "// limitations under the License.\n",
              "\n",
              "/**\n",
              " * @fileoverview Helpers for google.colab Python module.\n",
              " */\n",
              "(function(scope) {\n",
              "function span(text, styleAttributes = {}) {\n",
              "  const element = document.createElement('span');\n",
              "  element.textContent = text;\n",
              "  for (const key of Object.keys(styleAttributes)) {\n",
              "    element.style[key] = styleAttributes[key];\n",
              "  }\n",
              "  return element;\n",
              "}\n",
              "\n",
              "// Max number of bytes which will be uploaded at a time.\n",
              "const MAX_PAYLOAD_SIZE = 100 * 1024;\n",
              "\n",
              "function _uploadFiles(inputId, outputId) {\n",
              "  const steps = uploadFilesStep(inputId, outputId);\n",
              "  const outputElement = document.getElementById(outputId);\n",
              "  // Cache steps on the outputElement to make it available for the next call\n",
              "  // to uploadFilesContinue from Python.\n",
              "  outputElement.steps = steps;\n",
              "\n",
              "  return _uploadFilesContinue(outputId);\n",
              "}\n",
              "\n",
              "// This is roughly an async generator (not supported in the browser yet),\n",
              "// where there are multiple asynchronous steps and the Python side is going\n",
              "// to poll for completion of each step.\n",
              "// This uses a Promise to block the python side on completion of each step,\n",
              "// then passes the result of the previous step as the input to the next step.\n",
              "function _uploadFilesContinue(outputId) {\n",
              "  const outputElement = document.getElementById(outputId);\n",
              "  const steps = outputElement.steps;\n",
              "\n",
              "  const next = steps.next(outputElement.lastPromiseValue);\n",
              "  return Promise.resolve(next.value.promise).then((value) => {\n",
              "    // Cache the last promise value to make it available to the next\n",
              "    // step of the generator.\n",
              "    outputElement.lastPromiseValue = value;\n",
              "    return next.value.response;\n",
              "  });\n",
              "}\n",
              "\n",
              "/**\n",
              " * Generator function which is called between each async step of the upload\n",
              " * process.\n",
              " * @param {string} inputId Element ID of the input file picker element.\n",
              " * @param {string} outputId Element ID of the output display.\n",
              " * @return {!Iterable<!Object>} Iterable of next steps.\n",
              " */\n",
              "function* uploadFilesStep(inputId, outputId) {\n",
              "  const inputElement = document.getElementById(inputId);\n",
              "  inputElement.disabled = false;\n",
              "\n",
              "  const outputElement = document.getElementById(outputId);\n",
              "  outputElement.innerHTML = '';\n",
              "\n",
              "  const pickedPromise = new Promise((resolve) => {\n",
              "    inputElement.addEventListener('change', (e) => {\n",
              "      resolve(e.target.files);\n",
              "    });\n",
              "  });\n",
              "\n",
              "  const cancel = document.createElement('button');\n",
              "  inputElement.parentElement.appendChild(cancel);\n",
              "  cancel.textContent = 'Cancel upload';\n",
              "  const cancelPromise = new Promise((resolve) => {\n",
              "    cancel.onclick = () => {\n",
              "      resolve(null);\n",
              "    };\n",
              "  });\n",
              "\n",
              "  // Wait for the user to pick the files.\n",
              "  const files = yield {\n",
              "    promise: Promise.race([pickedPromise, cancelPromise]),\n",
              "    response: {\n",
              "      action: 'starting',\n",
              "    }\n",
              "  };\n",
              "\n",
              "  cancel.remove();\n",
              "\n",
              "  // Disable the input element since further picks are not allowed.\n",
              "  inputElement.disabled = true;\n",
              "\n",
              "  if (!files) {\n",
              "    return {\n",
              "      response: {\n",
              "        action: 'complete',\n",
              "      }\n",
              "    };\n",
              "  }\n",
              "\n",
              "  for (const file of files) {\n",
              "    const li = document.createElement('li');\n",
              "    li.append(span(file.name, {fontWeight: 'bold'}));\n",
              "    li.append(span(\n",
              "        `(${file.type || 'n/a'}) - ${file.size} bytes, ` +\n",
              "        `last modified: ${\n",
              "            file.lastModifiedDate ? file.lastModifiedDate.toLocaleDateString() :\n",
              "                                    'n/a'} - `));\n",
              "    const percent = span('0% done');\n",
              "    li.appendChild(percent);\n",
              "\n",
              "    outputElement.appendChild(li);\n",
              "\n",
              "    const fileDataPromise = new Promise((resolve) => {\n",
              "      const reader = new FileReader();\n",
              "      reader.onload = (e) => {\n",
              "        resolve(e.target.result);\n",
              "      };\n",
              "      reader.readAsArrayBuffer(file);\n",
              "    });\n",
              "    // Wait for the data to be ready.\n",
              "    let fileData = yield {\n",
              "      promise: fileDataPromise,\n",
              "      response: {\n",
              "        action: 'continue',\n",
              "      }\n",
              "    };\n",
              "\n",
              "    // Use a chunked sending to avoid message size limits. See b/62115660.\n",
              "    let position = 0;\n",
              "    do {\n",
              "      const length = Math.min(fileData.byteLength - position, MAX_PAYLOAD_SIZE);\n",
              "      const chunk = new Uint8Array(fileData, position, length);\n",
              "      position += length;\n",
              "\n",
              "      const base64 = btoa(String.fromCharCode.apply(null, chunk));\n",
              "      yield {\n",
              "        response: {\n",
              "          action: 'append',\n",
              "          file: file.name,\n",
              "          data: base64,\n",
              "        },\n",
              "      };\n",
              "\n",
              "      let percentDone = fileData.byteLength === 0 ?\n",
              "          100 :\n",
              "          Math.round((position / fileData.byteLength) * 100);\n",
              "      percent.textContent = `${percentDone}% done`;\n",
              "\n",
              "    } while (position < fileData.byteLength);\n",
              "  }\n",
              "\n",
              "  // All done.\n",
              "  yield {\n",
              "    response: {\n",
              "      action: 'complete',\n",
              "    }\n",
              "  };\n",
              "}\n",
              "\n",
              "scope.google = scope.google || {};\n",
              "scope.google.colab = scope.google.colab || {};\n",
              "scope.google.colab._files = {\n",
              "  _uploadFiles,\n",
              "  _uploadFilesContinue,\n",
              "};\n",
              "})(self);\n",
              "</script> "
            ],
            "text/plain": [
              "<IPython.core.display.HTML object>"
            ]
          },
          "metadata": {},
          "output_type": "display_data"
        },
        {
          "name": "stdout",
          "output_type": "stream",
          "text": [
            "Saving ScissorsTest.jpeg to ScissorsTest (4).jpeg\n",
            "\n",
            "image 1/1 /content/ScissorsTest (4).jpeg: 640x384 1 Scissors, 77.5ms\n",
            "Speed: 17.8ms preprocess, 77.5ms inference, 819.2ms postprocess per image at shape (1, 3, 640, 384)\n"
          ]
        }
      ],
      "source": [
        "from google.colab import files\n",
        "from ultralytics import YOLO\n",
        "import os\n",
        "\n",
        "# Load the model\n",
        "model = YOLO(os.path.join(base_dir, \"model/weights/best.pt\"))  # load a custom model\n",
        "\n",
        "# Upload an image file\n",
        "uploaded = files.upload()\n",
        "\n",
        "# Extract the file name and save it to a local file\n",
        "for filename, file_content in uploaded.items():\n",
        "    # Save the uploaded file to disk\n",
        "    with open(filename, 'wb') as f:\n",
        "        f.write(file_content)\n",
        "\n",
        "    # Predict with the model\n",
        "    results = model(filename)  # predict on the image file\n",
        "\n",
        "    # Process the results\n",
        "    for result in results:\n",
        "        boxes = result.boxes  # Boxes object for bounding box outputs\n",
        "        masks = result.masks  # Masks object for segmentation masks outputs\n",
        "        keypoints = result.keypoints  # Keypoints object for pose outputs\n",
        "        probs = result.probs  # Probs object for classification outputs\n",
        "        obb = result.obb  # Oriented boxes object for OBB outputs\n",
        "\n",
        "        # Show and save the result\n",
        "        result.show()  # display to screen\n",
        "        result.save(filename=\"result.jpg\")  # save to disk"
      ]
    },
    {
      "cell_type": "markdown",
      "metadata": {},
      "source": [
        "## Export to CoreML (Experiment Purposes)"
      ]
    },
    {
      "cell_type": "code",
      "execution_count": null,
      "metadata": {
        "colab": {
          "base_uri": "https://localhost:8080/",
          "height": 923
        },
        "id": "JbznKSDHoZs5",
        "outputId": "c6a80f15-6bd0-4bd7-b4be-3c38ebb5bc31"
      },
      "outputs": [
        {
          "name": "stdout",
          "output_type": "stream",
          "text": [
            "Ultralytics YOLOv8.2.77 🚀 Python-3.10.12 torch-2.3.1+cu121 CPU (Intel Xeon 2.30GHz)\n",
            "Model summary (fused): 168 layers, 3,006,233 parameters, 0 gradients, 8.1 GFLOPs\n",
            "\n",
            "\u001b[34m\u001b[1mPyTorch:\u001b[0m starting from '/content/drive/My Drive/Rock_Paper_Scissors/model/weights/best.pt' with input shape (1, 3, 640, 640) BCHW and output shape(s) (1, 7, 8400) (6.0 MB)\n",
            "\u001b[31m\u001b[1mrequirements:\u001b[0m Ultralytics requirement ['coremltools>=7.0'] not found, attempting AutoUpdate...\n",
            "Collecting coremltools>=7.0\n",
            "  Downloading coremltools-7.2-cp310-none-manylinux1_x86_64.whl.metadata (2.4 kB)\n",
            "Requirement already satisfied: numpy>=1.14.5 in /usr/local/lib/python3.10/dist-packages (from coremltools>=7.0) (1.26.4)\n",
            "Requirement already satisfied: protobuf<=4.0.0,>=3.1.0 in /usr/local/lib/python3.10/dist-packages (from coremltools>=7.0) (3.20.3)\n",
            "Requirement already satisfied: sympy in /usr/local/lib/python3.10/dist-packages (from coremltools>=7.0) (1.13.1)\n",
            "Requirement already satisfied: tqdm in /usr/local/lib/python3.10/dist-packages (from coremltools>=7.0) (4.66.5)\n",
            "Requirement already satisfied: packaging in /usr/local/lib/python3.10/dist-packages (from coremltools>=7.0) (24.1)\n",
            "Requirement already satisfied: attrs>=21.3.0 in /usr/local/lib/python3.10/dist-packages (from coremltools>=7.0) (24.2.0)\n",
            "Collecting cattrs (from coremltools>=7.0)\n",
            "  Downloading cattrs-23.2.3-py3-none-any.whl.metadata (10 kB)\n",
            "Collecting pyaml (from coremltools>=7.0)\n",
            "  Downloading pyaml-24.7.0-py3-none-any.whl.metadata (11 kB)\n",
            "Requirement already satisfied: exceptiongroup>=1.1.1 in /usr/local/lib/python3.10/dist-packages (from cattrs->coremltools>=7.0) (1.2.2)\n",
            "Requirement already satisfied: typing-extensions!=4.6.3,>=4.1.0 in /usr/local/lib/python3.10/dist-packages (from cattrs->coremltools>=7.0) (4.12.2)\n",
            "Requirement already satisfied: PyYAML in /usr/local/lib/python3.10/dist-packages (from pyaml->coremltools>=7.0) (6.0.2)\n",
            "Requirement already satisfied: mpmath<1.4,>=1.1.0 in /usr/local/lib/python3.10/dist-packages (from sympy->coremltools>=7.0) (1.3.0)\n",
            "Downloading coremltools-7.2-cp310-none-manylinux1_x86_64.whl (1.9 MB)\n",
            "   ━━━━━━━━━━━━━━━━━━━━━━━━━━━━━━━━━━━━━━━━ 1.9/1.9 MB 29.4 MB/s eta 0:00:00\n",
            "Downloading cattrs-23.2.3-py3-none-any.whl (57 kB)\n",
            "   ━━━━━━━━━━━━━━━━━━━━━━━━━━━━━━━━━━━━━━━━ 57.5/57.5 kB 212.6 MB/s eta 0:00:00\n",
            "Downloading pyaml-24.7.0-py3-none-any.whl (24 kB)\n",
            "Installing collected packages: pyaml, cattrs, coremltools\n",
            "Successfully installed cattrs-23.2.3 coremltools-7.2 pyaml-24.7.0\n",
            "\n",
            "\u001b[31m\u001b[1mrequirements:\u001b[0m AutoUpdate success ✅ 4.3s, installed 1 package: ['coremltools>=7.0']\n",
            "\u001b[31m\u001b[1mrequirements:\u001b[0m ⚠️ \u001b[1mRestart runtime or rerun command for updates to take effect\u001b[0m\n",
            "\n"
          ]
        },
        {
          "name": "stderr",
          "output_type": "stream",
          "text": [
            "WARNING:coremltools:scikit-learn version 1.3.2 is not supported. Minimum required version: 0.17. Maximum required version: 1.1.2. Disabling scikit-learn conversion API.\n",
            "WARNING:coremltools:XGBoost version 2.1.1 has not been tested with coremltools. You may run into unexpected errors. XGBoost 1.4.2 is the most recent version that has been tested.\n",
            "WARNING:coremltools:TensorFlow version 2.17.0 has not been tested with coremltools. You may run into unexpected errors. TensorFlow 2.12.0 is the most recent version that has been tested.\n",
            "WARNING:coremltools:Torch version 2.3.1+cu121 has not been tested with coremltools. You may run into unexpected errors. Torch 2.2.0 is the most recent version that has been tested.\n",
            "WARNING:coremltools:Failed to load _MLModelProxy: No module named 'coremltools.libcoremlpython'\n"
          ]
        },
        {
          "name": "stdout",
          "output_type": "stream",
          "text": [
            "\n",
            "\u001b[34m\u001b[1mCoreML:\u001b[0m starting export with coremltools 7.2...\n"
          ]
        },
        {
          "name": "stderr",
          "output_type": "stream",
          "text": [
            "Converting PyTorch Frontend ==> MIL Ops: 100%|█████████▉| 594/595 [00:00<00:00, 3098.58 ops/s]\n",
            "Running MIL frontend_pytorch pipeline: 100%|██████████| 5/5 [00:00<00:00, 92.87 passes/s]\n",
            "Running MIL default pipeline: 100%|██████████| 78/78 [00:01<00:00, 47.55 passes/s]\n",
            "Running MIL backend_mlprogram pipeline: 100%|██████████| 12/12 [00:00<00:00, 88.22 passes/s]\n"
          ]
        },
        {
          "name": "stdout",
          "output_type": "stream",
          "text": [
            "\u001b[34m\u001b[1mCoreML:\u001b[0m export success ✅ 18.0s, saved as '/content/drive/My Drive/Rock_Paper_Scissors/model/weights/best.mlpackage' (5.9 MB)\n",
            "\n",
            "Export complete (19.9s)\n",
            "Results saved to \u001b[1m/content/drive/My Drive/Rock_Paper_Scissors/model/weights\u001b[0m\n",
            "Predict:         yolo predict task=detect model=/content/drive/My Drive/Rock_Paper_Scissors/model/weights/best.mlpackage imgsz=640  \n",
            "Validate:        yolo val task=detect model=/content/drive/My Drive/Rock_Paper_Scissors/model/weights/best.mlpackage imgsz=640 data=/content/drive/My Drive/Rock_Paper_Scissors/data.yaml  \n",
            "Visualize:       https://netron.app\n"
          ]
        },
        {
          "data": {
            "application/vnd.google.colaboratory.intrinsic+json": {
              "type": "string"
            },
            "text/plain": [
              "'/content/drive/My Drive/Rock_Paper_Scissors/model/weights/best.mlpackage'"
            ]
          },
          "execution_count": 39,
          "metadata": {},
          "output_type": "execute_result"
        }
      ],
      "source": [
        "model = YOLO(os.path.join(base_dir, \"model/weights/best.pt\"))  # load a custom model\n",
        "model.export(format=\"coreml\")"
      ]
    }
  ],
  "metadata": {
    "accelerator": "GPU",
    "colab": {
      "collapsed_sections": [
        "iW2rapzOWS9C",
        "73ppxgJ-Wa2r",
        "yl7RR2QTsHkO"
      ],
      "gpuType": "T4",
      "provenance": [],
      "toc_visible": true
    },
    "kernelspec": {
      "display_name": "Python 3",
      "name": "python3"
    },
    "language_info": {
      "name": "python"
    }
  },
  "nbformat": 4,
  "nbformat_minor": 0
}
